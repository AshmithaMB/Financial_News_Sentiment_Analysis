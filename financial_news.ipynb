{
  "cells": [
    {
      "cell_type": "markdown",
      "metadata": {
        "id": "view-in-github",
        "colab_type": "text"
      },
      "source": [
        "<a href=\"https://colab.research.google.com/github/AshmithaMB/VADER_Sentiment_Analysis/blob/main/financial_news.ipynb\" target=\"_parent\"><img src=\"https://colab.research.google.com/assets/colab-badge.svg\" alt=\"Open In Colab\"/></a>"
      ]
    },
    {
      "cell_type": "markdown",
      "metadata": {
        "id": "bhnAWFh2rYur"
      },
      "source": [
        "***Project Overview :***\n",
        "\n",
        "*The aim of this project is to develop a machine learning model that can predict the sentiment (positive, negative, or neutral) of financial news based on the text content of their descriptions and headlines.*\n",
        " \n",
        "> *By analyzing and classifying the sentiments expressed in financial news, this model can assist investors and financial professionals in making informed decisions and understanding market trends.*\n",
        "\n",
        "***Problem Statement :***\n",
        "\n",
        "*The financial market is highly influenced by news and sentiment. The ability to accurately predict the sentiment of financial news can provide valuable insights for investors, traders, and financial institutions.* \n",
        "\n",
        "> *This project aims to address the challenge of sentiment analysis in the financial domain by developing a predictive model that can classify news articles into positive, negative, or neutral sentiments based on their descriptions and headlines.*"
      ]
    },
    {
      "cell_type": "markdown",
      "metadata": {
        "id": "k_KUyZN1Lg1i"
      },
      "source": [
        "***About Dataset***\n",
        "\n",
        "\n",
        "***Context***\n",
        "> *Scraped from CNBC, the Guardian, and Reuters official websites, the headlines in these datasets reflects the overview of the U.S. economy and stock market every day for the past year to 2 years.*\n",
        "\n",
        "***Content***\n",
        "\n",
        "*The dataset contains 3 csv files*\n",
        "\n",
        "\n",
        "* ***CNBC Headlines***   *(3080, 3)*\n",
        "* *Columns  -   Time, Headlines and Description*\n",
        ">   *Data scraped from CNBC contains the headlines, last updated date, and the preview text of articles from the end of December 2017 to July 19th, 2020.*\n",
        "\n",
        "* ***Guardian Headlines***   *(17800, 2)*\n",
        "* *Columns  -   Time, Headlines*\n",
        "> *Data scraped from the Guardian Business contains the headlines and last updated date of articles from the end of December 2017 to July 19th, 2020 since the Guardian Business does not offer preview text.*\n",
        "\n",
        "\n",
        "* ***Reuters Headlines***   *(32770, 3)*\n",
        "* *Columns  -   Time, Headlines and Description*\n",
        "> *Data scraped from Reuters contains the headlines, last updated date, and the preview text of articles from the end of March 2018 to July 19th, 2020.*"
      ]
    },
    {
      "cell_type": "markdown",
      "source": [
        "##### *Importing Libraries*"
      ],
      "metadata": {
        "id": "zDXquFgRxxiQ"
      }
    },
    {
      "cell_type": "code",
      "execution_count": 1,
      "metadata": {
        "colab": {
          "base_uri": "https://localhost:8080/"
        },
        "id": "pE3JktaFgX_s",
        "outputId": "a1fd5ffd-ad87-40da-c583-d429df2f6c64"
      },
      "outputs": [
        {
          "output_type": "stream",
          "name": "stderr",
          "text": [
            "[nltk_data] Downloading package wordnet to /root/nltk_data...\n",
            "[nltk_data] Downloading package punkt to /root/nltk_data...\n",
            "[nltk_data]   Unzipping tokenizers/punkt.zip.\n",
            "[nltk_data] Downloading package stopwords to /root/nltk_data...\n",
            "[nltk_data]   Unzipping corpora/stopwords.zip.\n"
          ]
        },
        {
          "output_type": "execute_result",
          "data": {
            "text/plain": [
              "True"
            ]
          },
          "metadata": {},
          "execution_count": 1
        }
      ],
      "source": [
        "import pandas as pd\n",
        "import numpy as np\n",
        "import re \n",
        "import string\n",
        "\n",
        "from nltk.corpus import stopwords\n",
        "from nltk.tokenize import word_tokenize\n",
        "from nltk.stem import PorterStemmer, WordNetLemmatizer\n",
        "\n",
        "import nltk\n",
        "nltk.download('wordnet')\n",
        "nltk.download('punkt')\n",
        "nltk.download('stopwords')"
      ]
    },
    {
      "cell_type": "code",
      "execution_count": 2,
      "metadata": {
        "id": "NqfW4nXqCkWO"
      },
      "outputs": [],
      "source": [
        "import warnings\n",
        "warnings.filterwarnings(\"ignore\", category=UserWarning)"
      ]
    },
    {
      "cell_type": "code",
      "execution_count": 3,
      "metadata": {
        "colab": {
          "base_uri": "https://localhost:8080/"
        },
        "id": "xIqNuAQb4GXi",
        "outputId": "c6131188-3154-49e9-9e41-4d6bc2375e3f"
      },
      "outputs": [
        {
          "output_type": "stream",
          "name": "stdout",
          "text": [
            "Looking in indexes: https://pypi.org/simple, https://us-python.pkg.dev/colab-wheels/public/simple/\n",
            "Collecting catboost\n",
            "  Downloading catboost-1.2-cp310-cp310-manylinux2014_x86_64.whl (98.6 MB)\n",
            "\u001b[2K     \u001b[90m━━━━━━━━━━━━━━━━━━━━━━━━━━━━━━━━━━━━━━━━\u001b[0m \u001b[32m98.6/98.6 MB\u001b[0m \u001b[31m4.3 MB/s\u001b[0m eta \u001b[36m0:00:00\u001b[0m\n",
            "\u001b[?25hRequirement already satisfied: graphviz in /usr/local/lib/python3.10/dist-packages (from catboost) (0.20.1)\n",
            "Requirement already satisfied: matplotlib in /usr/local/lib/python3.10/dist-packages (from catboost) (3.7.1)\n",
            "Requirement already satisfied: numpy>=1.16.0 in /usr/local/lib/python3.10/dist-packages (from catboost) (1.22.4)\n",
            "Requirement already satisfied: pandas>=0.24 in /usr/local/lib/python3.10/dist-packages (from catboost) (1.5.3)\n",
            "Requirement already satisfied: scipy in /usr/local/lib/python3.10/dist-packages (from catboost) (1.10.1)\n",
            "Requirement already satisfied: plotly in /usr/local/lib/python3.10/dist-packages (from catboost) (5.13.1)\n",
            "Requirement already satisfied: six in /usr/local/lib/python3.10/dist-packages (from catboost) (1.16.0)\n",
            "Requirement already satisfied: python-dateutil>=2.8.1 in /usr/local/lib/python3.10/dist-packages (from pandas>=0.24->catboost) (2.8.2)\n",
            "Requirement already satisfied: pytz>=2020.1 in /usr/local/lib/python3.10/dist-packages (from pandas>=0.24->catboost) (2022.7.1)\n",
            "Requirement already satisfied: contourpy>=1.0.1 in /usr/local/lib/python3.10/dist-packages (from matplotlib->catboost) (1.0.7)\n",
            "Requirement already satisfied: cycler>=0.10 in /usr/local/lib/python3.10/dist-packages (from matplotlib->catboost) (0.11.0)\n",
            "Requirement already satisfied: fonttools>=4.22.0 in /usr/local/lib/python3.10/dist-packages (from matplotlib->catboost) (4.39.3)\n",
            "Requirement already satisfied: kiwisolver>=1.0.1 in /usr/local/lib/python3.10/dist-packages (from matplotlib->catboost) (1.4.4)\n",
            "Requirement already satisfied: packaging>=20.0 in /usr/local/lib/python3.10/dist-packages (from matplotlib->catboost) (23.1)\n",
            "Requirement already satisfied: pillow>=6.2.0 in /usr/local/lib/python3.10/dist-packages (from matplotlib->catboost) (8.4.0)\n",
            "Requirement already satisfied: pyparsing>=2.3.1 in /usr/local/lib/python3.10/dist-packages (from matplotlib->catboost) (3.0.9)\n",
            "Requirement already satisfied: tenacity>=6.2.0 in /usr/local/lib/python3.10/dist-packages (from plotly->catboost) (8.2.2)\n",
            "Installing collected packages: catboost\n",
            "Successfully installed catboost-1.2\n"
          ]
        }
      ],
      "source": [
        "! pip install catboost"
      ]
    },
    {
      "cell_type": "code",
      "execution_count": 4,
      "metadata": {
        "id": "B1qtW2W7gX67"
      },
      "outputs": [],
      "source": [
        "from sklearn.preprocessing import LabelEncoder\n",
        "from sklearn.linear_model import LogisticRegression\n",
        "from sklearn.naive_bayes import BernoulliNB, MultinomialNB\n",
        "from sklearn.svm import LinearSVC\n",
        "from sklearn.ensemble import GradientBoostingClassifier\n",
        "from sklearn.tree import DecisionTreeClassifier\n",
        "from sklearn.neighbors import KNeighborsClassifier\n",
        "import catboost\n",
        "from catboost import CatBoostClassifier\n",
        "from sklearn.ensemble import AdaBoostClassifier\n",
        "\n",
        "from sklearn.model_selection import train_test_split\n",
        "from sklearn.pipeline import Pipeline\n",
        "from sklearn.feature_extraction.text import TfidfVectorizer, TfidfTransformer, CountVectorizer\n",
        "from sklearn.metrics import accuracy_score, confusion_matrix, classification_report"
      ]
    },
    {
      "cell_type": "markdown",
      "metadata": {
        "id": "ijgTOXVu4QvL"
      },
      "source": [
        "### *Understanding CNBC Headlines*"
      ]
    },
    {
      "cell_type": "code",
      "execution_count": 5,
      "metadata": {
        "id": "EkHTI2fsgX1x"
      },
      "outputs": [],
      "source": [
        "cnbc_headlines = pd.read_csv(\"/content/cnbc_headlines.csv\")"
      ]
    },
    {
      "cell_type": "code",
      "execution_count": 6,
      "metadata": {
        "colab": {
          "base_uri": "https://localhost:8080/",
          "height": 206
        },
        "id": "Pel3IRW1gX0_",
        "outputId": "e4904d3f-0e95-4350-b663-dcc8f28cd71f"
      },
      "outputs": [
        {
          "output_type": "execute_result",
          "data": {
            "text/plain": [
              "                                           Headlines  \\\n",
              "0  Jim Cramer: A better way to invest in the Covi...   \n",
              "1     Cramer's lightning round: I would own Teradyne   \n",
              "2                                                NaN   \n",
              "3  Cramer's week ahead: Big week for earnings, ev...   \n",
              "4  IQ Capital CEO Keith Bliss says tech and healt...   \n",
              "\n",
              "                             Time  \\\n",
              "0   7:51  PM ET Fri, 17 July 2020   \n",
              "1   7:33  PM ET Fri, 17 July 2020   \n",
              "2                             NaN   \n",
              "3   7:25  PM ET Fri, 17 July 2020   \n",
              "4   4:24  PM ET Fri, 17 July 2020   \n",
              "\n",
              "                                         Description  \n",
              "0  \"Mad Money\" host Jim Cramer recommended buying...  \n",
              "1  \"Mad Money\" host Jim Cramer rings the lightnin...  \n",
              "2                                                NaN  \n",
              "3  \"We'll pay more for the earnings of the non-Co...  \n",
              "4  Keith Bliss, IQ Capital CEO, joins \"Closing Be...  "
            ],
            "text/html": [
              "\n",
              "  <div id=\"df-c2fb86ff-e067-4fd1-a78e-024547443186\">\n",
              "    <div class=\"colab-df-container\">\n",
              "      <div>\n",
              "<style scoped>\n",
              "    .dataframe tbody tr th:only-of-type {\n",
              "        vertical-align: middle;\n",
              "    }\n",
              "\n",
              "    .dataframe tbody tr th {\n",
              "        vertical-align: top;\n",
              "    }\n",
              "\n",
              "    .dataframe thead th {\n",
              "        text-align: right;\n",
              "    }\n",
              "</style>\n",
              "<table border=\"1\" class=\"dataframe\">\n",
              "  <thead>\n",
              "    <tr style=\"text-align: right;\">\n",
              "      <th></th>\n",
              "      <th>Headlines</th>\n",
              "      <th>Time</th>\n",
              "      <th>Description</th>\n",
              "    </tr>\n",
              "  </thead>\n",
              "  <tbody>\n",
              "    <tr>\n",
              "      <th>0</th>\n",
              "      <td>Jim Cramer: A better way to invest in the Covi...</td>\n",
              "      <td>7:51  PM ET Fri, 17 July 2020</td>\n",
              "      <td>\"Mad Money\" host Jim Cramer recommended buying...</td>\n",
              "    </tr>\n",
              "    <tr>\n",
              "      <th>1</th>\n",
              "      <td>Cramer's lightning round: I would own Teradyne</td>\n",
              "      <td>7:33  PM ET Fri, 17 July 2020</td>\n",
              "      <td>\"Mad Money\" host Jim Cramer rings the lightnin...</td>\n",
              "    </tr>\n",
              "    <tr>\n",
              "      <th>2</th>\n",
              "      <td>NaN</td>\n",
              "      <td>NaN</td>\n",
              "      <td>NaN</td>\n",
              "    </tr>\n",
              "    <tr>\n",
              "      <th>3</th>\n",
              "      <td>Cramer's week ahead: Big week for earnings, ev...</td>\n",
              "      <td>7:25  PM ET Fri, 17 July 2020</td>\n",
              "      <td>\"We'll pay more for the earnings of the non-Co...</td>\n",
              "    </tr>\n",
              "    <tr>\n",
              "      <th>4</th>\n",
              "      <td>IQ Capital CEO Keith Bliss says tech and healt...</td>\n",
              "      <td>4:24  PM ET Fri, 17 July 2020</td>\n",
              "      <td>Keith Bliss, IQ Capital CEO, joins \"Closing Be...</td>\n",
              "    </tr>\n",
              "  </tbody>\n",
              "</table>\n",
              "</div>\n",
              "      <button class=\"colab-df-convert\" onclick=\"convertToInteractive('df-c2fb86ff-e067-4fd1-a78e-024547443186')\"\n",
              "              title=\"Convert this dataframe to an interactive table.\"\n",
              "              style=\"display:none;\">\n",
              "        \n",
              "  <svg xmlns=\"http://www.w3.org/2000/svg\" height=\"24px\"viewBox=\"0 0 24 24\"\n",
              "       width=\"24px\">\n",
              "    <path d=\"M0 0h24v24H0V0z\" fill=\"none\"/>\n",
              "    <path d=\"M18.56 5.44l.94 2.06.94-2.06 2.06-.94-2.06-.94-.94-2.06-.94 2.06-2.06.94zm-11 1L8.5 8.5l.94-2.06 2.06-.94-2.06-.94L8.5 2.5l-.94 2.06-2.06.94zm10 10l.94 2.06.94-2.06 2.06-.94-2.06-.94-.94-2.06-.94 2.06-2.06.94z\"/><path d=\"M17.41 7.96l-1.37-1.37c-.4-.4-.92-.59-1.43-.59-.52 0-1.04.2-1.43.59L10.3 9.45l-7.72 7.72c-.78.78-.78 2.05 0 2.83L4 21.41c.39.39.9.59 1.41.59.51 0 1.02-.2 1.41-.59l7.78-7.78 2.81-2.81c.8-.78.8-2.07 0-2.86zM5.41 20L4 18.59l7.72-7.72 1.47 1.35L5.41 20z\"/>\n",
              "  </svg>\n",
              "      </button>\n",
              "      \n",
              "  <style>\n",
              "    .colab-df-container {\n",
              "      display:flex;\n",
              "      flex-wrap:wrap;\n",
              "      gap: 12px;\n",
              "    }\n",
              "\n",
              "    .colab-df-convert {\n",
              "      background-color: #E8F0FE;\n",
              "      border: none;\n",
              "      border-radius: 50%;\n",
              "      cursor: pointer;\n",
              "      display: none;\n",
              "      fill: #1967D2;\n",
              "      height: 32px;\n",
              "      padding: 0 0 0 0;\n",
              "      width: 32px;\n",
              "    }\n",
              "\n",
              "    .colab-df-convert:hover {\n",
              "      background-color: #E2EBFA;\n",
              "      box-shadow: 0px 1px 2px rgba(60, 64, 67, 0.3), 0px 1px 3px 1px rgba(60, 64, 67, 0.15);\n",
              "      fill: #174EA6;\n",
              "    }\n",
              "\n",
              "    [theme=dark] .colab-df-convert {\n",
              "      background-color: #3B4455;\n",
              "      fill: #D2E3FC;\n",
              "    }\n",
              "\n",
              "    [theme=dark] .colab-df-convert:hover {\n",
              "      background-color: #434B5C;\n",
              "      box-shadow: 0px 1px 3px 1px rgba(0, 0, 0, 0.15);\n",
              "      filter: drop-shadow(0px 1px 2px rgba(0, 0, 0, 0.3));\n",
              "      fill: #FFFFFF;\n",
              "    }\n",
              "  </style>\n",
              "\n",
              "      <script>\n",
              "        const buttonEl =\n",
              "          document.querySelector('#df-c2fb86ff-e067-4fd1-a78e-024547443186 button.colab-df-convert');\n",
              "        buttonEl.style.display =\n",
              "          google.colab.kernel.accessAllowed ? 'block' : 'none';\n",
              "\n",
              "        async function convertToInteractive(key) {\n",
              "          const element = document.querySelector('#df-c2fb86ff-e067-4fd1-a78e-024547443186');\n",
              "          const dataTable =\n",
              "            await google.colab.kernel.invokeFunction('convertToInteractive',\n",
              "                                                     [key], {});\n",
              "          if (!dataTable) return;\n",
              "\n",
              "          const docLinkHtml = 'Like what you see? Visit the ' +\n",
              "            '<a target=\"_blank\" href=https://colab.research.google.com/notebooks/data_table.ipynb>data table notebook</a>'\n",
              "            + ' to learn more about interactive tables.';\n",
              "          element.innerHTML = '';\n",
              "          dataTable['output_type'] = 'display_data';\n",
              "          await google.colab.output.renderOutput(dataTable, element);\n",
              "          const docLink = document.createElement('div');\n",
              "          docLink.innerHTML = docLinkHtml;\n",
              "          element.appendChild(docLink);\n",
              "        }\n",
              "      </script>\n",
              "    </div>\n",
              "  </div>\n",
              "  "
            ]
          },
          "metadata": {},
          "execution_count": 6
        }
      ],
      "source": [
        "cnbc_headlines.head()"
      ]
    },
    {
      "cell_type": "code",
      "execution_count": 7,
      "metadata": {
        "colab": {
          "base_uri": "https://localhost:8080/"
        },
        "id": "7MY607w2gXxS",
        "outputId": "e04256c4-da06-4125-fb1d-2d840ffb77f4"
      },
      "outputs": [
        {
          "output_type": "execute_result",
          "data": {
            "text/plain": [
              "(3080, 3)"
            ]
          },
          "metadata": {},
          "execution_count": 7
        }
      ],
      "source": [
        "cnbc_headlines.shape"
      ]
    },
    {
      "cell_type": "code",
      "execution_count": 8,
      "metadata": {
        "colab": {
          "base_uri": "https://localhost:8080/"
        },
        "id": "fGyvfk-ZgXwN",
        "outputId": "5375993d-ad38-4ab7-dad7-2c7ab6620614"
      },
      "outputs": [
        {
          "output_type": "execute_result",
          "data": {
            "text/plain": [
              "Index(['Headlines', 'Time', 'Description'], dtype='object')"
            ]
          },
          "metadata": {},
          "execution_count": 8
        }
      ],
      "source": [
        "cnbc_headlines.columns"
      ]
    },
    {
      "cell_type": "code",
      "execution_count": 9,
      "metadata": {
        "colab": {
          "base_uri": "https://localhost:8080/"
        },
        "id": "kFiwMd7BgXr4",
        "outputId": "99b0ee4b-898d-4a95-e958-f853b1e9890b"
      },
      "outputs": [
        {
          "output_type": "stream",
          "name": "stdout",
          "text": [
            "<class 'pandas.core.frame.DataFrame'>\n",
            "RangeIndex: 3080 entries, 0 to 3079\n",
            "Data columns (total 3 columns):\n",
            " #   Column       Non-Null Count  Dtype \n",
            "---  ------       --------------  ----- \n",
            " 0   Headlines    2800 non-null   object\n",
            " 1   Time         2800 non-null   object\n",
            " 2   Description  2800 non-null   object\n",
            "dtypes: object(3)\n",
            "memory usage: 72.3+ KB\n"
          ]
        }
      ],
      "source": [
        "cnbc_headlines.info()"
      ]
    },
    {
      "cell_type": "markdown",
      "metadata": {
        "id": "YRLZs_Jg8T3r"
      },
      "source": [
        "*Addressing the Missing Values*"
      ]
    },
    {
      "cell_type": "code",
      "execution_count": 10,
      "metadata": {
        "colab": {
          "base_uri": "https://localhost:8080/"
        },
        "id": "oST2tsU9gXrE",
        "outputId": "7a632eab-3baf-417a-eb70-2eeb3752ae85"
      },
      "outputs": [
        {
          "output_type": "execute_result",
          "data": {
            "text/plain": [
              "Headlines      280\n",
              "Time           280\n",
              "Description    280\n",
              "dtype: int64"
            ]
          },
          "metadata": {},
          "execution_count": 10
        }
      ],
      "source": [
        "cnbc_headlines.isnull().sum()"
      ]
    },
    {
      "cell_type": "code",
      "execution_count": 11,
      "metadata": {
        "id": "PdlYoGUfgXnE"
      },
      "outputs": [],
      "source": [
        "cnbc_headlines = cnbc_headlines.dropna()"
      ]
    },
    {
      "cell_type": "code",
      "execution_count": 12,
      "metadata": {
        "colab": {
          "base_uri": "https://localhost:8080/",
          "height": 423
        },
        "id": "cD2J5VmmgXid",
        "outputId": "1e6f8c21-4bfd-4063-db0f-67b876394260"
      },
      "outputs": [
        {
          "output_type": "execute_result",
          "data": {
            "text/plain": [
              "                                              Headlines  \\\n",
              "0     Jim Cramer: A better way to invest in the Covi...   \n",
              "1        Cramer's lightning round: I would own Teradyne   \n",
              "2     Cramer's week ahead: Big week for earnings, ev...   \n",
              "3     IQ Capital CEO Keith Bliss says tech and healt...   \n",
              "4     Wall Street delivered the 'kind of pullback I'...   \n",
              "...                                                 ...   \n",
              "2785                       Markets lack Christmas cheer   \n",
              "2786  Cramer Remix: The biggest mistake you can make...   \n",
              "2787  Cramer says owning too many stocks and too lit...   \n",
              "2788  Cramer: I helped investors through the 2010 fl...   \n",
              "2789  Cramer: Never buy a stock all at once — you'll...   \n",
              "\n",
              "                                Time  \\\n",
              "0      7:51  PM ET Fri, 17 July 2020   \n",
              "1      7:33  PM ET Fri, 17 July 2020   \n",
              "2      7:25  PM ET Fri, 17 July 2020   \n",
              "3      4:24  PM ET Fri, 17 July 2020   \n",
              "4      7:36  PM ET Thu, 16 July 2020   \n",
              "...                              ...   \n",
              "2785   10:15  AM ET Tue, 26 Dec 2017   \n",
              "2786  11:12  AM ET Thu, 20 Sept 2018   \n",
              "2787    7:07  PM ET Fri, 22 Dec 2017   \n",
              "2788    7:07  PM ET Fri, 22 Dec 2017   \n",
              "2789    6:52  PM ET Fri, 22 Dec 2017   \n",
              "\n",
              "                                            Description  \n",
              "0     \"Mad Money\" host Jim Cramer recommended buying...  \n",
              "1     \"Mad Money\" host Jim Cramer rings the lightnin...  \n",
              "2     \"We'll pay more for the earnings of the non-Co...  \n",
              "3     Keith Bliss, IQ Capital CEO, joins \"Closing Be...  \n",
              "4     \"Look for the stocks of high-quality companies...  \n",
              "...                                                 ...  \n",
              "2785  According to Kensho, here's how markets have f...  \n",
              "2786  Jim Cramer revealed his top rule when it comes...  \n",
              "2787  Jim Cramer broke down why owning fewer stocks ...  \n",
              "2788  Jim Cramer built on his \"nobody ever made a di...  \n",
              "2789  Jim Cramer doubled down on his key investing r...  \n",
              "\n",
              "[2790 rows x 3 columns]"
            ],
            "text/html": [
              "\n",
              "  <div id=\"df-cdb8b945-edfb-4c01-8ee3-4ac22ef45fcf\">\n",
              "    <div class=\"colab-df-container\">\n",
              "      <div>\n",
              "<style scoped>\n",
              "    .dataframe tbody tr th:only-of-type {\n",
              "        vertical-align: middle;\n",
              "    }\n",
              "\n",
              "    .dataframe tbody tr th {\n",
              "        vertical-align: top;\n",
              "    }\n",
              "\n",
              "    .dataframe thead th {\n",
              "        text-align: right;\n",
              "    }\n",
              "</style>\n",
              "<table border=\"1\" class=\"dataframe\">\n",
              "  <thead>\n",
              "    <tr style=\"text-align: right;\">\n",
              "      <th></th>\n",
              "      <th>Headlines</th>\n",
              "      <th>Time</th>\n",
              "      <th>Description</th>\n",
              "    </tr>\n",
              "  </thead>\n",
              "  <tbody>\n",
              "    <tr>\n",
              "      <th>0</th>\n",
              "      <td>Jim Cramer: A better way to invest in the Covi...</td>\n",
              "      <td>7:51  PM ET Fri, 17 July 2020</td>\n",
              "      <td>\"Mad Money\" host Jim Cramer recommended buying...</td>\n",
              "    </tr>\n",
              "    <tr>\n",
              "      <th>1</th>\n",
              "      <td>Cramer's lightning round: I would own Teradyne</td>\n",
              "      <td>7:33  PM ET Fri, 17 July 2020</td>\n",
              "      <td>\"Mad Money\" host Jim Cramer rings the lightnin...</td>\n",
              "    </tr>\n",
              "    <tr>\n",
              "      <th>2</th>\n",
              "      <td>Cramer's week ahead: Big week for earnings, ev...</td>\n",
              "      <td>7:25  PM ET Fri, 17 July 2020</td>\n",
              "      <td>\"We'll pay more for the earnings of the non-Co...</td>\n",
              "    </tr>\n",
              "    <tr>\n",
              "      <th>3</th>\n",
              "      <td>IQ Capital CEO Keith Bliss says tech and healt...</td>\n",
              "      <td>4:24  PM ET Fri, 17 July 2020</td>\n",
              "      <td>Keith Bliss, IQ Capital CEO, joins \"Closing Be...</td>\n",
              "    </tr>\n",
              "    <tr>\n",
              "      <th>4</th>\n",
              "      <td>Wall Street delivered the 'kind of pullback I'...</td>\n",
              "      <td>7:36  PM ET Thu, 16 July 2020</td>\n",
              "      <td>\"Look for the stocks of high-quality companies...</td>\n",
              "    </tr>\n",
              "    <tr>\n",
              "      <th>...</th>\n",
              "      <td>...</td>\n",
              "      <td>...</td>\n",
              "      <td>...</td>\n",
              "    </tr>\n",
              "    <tr>\n",
              "      <th>2785</th>\n",
              "      <td>Markets lack Christmas cheer</td>\n",
              "      <td>10:15  AM ET Tue, 26 Dec 2017</td>\n",
              "      <td>According to Kensho, here's how markets have f...</td>\n",
              "    </tr>\n",
              "    <tr>\n",
              "      <th>2786</th>\n",
              "      <td>Cramer Remix: The biggest mistake you can make...</td>\n",
              "      <td>11:12  AM ET Thu, 20 Sept 2018</td>\n",
              "      <td>Jim Cramer revealed his top rule when it comes...</td>\n",
              "    </tr>\n",
              "    <tr>\n",
              "      <th>2787</th>\n",
              "      <td>Cramer says owning too many stocks and too lit...</td>\n",
              "      <td>7:07  PM ET Fri, 22 Dec 2017</td>\n",
              "      <td>Jim Cramer broke down why owning fewer stocks ...</td>\n",
              "    </tr>\n",
              "    <tr>\n",
              "      <th>2788</th>\n",
              "      <td>Cramer: I helped investors through the 2010 fl...</td>\n",
              "      <td>7:07  PM ET Fri, 22 Dec 2017</td>\n",
              "      <td>Jim Cramer built on his \"nobody ever made a di...</td>\n",
              "    </tr>\n",
              "    <tr>\n",
              "      <th>2789</th>\n",
              "      <td>Cramer: Never buy a stock all at once — you'll...</td>\n",
              "      <td>6:52  PM ET Fri, 22 Dec 2017</td>\n",
              "      <td>Jim Cramer doubled down on his key investing r...</td>\n",
              "    </tr>\n",
              "  </tbody>\n",
              "</table>\n",
              "<p>2790 rows × 3 columns</p>\n",
              "</div>\n",
              "      <button class=\"colab-df-convert\" onclick=\"convertToInteractive('df-cdb8b945-edfb-4c01-8ee3-4ac22ef45fcf')\"\n",
              "              title=\"Convert this dataframe to an interactive table.\"\n",
              "              style=\"display:none;\">\n",
              "        \n",
              "  <svg xmlns=\"http://www.w3.org/2000/svg\" height=\"24px\"viewBox=\"0 0 24 24\"\n",
              "       width=\"24px\">\n",
              "    <path d=\"M0 0h24v24H0V0z\" fill=\"none\"/>\n",
              "    <path d=\"M18.56 5.44l.94 2.06.94-2.06 2.06-.94-2.06-.94-.94-2.06-.94 2.06-2.06.94zm-11 1L8.5 8.5l.94-2.06 2.06-.94-2.06-.94L8.5 2.5l-.94 2.06-2.06.94zm10 10l.94 2.06.94-2.06 2.06-.94-2.06-.94-.94-2.06-.94 2.06-2.06.94z\"/><path d=\"M17.41 7.96l-1.37-1.37c-.4-.4-.92-.59-1.43-.59-.52 0-1.04.2-1.43.59L10.3 9.45l-7.72 7.72c-.78.78-.78 2.05 0 2.83L4 21.41c.39.39.9.59 1.41.59.51 0 1.02-.2 1.41-.59l7.78-7.78 2.81-2.81c.8-.78.8-2.07 0-2.86zM5.41 20L4 18.59l7.72-7.72 1.47 1.35L5.41 20z\"/>\n",
              "  </svg>\n",
              "      </button>\n",
              "      \n",
              "  <style>\n",
              "    .colab-df-container {\n",
              "      display:flex;\n",
              "      flex-wrap:wrap;\n",
              "      gap: 12px;\n",
              "    }\n",
              "\n",
              "    .colab-df-convert {\n",
              "      background-color: #E8F0FE;\n",
              "      border: none;\n",
              "      border-radius: 50%;\n",
              "      cursor: pointer;\n",
              "      display: none;\n",
              "      fill: #1967D2;\n",
              "      height: 32px;\n",
              "      padding: 0 0 0 0;\n",
              "      width: 32px;\n",
              "    }\n",
              "\n",
              "    .colab-df-convert:hover {\n",
              "      background-color: #E2EBFA;\n",
              "      box-shadow: 0px 1px 2px rgba(60, 64, 67, 0.3), 0px 1px 3px 1px rgba(60, 64, 67, 0.15);\n",
              "      fill: #174EA6;\n",
              "    }\n",
              "\n",
              "    [theme=dark] .colab-df-convert {\n",
              "      background-color: #3B4455;\n",
              "      fill: #D2E3FC;\n",
              "    }\n",
              "\n",
              "    [theme=dark] .colab-df-convert:hover {\n",
              "      background-color: #434B5C;\n",
              "      box-shadow: 0px 1px 3px 1px rgba(0, 0, 0, 0.15);\n",
              "      filter: drop-shadow(0px 1px 2px rgba(0, 0, 0, 0.3));\n",
              "      fill: #FFFFFF;\n",
              "    }\n",
              "  </style>\n",
              "\n",
              "      <script>\n",
              "        const buttonEl =\n",
              "          document.querySelector('#df-cdb8b945-edfb-4c01-8ee3-4ac22ef45fcf button.colab-df-convert');\n",
              "        buttonEl.style.display =\n",
              "          google.colab.kernel.accessAllowed ? 'block' : 'none';\n",
              "\n",
              "        async function convertToInteractive(key) {\n",
              "          const element = document.querySelector('#df-cdb8b945-edfb-4c01-8ee3-4ac22ef45fcf');\n",
              "          const dataTable =\n",
              "            await google.colab.kernel.invokeFunction('convertToInteractive',\n",
              "                                                     [key], {});\n",
              "          if (!dataTable) return;\n",
              "\n",
              "          const docLinkHtml = 'Like what you see? Visit the ' +\n",
              "            '<a target=\"_blank\" href=https://colab.research.google.com/notebooks/data_table.ipynb>data table notebook</a>'\n",
              "            + ' to learn more about interactive tables.';\n",
              "          element.innerHTML = '';\n",
              "          dataTable['output_type'] = 'display_data';\n",
              "          await google.colab.output.renderOutput(dataTable, element);\n",
              "          const docLink = document.createElement('div');\n",
              "          docLink.innerHTML = docLinkHtml;\n",
              "          element.appendChild(docLink);\n",
              "        }\n",
              "      </script>\n",
              "    </div>\n",
              "  </div>\n",
              "  "
            ]
          },
          "metadata": {},
          "execution_count": 12
        }
      ],
      "source": [
        "cnbc_headlines = cnbc_headlines.drop_duplicates(subset = ['Headlines', 'Description'], keep = 'first')\n",
        "cnbc_headlines.reset_index(drop = True, inplace = True)\n",
        "cnbc_headlines"
      ]
    },
    {
      "cell_type": "code",
      "execution_count": 13,
      "metadata": {
        "colab": {
          "base_uri": "https://localhost:8080/"
        },
        "id": "WD5tcCcagXhU",
        "outputId": "d48bf14d-6ea2-4f4c-fb41-ac00d000f697"
      },
      "outputs": [
        {
          "output_type": "execute_result",
          "data": {
            "text/plain": [
              "(2790, 3)"
            ]
          },
          "metadata": {},
          "execution_count": 13
        }
      ],
      "source": [
        "cnbc_headlines.shape"
      ]
    },
    {
      "cell_type": "markdown",
      "metadata": {
        "id": "JZFVAsUf53Vv"
      },
      "source": [
        "### *Understanding Gaurdian Headlines*"
      ]
    },
    {
      "cell_type": "code",
      "execution_count": 14,
      "metadata": {
        "id": "st0vypi5gXTz"
      },
      "outputs": [],
      "source": [
        "gaurdian_headlines = pd.read_csv(\"/content/guardian_headlines.csv\")"
      ]
    },
    {
      "cell_type": "code",
      "execution_count": 15,
      "metadata": {
        "colab": {
          "base_uri": "https://localhost:8080/",
          "height": 206
        },
        "id": "O15tPmH1gXS5",
        "outputId": "1bff3002-8f26-46fc-b31e-c1fd4c7e92b0"
      },
      "outputs": [
        {
          "output_type": "execute_result",
          "data": {
            "text/plain": [
              "        Time                                          Headlines\n",
              "0  18-Jul-20   Johnson is asking Santa for a Christmas recovery\n",
              "1  18-Jul-20  ‘I now fear the worst’: four grim tales of wor...\n",
              "2  18-Jul-20  Five key areas Sunak must tackle to serve up e...\n",
              "3  18-Jul-20  Covid-19 leaves firms ‘fatally ill-prepared’ f...\n",
              "4  18-Jul-20  The Week in Patriarchy  \\n\\n\\n  Bacardi's 'lad..."
            ],
            "text/html": [
              "\n",
              "  <div id=\"df-6b93a534-32a2-4cba-ba16-e9057b34e349\">\n",
              "    <div class=\"colab-df-container\">\n",
              "      <div>\n",
              "<style scoped>\n",
              "    .dataframe tbody tr th:only-of-type {\n",
              "        vertical-align: middle;\n",
              "    }\n",
              "\n",
              "    .dataframe tbody tr th {\n",
              "        vertical-align: top;\n",
              "    }\n",
              "\n",
              "    .dataframe thead th {\n",
              "        text-align: right;\n",
              "    }\n",
              "</style>\n",
              "<table border=\"1\" class=\"dataframe\">\n",
              "  <thead>\n",
              "    <tr style=\"text-align: right;\">\n",
              "      <th></th>\n",
              "      <th>Time</th>\n",
              "      <th>Headlines</th>\n",
              "    </tr>\n",
              "  </thead>\n",
              "  <tbody>\n",
              "    <tr>\n",
              "      <th>0</th>\n",
              "      <td>18-Jul-20</td>\n",
              "      <td>Johnson is asking Santa for a Christmas recovery</td>\n",
              "    </tr>\n",
              "    <tr>\n",
              "      <th>1</th>\n",
              "      <td>18-Jul-20</td>\n",
              "      <td>‘I now fear the worst’: four grim tales of wor...</td>\n",
              "    </tr>\n",
              "    <tr>\n",
              "      <th>2</th>\n",
              "      <td>18-Jul-20</td>\n",
              "      <td>Five key areas Sunak must tackle to serve up e...</td>\n",
              "    </tr>\n",
              "    <tr>\n",
              "      <th>3</th>\n",
              "      <td>18-Jul-20</td>\n",
              "      <td>Covid-19 leaves firms ‘fatally ill-prepared’ f...</td>\n",
              "    </tr>\n",
              "    <tr>\n",
              "      <th>4</th>\n",
              "      <td>18-Jul-20</td>\n",
              "      <td>The Week in Patriarchy  \\n\\n\\n  Bacardi's 'lad...</td>\n",
              "    </tr>\n",
              "  </tbody>\n",
              "</table>\n",
              "</div>\n",
              "      <button class=\"colab-df-convert\" onclick=\"convertToInteractive('df-6b93a534-32a2-4cba-ba16-e9057b34e349')\"\n",
              "              title=\"Convert this dataframe to an interactive table.\"\n",
              "              style=\"display:none;\">\n",
              "        \n",
              "  <svg xmlns=\"http://www.w3.org/2000/svg\" height=\"24px\"viewBox=\"0 0 24 24\"\n",
              "       width=\"24px\">\n",
              "    <path d=\"M0 0h24v24H0V0z\" fill=\"none\"/>\n",
              "    <path d=\"M18.56 5.44l.94 2.06.94-2.06 2.06-.94-2.06-.94-.94-2.06-.94 2.06-2.06.94zm-11 1L8.5 8.5l.94-2.06 2.06-.94-2.06-.94L8.5 2.5l-.94 2.06-2.06.94zm10 10l.94 2.06.94-2.06 2.06-.94-2.06-.94-.94-2.06-.94 2.06-2.06.94z\"/><path d=\"M17.41 7.96l-1.37-1.37c-.4-.4-.92-.59-1.43-.59-.52 0-1.04.2-1.43.59L10.3 9.45l-7.72 7.72c-.78.78-.78 2.05 0 2.83L4 21.41c.39.39.9.59 1.41.59.51 0 1.02-.2 1.41-.59l7.78-7.78 2.81-2.81c.8-.78.8-2.07 0-2.86zM5.41 20L4 18.59l7.72-7.72 1.47 1.35L5.41 20z\"/>\n",
              "  </svg>\n",
              "      </button>\n",
              "      \n",
              "  <style>\n",
              "    .colab-df-container {\n",
              "      display:flex;\n",
              "      flex-wrap:wrap;\n",
              "      gap: 12px;\n",
              "    }\n",
              "\n",
              "    .colab-df-convert {\n",
              "      background-color: #E8F0FE;\n",
              "      border: none;\n",
              "      border-radius: 50%;\n",
              "      cursor: pointer;\n",
              "      display: none;\n",
              "      fill: #1967D2;\n",
              "      height: 32px;\n",
              "      padding: 0 0 0 0;\n",
              "      width: 32px;\n",
              "    }\n",
              "\n",
              "    .colab-df-convert:hover {\n",
              "      background-color: #E2EBFA;\n",
              "      box-shadow: 0px 1px 2px rgba(60, 64, 67, 0.3), 0px 1px 3px 1px rgba(60, 64, 67, 0.15);\n",
              "      fill: #174EA6;\n",
              "    }\n",
              "\n",
              "    [theme=dark] .colab-df-convert {\n",
              "      background-color: #3B4455;\n",
              "      fill: #D2E3FC;\n",
              "    }\n",
              "\n",
              "    [theme=dark] .colab-df-convert:hover {\n",
              "      background-color: #434B5C;\n",
              "      box-shadow: 0px 1px 3px 1px rgba(0, 0, 0, 0.15);\n",
              "      filter: drop-shadow(0px 1px 2px rgba(0, 0, 0, 0.3));\n",
              "      fill: #FFFFFF;\n",
              "    }\n",
              "  </style>\n",
              "\n",
              "      <script>\n",
              "        const buttonEl =\n",
              "          document.querySelector('#df-6b93a534-32a2-4cba-ba16-e9057b34e349 button.colab-df-convert');\n",
              "        buttonEl.style.display =\n",
              "          google.colab.kernel.accessAllowed ? 'block' : 'none';\n",
              "\n",
              "        async function convertToInteractive(key) {\n",
              "          const element = document.querySelector('#df-6b93a534-32a2-4cba-ba16-e9057b34e349');\n",
              "          const dataTable =\n",
              "            await google.colab.kernel.invokeFunction('convertToInteractive',\n",
              "                                                     [key], {});\n",
              "          if (!dataTable) return;\n",
              "\n",
              "          const docLinkHtml = 'Like what you see? Visit the ' +\n",
              "            '<a target=\"_blank\" href=https://colab.research.google.com/notebooks/data_table.ipynb>data table notebook</a>'\n",
              "            + ' to learn more about interactive tables.';\n",
              "          element.innerHTML = '';\n",
              "          dataTable['output_type'] = 'display_data';\n",
              "          await google.colab.output.renderOutput(dataTable, element);\n",
              "          const docLink = document.createElement('div');\n",
              "          docLink.innerHTML = docLinkHtml;\n",
              "          element.appendChild(docLink);\n",
              "        }\n",
              "      </script>\n",
              "    </div>\n",
              "  </div>\n",
              "  "
            ]
          },
          "metadata": {},
          "execution_count": 15
        }
      ],
      "source": [
        "gaurdian_headlines.head()"
      ]
    },
    {
      "cell_type": "code",
      "execution_count": 16,
      "metadata": {
        "colab": {
          "base_uri": "https://localhost:8080/"
        },
        "id": "09OSuHhRgXNf",
        "outputId": "40d44454-fdfe-424d-abcf-782a4af48917"
      },
      "outputs": [
        {
          "output_type": "execute_result",
          "data": {
            "text/plain": [
              "(17800, 2)"
            ]
          },
          "metadata": {},
          "execution_count": 16
        }
      ],
      "source": [
        "gaurdian_headlines.shape"
      ]
    },
    {
      "cell_type": "code",
      "execution_count": 17,
      "metadata": {
        "colab": {
          "base_uri": "https://localhost:8080/"
        },
        "id": "7gKFN26whZnD",
        "outputId": "3c2687f2-c753-4a01-b884-222ceeea4ddb"
      },
      "outputs": [
        {
          "output_type": "execute_result",
          "data": {
            "text/plain": [
              "Index(['Time', 'Headlines'], dtype='object')"
            ]
          },
          "metadata": {},
          "execution_count": 17
        }
      ],
      "source": [
        "gaurdian_headlines.columns"
      ]
    },
    {
      "cell_type": "code",
      "execution_count": 18,
      "metadata": {
        "colab": {
          "base_uri": "https://localhost:8080/"
        },
        "id": "5fplFio3hZmG",
        "outputId": "3cc10841-4979-4cac-dae7-26d4854911d6"
      },
      "outputs": [
        {
          "output_type": "stream",
          "name": "stdout",
          "text": [
            "<class 'pandas.core.frame.DataFrame'>\n",
            "RangeIndex: 17800 entries, 0 to 17799\n",
            "Data columns (total 2 columns):\n",
            " #   Column     Non-Null Count  Dtype \n",
            "---  ------     --------------  ----- \n",
            " 0   Time       17800 non-null  object\n",
            " 1   Headlines  17800 non-null  object\n",
            "dtypes: object(2)\n",
            "memory usage: 278.2+ KB\n"
          ]
        }
      ],
      "source": [
        "gaurdian_headlines.info()"
      ]
    },
    {
      "cell_type": "code",
      "execution_count": 19,
      "metadata": {
        "colab": {
          "base_uri": "https://localhost:8080/"
        },
        "id": "qaWAwEazhZh8",
        "outputId": "8a1d175f-3408-4357-ac04-fbba9fcde39f"
      },
      "outputs": [
        {
          "output_type": "execute_result",
          "data": {
            "text/plain": [
              "Time         0\n",
              "Headlines    0\n",
              "dtype: int64"
            ]
          },
          "metadata": {},
          "execution_count": 19
        }
      ],
      "source": [
        "gaurdian_headlines.isnull().sum()"
      ]
    },
    {
      "cell_type": "markdown",
      "source": [
        "###### *Addressing Duplicate Entries*"
      ],
      "metadata": {
        "id": "fd2Q99-9x9y3"
      }
    },
    {
      "cell_type": "code",
      "execution_count": 20,
      "metadata": {
        "colab": {
          "base_uri": "https://localhost:8080/",
          "height": 423
        },
        "id": "NBtOooYChZg9",
        "outputId": "53a2c2a5-0551-44a6-aa66-233873410d45"
      },
      "outputs": [
        {
          "output_type": "execute_result",
          "data": {
            "text/plain": [
              "            Time                                          Headlines\n",
              "0      18-Jul-20   Johnson is asking Santa for a Christmas recovery\n",
              "1      18-Jul-20  ‘I now fear the worst’: four grim tales of wor...\n",
              "2      18-Jul-20  Five key areas Sunak must tackle to serve up e...\n",
              "3      18-Jul-20  Covid-19 leaves firms ‘fatally ill-prepared’ f...\n",
              "4      18-Jul-20  The Week in Patriarchy  \\n\\n\\n  Bacardi's 'lad...\n",
              "...          ...                                                ...\n",
              "17790  17-Dec-17  How investing in solar energy can create a bri...\n",
              "17791  17-Dec-17     Poundland suppliers hit by insurance downgrade\n",
              "17792  17-Dec-17  Cryptocurrencies: City watchdog to investigate...\n",
              "17793  17-Dec-17  Unilever sells household name spreads to KKR f...\n",
              "17794  17-Dec-17  The Guardian view on Ryanair’s model: a union-...\n",
              "\n",
              "[17795 rows x 2 columns]"
            ],
            "text/html": [
              "\n",
              "  <div id=\"df-a20de81a-0f7a-466b-b6d9-ea8ebc1aa2dd\">\n",
              "    <div class=\"colab-df-container\">\n",
              "      <div>\n",
              "<style scoped>\n",
              "    .dataframe tbody tr th:only-of-type {\n",
              "        vertical-align: middle;\n",
              "    }\n",
              "\n",
              "    .dataframe tbody tr th {\n",
              "        vertical-align: top;\n",
              "    }\n",
              "\n",
              "    .dataframe thead th {\n",
              "        text-align: right;\n",
              "    }\n",
              "</style>\n",
              "<table border=\"1\" class=\"dataframe\">\n",
              "  <thead>\n",
              "    <tr style=\"text-align: right;\">\n",
              "      <th></th>\n",
              "      <th>Time</th>\n",
              "      <th>Headlines</th>\n",
              "    </tr>\n",
              "  </thead>\n",
              "  <tbody>\n",
              "    <tr>\n",
              "      <th>0</th>\n",
              "      <td>18-Jul-20</td>\n",
              "      <td>Johnson is asking Santa for a Christmas recovery</td>\n",
              "    </tr>\n",
              "    <tr>\n",
              "      <th>1</th>\n",
              "      <td>18-Jul-20</td>\n",
              "      <td>‘I now fear the worst’: four grim tales of wor...</td>\n",
              "    </tr>\n",
              "    <tr>\n",
              "      <th>2</th>\n",
              "      <td>18-Jul-20</td>\n",
              "      <td>Five key areas Sunak must tackle to serve up e...</td>\n",
              "    </tr>\n",
              "    <tr>\n",
              "      <th>3</th>\n",
              "      <td>18-Jul-20</td>\n",
              "      <td>Covid-19 leaves firms ‘fatally ill-prepared’ f...</td>\n",
              "    </tr>\n",
              "    <tr>\n",
              "      <th>4</th>\n",
              "      <td>18-Jul-20</td>\n",
              "      <td>The Week in Patriarchy  \\n\\n\\n  Bacardi's 'lad...</td>\n",
              "    </tr>\n",
              "    <tr>\n",
              "      <th>...</th>\n",
              "      <td>...</td>\n",
              "      <td>...</td>\n",
              "    </tr>\n",
              "    <tr>\n",
              "      <th>17790</th>\n",
              "      <td>17-Dec-17</td>\n",
              "      <td>How investing in solar energy can create a bri...</td>\n",
              "    </tr>\n",
              "    <tr>\n",
              "      <th>17791</th>\n",
              "      <td>17-Dec-17</td>\n",
              "      <td>Poundland suppliers hit by insurance downgrade</td>\n",
              "    </tr>\n",
              "    <tr>\n",
              "      <th>17792</th>\n",
              "      <td>17-Dec-17</td>\n",
              "      <td>Cryptocurrencies: City watchdog to investigate...</td>\n",
              "    </tr>\n",
              "    <tr>\n",
              "      <th>17793</th>\n",
              "      <td>17-Dec-17</td>\n",
              "      <td>Unilever sells household name spreads to KKR f...</td>\n",
              "    </tr>\n",
              "    <tr>\n",
              "      <th>17794</th>\n",
              "      <td>17-Dec-17</td>\n",
              "      <td>The Guardian view on Ryanair’s model: a union-...</td>\n",
              "    </tr>\n",
              "  </tbody>\n",
              "</table>\n",
              "<p>17795 rows × 2 columns</p>\n",
              "</div>\n",
              "      <button class=\"colab-df-convert\" onclick=\"convertToInteractive('df-a20de81a-0f7a-466b-b6d9-ea8ebc1aa2dd')\"\n",
              "              title=\"Convert this dataframe to an interactive table.\"\n",
              "              style=\"display:none;\">\n",
              "        \n",
              "  <svg xmlns=\"http://www.w3.org/2000/svg\" height=\"24px\"viewBox=\"0 0 24 24\"\n",
              "       width=\"24px\">\n",
              "    <path d=\"M0 0h24v24H0V0z\" fill=\"none\"/>\n",
              "    <path d=\"M18.56 5.44l.94 2.06.94-2.06 2.06-.94-2.06-.94-.94-2.06-.94 2.06-2.06.94zm-11 1L8.5 8.5l.94-2.06 2.06-.94-2.06-.94L8.5 2.5l-.94 2.06-2.06.94zm10 10l.94 2.06.94-2.06 2.06-.94-2.06-.94-.94-2.06-.94 2.06-2.06.94z\"/><path d=\"M17.41 7.96l-1.37-1.37c-.4-.4-.92-.59-1.43-.59-.52 0-1.04.2-1.43.59L10.3 9.45l-7.72 7.72c-.78.78-.78 2.05 0 2.83L4 21.41c.39.39.9.59 1.41.59.51 0 1.02-.2 1.41-.59l7.78-7.78 2.81-2.81c.8-.78.8-2.07 0-2.86zM5.41 20L4 18.59l7.72-7.72 1.47 1.35L5.41 20z\"/>\n",
              "  </svg>\n",
              "      </button>\n",
              "      \n",
              "  <style>\n",
              "    .colab-df-container {\n",
              "      display:flex;\n",
              "      flex-wrap:wrap;\n",
              "      gap: 12px;\n",
              "    }\n",
              "\n",
              "    .colab-df-convert {\n",
              "      background-color: #E8F0FE;\n",
              "      border: none;\n",
              "      border-radius: 50%;\n",
              "      cursor: pointer;\n",
              "      display: none;\n",
              "      fill: #1967D2;\n",
              "      height: 32px;\n",
              "      padding: 0 0 0 0;\n",
              "      width: 32px;\n",
              "    }\n",
              "\n",
              "    .colab-df-convert:hover {\n",
              "      background-color: #E2EBFA;\n",
              "      box-shadow: 0px 1px 2px rgba(60, 64, 67, 0.3), 0px 1px 3px 1px rgba(60, 64, 67, 0.15);\n",
              "      fill: #174EA6;\n",
              "    }\n",
              "\n",
              "    [theme=dark] .colab-df-convert {\n",
              "      background-color: #3B4455;\n",
              "      fill: #D2E3FC;\n",
              "    }\n",
              "\n",
              "    [theme=dark] .colab-df-convert:hover {\n",
              "      background-color: #434B5C;\n",
              "      box-shadow: 0px 1px 3px 1px rgba(0, 0, 0, 0.15);\n",
              "      filter: drop-shadow(0px 1px 2px rgba(0, 0, 0, 0.3));\n",
              "      fill: #FFFFFF;\n",
              "    }\n",
              "  </style>\n",
              "\n",
              "      <script>\n",
              "        const buttonEl =\n",
              "          document.querySelector('#df-a20de81a-0f7a-466b-b6d9-ea8ebc1aa2dd button.colab-df-convert');\n",
              "        buttonEl.style.display =\n",
              "          google.colab.kernel.accessAllowed ? 'block' : 'none';\n",
              "\n",
              "        async function convertToInteractive(key) {\n",
              "          const element = document.querySelector('#df-a20de81a-0f7a-466b-b6d9-ea8ebc1aa2dd');\n",
              "          const dataTable =\n",
              "            await google.colab.kernel.invokeFunction('convertToInteractive',\n",
              "                                                     [key], {});\n",
              "          if (!dataTable) return;\n",
              "\n",
              "          const docLinkHtml = 'Like what you see? Visit the ' +\n",
              "            '<a target=\"_blank\" href=https://colab.research.google.com/notebooks/data_table.ipynb>data table notebook</a>'\n",
              "            + ' to learn more about interactive tables.';\n",
              "          element.innerHTML = '';\n",
              "          dataTable['output_type'] = 'display_data';\n",
              "          await google.colab.output.renderOutput(dataTable, element);\n",
              "          const docLink = document.createElement('div');\n",
              "          docLink.innerHTML = docLinkHtml;\n",
              "          element.appendChild(docLink);\n",
              "        }\n",
              "      </script>\n",
              "    </div>\n",
              "  </div>\n",
              "  "
            ]
          },
          "metadata": {},
          "execution_count": 20
        }
      ],
      "source": [
        "gaurdian_headlines = gaurdian_headlines.drop_duplicates(subset = ['Headlines'], keep = 'first')\n",
        "gaurdian_headlines.reset_index(drop = True, inplace = True)\n",
        "gaurdian_headlines"
      ]
    },
    {
      "cell_type": "code",
      "execution_count": 21,
      "metadata": {
        "colab": {
          "base_uri": "https://localhost:8080/"
        },
        "id": "FZcwpkzk0e0H",
        "outputId": "6adb5d3d-9a28-40d3-efeb-9fe71b65aa35"
      },
      "outputs": [
        {
          "output_type": "execute_result",
          "data": {
            "text/plain": [
              "(17795, 2)"
            ]
          },
          "metadata": {},
          "execution_count": 21
        }
      ],
      "source": [
        "gaurdian_headlines.shape"
      ]
    },
    {
      "cell_type": "markdown",
      "metadata": {
        "id": "3iwjVwnv6-v3"
      },
      "source": [
        "### *Understanding Reuters Headlines*"
      ]
    },
    {
      "cell_type": "code",
      "execution_count": 22,
      "metadata": {
        "colab": {
          "base_uri": "https://localhost:8080/",
          "height": 206
        },
        "id": "asNDch3WhZXh",
        "outputId": "926ab06d-12a8-4db0-e56d-069214ed0a70"
      },
      "outputs": [
        {
          "output_type": "execute_result",
          "data": {
            "text/plain": [
              "                                           Headlines         Time  \\\n",
              "0  TikTok considers London and other locations fo...  Jul 18 2020   \n",
              "1  Disney cuts ad spending on Facebook amid growi...  Jul 18 2020   \n",
              "2  Trail of missing Wirecard executive leads to B...  Jul 18 2020   \n",
              "3  Twitter says attackers downloaded data from up...  Jul 18 2020   \n",
              "4  U.S. Republicans seek liability protections as...  Jul 17 2020   \n",
              "\n",
              "                                         Description  \n",
              "0  TikTok has been in discussions with the UK gov...  \n",
              "1  Walt Disney  has become the latest company to ...  \n",
              "2  Former Wirecard  chief operating officer Jan M...  \n",
              "3  Twitter Inc said on Saturday that hackers were...  \n",
              "4  A battle in the U.S. Congress over a new coron...  "
            ],
            "text/html": [
              "\n",
              "  <div id=\"df-eb2e0a61-cc21-4176-88e9-9314036414be\">\n",
              "    <div class=\"colab-df-container\">\n",
              "      <div>\n",
              "<style scoped>\n",
              "    .dataframe tbody tr th:only-of-type {\n",
              "        vertical-align: middle;\n",
              "    }\n",
              "\n",
              "    .dataframe tbody tr th {\n",
              "        vertical-align: top;\n",
              "    }\n",
              "\n",
              "    .dataframe thead th {\n",
              "        text-align: right;\n",
              "    }\n",
              "</style>\n",
              "<table border=\"1\" class=\"dataframe\">\n",
              "  <thead>\n",
              "    <tr style=\"text-align: right;\">\n",
              "      <th></th>\n",
              "      <th>Headlines</th>\n",
              "      <th>Time</th>\n",
              "      <th>Description</th>\n",
              "    </tr>\n",
              "  </thead>\n",
              "  <tbody>\n",
              "    <tr>\n",
              "      <th>0</th>\n",
              "      <td>TikTok considers London and other locations fo...</td>\n",
              "      <td>Jul 18 2020</td>\n",
              "      <td>TikTok has been in discussions with the UK gov...</td>\n",
              "    </tr>\n",
              "    <tr>\n",
              "      <th>1</th>\n",
              "      <td>Disney cuts ad spending on Facebook amid growi...</td>\n",
              "      <td>Jul 18 2020</td>\n",
              "      <td>Walt Disney  has become the latest company to ...</td>\n",
              "    </tr>\n",
              "    <tr>\n",
              "      <th>2</th>\n",
              "      <td>Trail of missing Wirecard executive leads to B...</td>\n",
              "      <td>Jul 18 2020</td>\n",
              "      <td>Former Wirecard  chief operating officer Jan M...</td>\n",
              "    </tr>\n",
              "    <tr>\n",
              "      <th>3</th>\n",
              "      <td>Twitter says attackers downloaded data from up...</td>\n",
              "      <td>Jul 18 2020</td>\n",
              "      <td>Twitter Inc said on Saturday that hackers were...</td>\n",
              "    </tr>\n",
              "    <tr>\n",
              "      <th>4</th>\n",
              "      <td>U.S. Republicans seek liability protections as...</td>\n",
              "      <td>Jul 17 2020</td>\n",
              "      <td>A battle in the U.S. Congress over a new coron...</td>\n",
              "    </tr>\n",
              "  </tbody>\n",
              "</table>\n",
              "</div>\n",
              "      <button class=\"colab-df-convert\" onclick=\"convertToInteractive('df-eb2e0a61-cc21-4176-88e9-9314036414be')\"\n",
              "              title=\"Convert this dataframe to an interactive table.\"\n",
              "              style=\"display:none;\">\n",
              "        \n",
              "  <svg xmlns=\"http://www.w3.org/2000/svg\" height=\"24px\"viewBox=\"0 0 24 24\"\n",
              "       width=\"24px\">\n",
              "    <path d=\"M0 0h24v24H0V0z\" fill=\"none\"/>\n",
              "    <path d=\"M18.56 5.44l.94 2.06.94-2.06 2.06-.94-2.06-.94-.94-2.06-.94 2.06-2.06.94zm-11 1L8.5 8.5l.94-2.06 2.06-.94-2.06-.94L8.5 2.5l-.94 2.06-2.06.94zm10 10l.94 2.06.94-2.06 2.06-.94-2.06-.94-.94-2.06-.94 2.06-2.06.94z\"/><path d=\"M17.41 7.96l-1.37-1.37c-.4-.4-.92-.59-1.43-.59-.52 0-1.04.2-1.43.59L10.3 9.45l-7.72 7.72c-.78.78-.78 2.05 0 2.83L4 21.41c.39.39.9.59 1.41.59.51 0 1.02-.2 1.41-.59l7.78-7.78 2.81-2.81c.8-.78.8-2.07 0-2.86zM5.41 20L4 18.59l7.72-7.72 1.47 1.35L5.41 20z\"/>\n",
              "  </svg>\n",
              "      </button>\n",
              "      \n",
              "  <style>\n",
              "    .colab-df-container {\n",
              "      display:flex;\n",
              "      flex-wrap:wrap;\n",
              "      gap: 12px;\n",
              "    }\n",
              "\n",
              "    .colab-df-convert {\n",
              "      background-color: #E8F0FE;\n",
              "      border: none;\n",
              "      border-radius: 50%;\n",
              "      cursor: pointer;\n",
              "      display: none;\n",
              "      fill: #1967D2;\n",
              "      height: 32px;\n",
              "      padding: 0 0 0 0;\n",
              "      width: 32px;\n",
              "    }\n",
              "\n",
              "    .colab-df-convert:hover {\n",
              "      background-color: #E2EBFA;\n",
              "      box-shadow: 0px 1px 2px rgba(60, 64, 67, 0.3), 0px 1px 3px 1px rgba(60, 64, 67, 0.15);\n",
              "      fill: #174EA6;\n",
              "    }\n",
              "\n",
              "    [theme=dark] .colab-df-convert {\n",
              "      background-color: #3B4455;\n",
              "      fill: #D2E3FC;\n",
              "    }\n",
              "\n",
              "    [theme=dark] .colab-df-convert:hover {\n",
              "      background-color: #434B5C;\n",
              "      box-shadow: 0px 1px 3px 1px rgba(0, 0, 0, 0.15);\n",
              "      filter: drop-shadow(0px 1px 2px rgba(0, 0, 0, 0.3));\n",
              "      fill: #FFFFFF;\n",
              "    }\n",
              "  </style>\n",
              "\n",
              "      <script>\n",
              "        const buttonEl =\n",
              "          document.querySelector('#df-eb2e0a61-cc21-4176-88e9-9314036414be button.colab-df-convert');\n",
              "        buttonEl.style.display =\n",
              "          google.colab.kernel.accessAllowed ? 'block' : 'none';\n",
              "\n",
              "        async function convertToInteractive(key) {\n",
              "          const element = document.querySelector('#df-eb2e0a61-cc21-4176-88e9-9314036414be');\n",
              "          const dataTable =\n",
              "            await google.colab.kernel.invokeFunction('convertToInteractive',\n",
              "                                                     [key], {});\n",
              "          if (!dataTable) return;\n",
              "\n",
              "          const docLinkHtml = 'Like what you see? Visit the ' +\n",
              "            '<a target=\"_blank\" href=https://colab.research.google.com/notebooks/data_table.ipynb>data table notebook</a>'\n",
              "            + ' to learn more about interactive tables.';\n",
              "          element.innerHTML = '';\n",
              "          dataTable['output_type'] = 'display_data';\n",
              "          await google.colab.output.renderOutput(dataTable, element);\n",
              "          const docLink = document.createElement('div');\n",
              "          docLink.innerHTML = docLinkHtml;\n",
              "          element.appendChild(docLink);\n",
              "        }\n",
              "      </script>\n",
              "    </div>\n",
              "  </div>\n",
              "  "
            ]
          },
          "metadata": {},
          "execution_count": 22
        }
      ],
      "source": [
        "reuters_headlines = pd.read_csv(\"/content/reuters_headlines.csv\")\n",
        "reuters_headlines.head()"
      ]
    },
    {
      "cell_type": "code",
      "execution_count": 23,
      "metadata": {
        "colab": {
          "base_uri": "https://localhost:8080/"
        },
        "id": "aRIhdEPyhZR3",
        "outputId": "2bd75c7f-2220-4cfd-f5cd-f716b43bae7e"
      },
      "outputs": [
        {
          "output_type": "execute_result",
          "data": {
            "text/plain": [
              "(32770, 3)"
            ]
          },
          "metadata": {},
          "execution_count": 23
        }
      ],
      "source": [
        "reuters_headlines.shape"
      ]
    },
    {
      "cell_type": "code",
      "execution_count": 24,
      "metadata": {
        "colab": {
          "base_uri": "https://localhost:8080/"
        },
        "id": "zn6OnjCwhZN8",
        "outputId": "f34f7d09-473c-42ea-bb07-f2d11a49479a"
      },
      "outputs": [
        {
          "output_type": "execute_result",
          "data": {
            "text/plain": [
              "Index(['Headlines', 'Time', 'Description'], dtype='object')"
            ]
          },
          "metadata": {},
          "execution_count": 24
        }
      ],
      "source": [
        "reuters_headlines.columns"
      ]
    },
    {
      "cell_type": "code",
      "execution_count": 25,
      "metadata": {
        "colab": {
          "base_uri": "https://localhost:8080/"
        },
        "id": "go-UtVDjhZM1",
        "outputId": "ceed1fd3-30fb-4104-df6b-6413417d3bd8"
      },
      "outputs": [
        {
          "output_type": "stream",
          "name": "stdout",
          "text": [
            "<class 'pandas.core.frame.DataFrame'>\n",
            "RangeIndex: 32770 entries, 0 to 32769\n",
            "Data columns (total 3 columns):\n",
            " #   Column       Non-Null Count  Dtype \n",
            "---  ------       --------------  ----- \n",
            " 0   Headlines    32770 non-null  object\n",
            " 1   Time         32770 non-null  object\n",
            " 2   Description  32770 non-null  object\n",
            "dtypes: object(3)\n",
            "memory usage: 768.2+ KB\n"
          ]
        }
      ],
      "source": [
        "reuters_headlines.info()"
      ]
    },
    {
      "cell_type": "code",
      "execution_count": 26,
      "metadata": {
        "colab": {
          "base_uri": "https://localhost:8080/"
        },
        "id": "7d7HOHV7hZJM",
        "outputId": "885b2185-4748-4dda-e70f-4567d78b9910"
      },
      "outputs": [
        {
          "output_type": "execute_result",
          "data": {
            "text/plain": [
              "Headlines      0\n",
              "Time           0\n",
              "Description    0\n",
              "dtype: int64"
            ]
          },
          "metadata": {},
          "execution_count": 26
        }
      ],
      "source": [
        "reuters_headlines.isnull().sum()"
      ]
    },
    {
      "cell_type": "markdown",
      "source": [
        "###### *Addressing Duplicate Entries*"
      ],
      "metadata": {
        "id": "pz_Z18eHyTVv"
      }
    },
    {
      "cell_type": "code",
      "execution_count": 27,
      "metadata": {
        "colab": {
          "base_uri": "https://localhost:8080/",
          "height": 423
        },
        "id": "Zvbdb747hZHz",
        "outputId": "55cb005d-ff8a-440e-9132-68f3f73a1230"
      },
      "outputs": [
        {
          "output_type": "execute_result",
          "data": {
            "text/plain": [
              "                                               Headlines         Time  \\\n",
              "0      TikTok considers London and other locations fo...  Jul 18 2020   \n",
              "1      Disney cuts ad spending on Facebook amid growi...  Jul 18 2020   \n",
              "2      Trail of missing Wirecard executive leads to B...  Jul 18 2020   \n",
              "3      Twitter says attackers downloaded data from up...  Jul 18 2020   \n",
              "4      U.S. Republicans seek liability protections as...  Jul 17 2020   \n",
              "...                                                  ...          ...   \n",
              "32668  Malaysia says never hired British data firm at...  Mar 20 2018   \n",
              "32669  Prosecutors search Volkswagen headquarters in ...  Mar 20 2018   \n",
              "32670   McDonald's sets greenhouse gas reduction targets  Mar 20 2018   \n",
              "32671  Pratt & Whitney to deliver spare A320neo engin...  Mar 20 2018   \n",
              "32672  UK will always consider ways to improve data l...  Mar 20 2018   \n",
              "\n",
              "                                             Description  \n",
              "0      TikTok has been in discussions with the UK gov...  \n",
              "1      Walt Disney  has become the latest company to ...  \n",
              "2      Former Wirecard  chief operating officer Jan M...  \n",
              "3      Twitter Inc said on Saturday that hackers were...  \n",
              "4      A battle in the U.S. Congress over a new coron...  \n",
              "...                                                  ...  \n",
              "32668  The Malaysian government and the ruling party ...  \n",
              "32669  German prosecutors said on Tuesday they had se...  \n",
              "32670  McDonald's Corp on Tuesday announced an approv...  \n",
              "32671  Pratt & Whitney will soon begin deliveries of ...  \n",
              "32672  Britain will consider any suggestions to give ...  \n",
              "\n",
              "[32673 rows x 3 columns]"
            ],
            "text/html": [
              "\n",
              "  <div id=\"df-2d1c70ae-4d8d-4cb4-9256-f23614ee256b\">\n",
              "    <div class=\"colab-df-container\">\n",
              "      <div>\n",
              "<style scoped>\n",
              "    .dataframe tbody tr th:only-of-type {\n",
              "        vertical-align: middle;\n",
              "    }\n",
              "\n",
              "    .dataframe tbody tr th {\n",
              "        vertical-align: top;\n",
              "    }\n",
              "\n",
              "    .dataframe thead th {\n",
              "        text-align: right;\n",
              "    }\n",
              "</style>\n",
              "<table border=\"1\" class=\"dataframe\">\n",
              "  <thead>\n",
              "    <tr style=\"text-align: right;\">\n",
              "      <th></th>\n",
              "      <th>Headlines</th>\n",
              "      <th>Time</th>\n",
              "      <th>Description</th>\n",
              "    </tr>\n",
              "  </thead>\n",
              "  <tbody>\n",
              "    <tr>\n",
              "      <th>0</th>\n",
              "      <td>TikTok considers London and other locations fo...</td>\n",
              "      <td>Jul 18 2020</td>\n",
              "      <td>TikTok has been in discussions with the UK gov...</td>\n",
              "    </tr>\n",
              "    <tr>\n",
              "      <th>1</th>\n",
              "      <td>Disney cuts ad spending on Facebook amid growi...</td>\n",
              "      <td>Jul 18 2020</td>\n",
              "      <td>Walt Disney  has become the latest company to ...</td>\n",
              "    </tr>\n",
              "    <tr>\n",
              "      <th>2</th>\n",
              "      <td>Trail of missing Wirecard executive leads to B...</td>\n",
              "      <td>Jul 18 2020</td>\n",
              "      <td>Former Wirecard  chief operating officer Jan M...</td>\n",
              "    </tr>\n",
              "    <tr>\n",
              "      <th>3</th>\n",
              "      <td>Twitter says attackers downloaded data from up...</td>\n",
              "      <td>Jul 18 2020</td>\n",
              "      <td>Twitter Inc said on Saturday that hackers were...</td>\n",
              "    </tr>\n",
              "    <tr>\n",
              "      <th>4</th>\n",
              "      <td>U.S. Republicans seek liability protections as...</td>\n",
              "      <td>Jul 17 2020</td>\n",
              "      <td>A battle in the U.S. Congress over a new coron...</td>\n",
              "    </tr>\n",
              "    <tr>\n",
              "      <th>...</th>\n",
              "      <td>...</td>\n",
              "      <td>...</td>\n",
              "      <td>...</td>\n",
              "    </tr>\n",
              "    <tr>\n",
              "      <th>32668</th>\n",
              "      <td>Malaysia says never hired British data firm at...</td>\n",
              "      <td>Mar 20 2018</td>\n",
              "      <td>The Malaysian government and the ruling party ...</td>\n",
              "    </tr>\n",
              "    <tr>\n",
              "      <th>32669</th>\n",
              "      <td>Prosecutors search Volkswagen headquarters in ...</td>\n",
              "      <td>Mar 20 2018</td>\n",
              "      <td>German prosecutors said on Tuesday they had se...</td>\n",
              "    </tr>\n",
              "    <tr>\n",
              "      <th>32670</th>\n",
              "      <td>McDonald's sets greenhouse gas reduction targets</td>\n",
              "      <td>Mar 20 2018</td>\n",
              "      <td>McDonald's Corp on Tuesday announced an approv...</td>\n",
              "    </tr>\n",
              "    <tr>\n",
              "      <th>32671</th>\n",
              "      <td>Pratt &amp; Whitney to deliver spare A320neo engin...</td>\n",
              "      <td>Mar 20 2018</td>\n",
              "      <td>Pratt &amp; Whitney will soon begin deliveries of ...</td>\n",
              "    </tr>\n",
              "    <tr>\n",
              "      <th>32672</th>\n",
              "      <td>UK will always consider ways to improve data l...</td>\n",
              "      <td>Mar 20 2018</td>\n",
              "      <td>Britain will consider any suggestions to give ...</td>\n",
              "    </tr>\n",
              "  </tbody>\n",
              "</table>\n",
              "<p>32673 rows × 3 columns</p>\n",
              "</div>\n",
              "      <button class=\"colab-df-convert\" onclick=\"convertToInteractive('df-2d1c70ae-4d8d-4cb4-9256-f23614ee256b')\"\n",
              "              title=\"Convert this dataframe to an interactive table.\"\n",
              "              style=\"display:none;\">\n",
              "        \n",
              "  <svg xmlns=\"http://www.w3.org/2000/svg\" height=\"24px\"viewBox=\"0 0 24 24\"\n",
              "       width=\"24px\">\n",
              "    <path d=\"M0 0h24v24H0V0z\" fill=\"none\"/>\n",
              "    <path d=\"M18.56 5.44l.94 2.06.94-2.06 2.06-.94-2.06-.94-.94-2.06-.94 2.06-2.06.94zm-11 1L8.5 8.5l.94-2.06 2.06-.94-2.06-.94L8.5 2.5l-.94 2.06-2.06.94zm10 10l.94 2.06.94-2.06 2.06-.94-2.06-.94-.94-2.06-.94 2.06-2.06.94z\"/><path d=\"M17.41 7.96l-1.37-1.37c-.4-.4-.92-.59-1.43-.59-.52 0-1.04.2-1.43.59L10.3 9.45l-7.72 7.72c-.78.78-.78 2.05 0 2.83L4 21.41c.39.39.9.59 1.41.59.51 0 1.02-.2 1.41-.59l7.78-7.78 2.81-2.81c.8-.78.8-2.07 0-2.86zM5.41 20L4 18.59l7.72-7.72 1.47 1.35L5.41 20z\"/>\n",
              "  </svg>\n",
              "      </button>\n",
              "      \n",
              "  <style>\n",
              "    .colab-df-container {\n",
              "      display:flex;\n",
              "      flex-wrap:wrap;\n",
              "      gap: 12px;\n",
              "    }\n",
              "\n",
              "    .colab-df-convert {\n",
              "      background-color: #E8F0FE;\n",
              "      border: none;\n",
              "      border-radius: 50%;\n",
              "      cursor: pointer;\n",
              "      display: none;\n",
              "      fill: #1967D2;\n",
              "      height: 32px;\n",
              "      padding: 0 0 0 0;\n",
              "      width: 32px;\n",
              "    }\n",
              "\n",
              "    .colab-df-convert:hover {\n",
              "      background-color: #E2EBFA;\n",
              "      box-shadow: 0px 1px 2px rgba(60, 64, 67, 0.3), 0px 1px 3px 1px rgba(60, 64, 67, 0.15);\n",
              "      fill: #174EA6;\n",
              "    }\n",
              "\n",
              "    [theme=dark] .colab-df-convert {\n",
              "      background-color: #3B4455;\n",
              "      fill: #D2E3FC;\n",
              "    }\n",
              "\n",
              "    [theme=dark] .colab-df-convert:hover {\n",
              "      background-color: #434B5C;\n",
              "      box-shadow: 0px 1px 3px 1px rgba(0, 0, 0, 0.15);\n",
              "      filter: drop-shadow(0px 1px 2px rgba(0, 0, 0, 0.3));\n",
              "      fill: #FFFFFF;\n",
              "    }\n",
              "  </style>\n",
              "\n",
              "      <script>\n",
              "        const buttonEl =\n",
              "          document.querySelector('#df-2d1c70ae-4d8d-4cb4-9256-f23614ee256b button.colab-df-convert');\n",
              "        buttonEl.style.display =\n",
              "          google.colab.kernel.accessAllowed ? 'block' : 'none';\n",
              "\n",
              "        async function convertToInteractive(key) {\n",
              "          const element = document.querySelector('#df-2d1c70ae-4d8d-4cb4-9256-f23614ee256b');\n",
              "          const dataTable =\n",
              "            await google.colab.kernel.invokeFunction('convertToInteractive',\n",
              "                                                     [key], {});\n",
              "          if (!dataTable) return;\n",
              "\n",
              "          const docLinkHtml = 'Like what you see? Visit the ' +\n",
              "            '<a target=\"_blank\" href=https://colab.research.google.com/notebooks/data_table.ipynb>data table notebook</a>'\n",
              "            + ' to learn more about interactive tables.';\n",
              "          element.innerHTML = '';\n",
              "          dataTable['output_type'] = 'display_data';\n",
              "          await google.colab.output.renderOutput(dataTable, element);\n",
              "          const docLink = document.createElement('div');\n",
              "          docLink.innerHTML = docLinkHtml;\n",
              "          element.appendChild(docLink);\n",
              "        }\n",
              "      </script>\n",
              "    </div>\n",
              "  </div>\n",
              "  "
            ]
          },
          "metadata": {},
          "execution_count": 27
        }
      ],
      "source": [
        "reuters_headlines = reuters_headlines.drop_duplicates(subset = ['Headlines', 'Description'], keep = 'first')\n",
        "reuters_headlines.reset_index(drop = True, inplace = True)\n",
        "reuters_headlines"
      ]
    },
    {
      "cell_type": "code",
      "execution_count": 28,
      "metadata": {
        "colab": {
          "base_uri": "https://localhost:8080/"
        },
        "id": "jwh83r4q1Itw",
        "outputId": "18ba94d0-d14c-46c3-c822-9dcf0faf040c"
      },
      "outputs": [
        {
          "output_type": "execute_result",
          "data": {
            "text/plain": [
              "(32673, 3)"
            ]
          },
          "metadata": {},
          "execution_count": 28
        }
      ],
      "source": [
        "reuters_headlines.shape"
      ]
    },
    {
      "cell_type": "markdown",
      "metadata": {
        "id": "94zINn2npv1V"
      },
      "source": [
        "***Preprocessing Text***\n",
        "\n",
        "> Lower-casing\n",
        "\n",
        "> Punctuation Removal\n",
        "\n",
        "> Stopwards Removal\n",
        "\n",
        "> Tokenization\n",
        "\n",
        "> Lemmatizing"
      ]
    },
    {
      "cell_type": "code",
      "execution_count": 29,
      "metadata": {
        "id": "djtZVA_IhY9b"
      },
      "outputs": [],
      "source": [
        "def preprocess(text):\n",
        "    if pd.isnull(text):\n",
        "        return ''\n",
        "    \n",
        "    text = str(text).lower()\n",
        "    text = text.translate(str.maketrans('', '', string.punctuation))\n",
        "    stopword = set(stopwords.words('english'))\n",
        "    tokens = word_tokenize(text)\n",
        "    cleaned_text = [ word for word in tokens if word not in stopword ]\n",
        "    lemmatizer = WordNetLemmatizer()\n",
        "    lemmatized_tokens = [lemmatizer.lemmatize(w, pos = 'a') for w in cleaned_text]\n",
        "    return ' '.join(lemmatized_tokens)\n",
        "  "
      ]
    },
    {
      "cell_type": "markdown",
      "metadata": {
        "id": "pjlDZ7Peu7t1"
      },
      "source": [
        "***Sentiment Analysis***"
      ]
    },
    {
      "cell_type": "code",
      "execution_count": 30,
      "metadata": {
        "colab": {
          "base_uri": "https://localhost:8080/"
        },
        "id": "HUxqpmosB6vy",
        "outputId": "c51b9108-fb66-45d2-cf5d-9e8dbb487547"
      },
      "outputs": [
        {
          "output_type": "stream",
          "name": "stderr",
          "text": [
            "[nltk_data] Downloading package vader_lexicon to /root/nltk_data...\n"
          ]
        },
        {
          "output_type": "execute_result",
          "data": {
            "text/plain": [
              "True"
            ]
          },
          "metadata": {},
          "execution_count": 30
        }
      ],
      "source": [
        "from nltk.sentiment.vader import SentimentIntensityAnalyzer\n",
        "nltk.download('vader_lexicon')"
      ]
    },
    {
      "cell_type": "code",
      "execution_count": 31,
      "metadata": {
        "id": "GscOEWSjGfa2"
      },
      "outputs": [],
      "source": [
        "analyzer = SentimentIntensityAnalyzer()"
      ]
    },
    {
      "cell_type": "code",
      "execution_count": 32,
      "metadata": {
        "id": "eL6_2dlF3GkE"
      },
      "outputs": [],
      "source": [
        "def analyse_score(score):\n",
        "  if score < 0.0:\n",
        "    return 'Negative'\n",
        "  elif score == 0.0:\n",
        "    return 'Neutral'\n",
        "  else :\n",
        "    return 'Positive'"
      ]
    },
    {
      "cell_type": "markdown",
      "metadata": {
        "id": "RVa-zf7xfRjc"
      },
      "source": [
        "#### *Analyzing the Descriptions and Headlines*"
      ]
    },
    {
      "cell_type": "code",
      "execution_count": 33,
      "metadata": {
        "colab": {
          "base_uri": "https://localhost:8080/",
          "height": 423
        },
        "id": "xGGnS9A9pSbM",
        "outputId": "74939e2d-3374-47c6-9b17-bcccb5dcf57e"
      },
      "outputs": [
        {
          "output_type": "execute_result",
          "data": {
            "text/plain": [
              "                                               Headlines  \\\n",
              "0      TikTok considers London and other locations fo...   \n",
              "1      Disney cuts ad spending on Facebook amid growi...   \n",
              "2      Trail of missing Wirecard executive leads to B...   \n",
              "3      Twitter says attackers downloaded data from up...   \n",
              "4      U.S. Republicans seek liability protections as...   \n",
              "...                                                  ...   \n",
              "53253                       Markets lack Christmas cheer   \n",
              "53254  Cramer Remix: The biggest mistake you can make...   \n",
              "53255  Cramer says owning too many stocks and too lit...   \n",
              "53256  Cramer: I helped investors through the 2010 fl...   \n",
              "53257  Cramer: Never buy a stock all at once — you'll...   \n",
              "\n",
              "                                 Time  \\\n",
              "0                         Jul 18 2020   \n",
              "1                         Jul 18 2020   \n",
              "2                         Jul 18 2020   \n",
              "3                         Jul 18 2020   \n",
              "4                         Jul 17 2020   \n",
              "...                               ...   \n",
              "53253   10:15  AM ET Tue, 26 Dec 2017   \n",
              "53254  11:12  AM ET Thu, 20 Sept 2018   \n",
              "53255    7:07  PM ET Fri, 22 Dec 2017   \n",
              "53256    7:07  PM ET Fri, 22 Dec 2017   \n",
              "53257    6:52  PM ET Fri, 22 Dec 2017   \n",
              "\n",
              "                                             Description  \n",
              "0      TikTok has been in discussions with the UK gov...  \n",
              "1      Walt Disney  has become the latest company to ...  \n",
              "2      Former Wirecard  chief operating officer Jan M...  \n",
              "3      Twitter Inc said on Saturday that hackers were...  \n",
              "4      A battle in the U.S. Congress over a new coron...  \n",
              "...                                                  ...  \n",
              "53253  According to Kensho, here's how markets have f...  \n",
              "53254  Jim Cramer revealed his top rule when it comes...  \n",
              "53255  Jim Cramer broke down why owning fewer stocks ...  \n",
              "53256  Jim Cramer built on his \"nobody ever made a di...  \n",
              "53257  Jim Cramer doubled down on his key investing r...  \n",
              "\n",
              "[53258 rows x 3 columns]"
            ],
            "text/html": [
              "\n",
              "  <div id=\"df-2534f2d0-7445-4bbe-a97f-7b901aebc5c3\">\n",
              "    <div class=\"colab-df-container\">\n",
              "      <div>\n",
              "<style scoped>\n",
              "    .dataframe tbody tr th:only-of-type {\n",
              "        vertical-align: middle;\n",
              "    }\n",
              "\n",
              "    .dataframe tbody tr th {\n",
              "        vertical-align: top;\n",
              "    }\n",
              "\n",
              "    .dataframe thead th {\n",
              "        text-align: right;\n",
              "    }\n",
              "</style>\n",
              "<table border=\"1\" class=\"dataframe\">\n",
              "  <thead>\n",
              "    <tr style=\"text-align: right;\">\n",
              "      <th></th>\n",
              "      <th>Headlines</th>\n",
              "      <th>Time</th>\n",
              "      <th>Description</th>\n",
              "    </tr>\n",
              "  </thead>\n",
              "  <tbody>\n",
              "    <tr>\n",
              "      <th>0</th>\n",
              "      <td>TikTok considers London and other locations fo...</td>\n",
              "      <td>Jul 18 2020</td>\n",
              "      <td>TikTok has been in discussions with the UK gov...</td>\n",
              "    </tr>\n",
              "    <tr>\n",
              "      <th>1</th>\n",
              "      <td>Disney cuts ad spending on Facebook amid growi...</td>\n",
              "      <td>Jul 18 2020</td>\n",
              "      <td>Walt Disney  has become the latest company to ...</td>\n",
              "    </tr>\n",
              "    <tr>\n",
              "      <th>2</th>\n",
              "      <td>Trail of missing Wirecard executive leads to B...</td>\n",
              "      <td>Jul 18 2020</td>\n",
              "      <td>Former Wirecard  chief operating officer Jan M...</td>\n",
              "    </tr>\n",
              "    <tr>\n",
              "      <th>3</th>\n",
              "      <td>Twitter says attackers downloaded data from up...</td>\n",
              "      <td>Jul 18 2020</td>\n",
              "      <td>Twitter Inc said on Saturday that hackers were...</td>\n",
              "    </tr>\n",
              "    <tr>\n",
              "      <th>4</th>\n",
              "      <td>U.S. Republicans seek liability protections as...</td>\n",
              "      <td>Jul 17 2020</td>\n",
              "      <td>A battle in the U.S. Congress over a new coron...</td>\n",
              "    </tr>\n",
              "    <tr>\n",
              "      <th>...</th>\n",
              "      <td>...</td>\n",
              "      <td>...</td>\n",
              "      <td>...</td>\n",
              "    </tr>\n",
              "    <tr>\n",
              "      <th>53253</th>\n",
              "      <td>Markets lack Christmas cheer</td>\n",
              "      <td>10:15  AM ET Tue, 26 Dec 2017</td>\n",
              "      <td>According to Kensho, here's how markets have f...</td>\n",
              "    </tr>\n",
              "    <tr>\n",
              "      <th>53254</th>\n",
              "      <td>Cramer Remix: The biggest mistake you can make...</td>\n",
              "      <td>11:12  AM ET Thu, 20 Sept 2018</td>\n",
              "      <td>Jim Cramer revealed his top rule when it comes...</td>\n",
              "    </tr>\n",
              "    <tr>\n",
              "      <th>53255</th>\n",
              "      <td>Cramer says owning too many stocks and too lit...</td>\n",
              "      <td>7:07  PM ET Fri, 22 Dec 2017</td>\n",
              "      <td>Jim Cramer broke down why owning fewer stocks ...</td>\n",
              "    </tr>\n",
              "    <tr>\n",
              "      <th>53256</th>\n",
              "      <td>Cramer: I helped investors through the 2010 fl...</td>\n",
              "      <td>7:07  PM ET Fri, 22 Dec 2017</td>\n",
              "      <td>Jim Cramer built on his \"nobody ever made a di...</td>\n",
              "    </tr>\n",
              "    <tr>\n",
              "      <th>53257</th>\n",
              "      <td>Cramer: Never buy a stock all at once — you'll...</td>\n",
              "      <td>6:52  PM ET Fri, 22 Dec 2017</td>\n",
              "      <td>Jim Cramer doubled down on his key investing r...</td>\n",
              "    </tr>\n",
              "  </tbody>\n",
              "</table>\n",
              "<p>53258 rows × 3 columns</p>\n",
              "</div>\n",
              "      <button class=\"colab-df-convert\" onclick=\"convertToInteractive('df-2534f2d0-7445-4bbe-a97f-7b901aebc5c3')\"\n",
              "              title=\"Convert this dataframe to an interactive table.\"\n",
              "              style=\"display:none;\">\n",
              "        \n",
              "  <svg xmlns=\"http://www.w3.org/2000/svg\" height=\"24px\"viewBox=\"0 0 24 24\"\n",
              "       width=\"24px\">\n",
              "    <path d=\"M0 0h24v24H0V0z\" fill=\"none\"/>\n",
              "    <path d=\"M18.56 5.44l.94 2.06.94-2.06 2.06-.94-2.06-.94-.94-2.06-.94 2.06-2.06.94zm-11 1L8.5 8.5l.94-2.06 2.06-.94-2.06-.94L8.5 2.5l-.94 2.06-2.06.94zm10 10l.94 2.06.94-2.06 2.06-.94-2.06-.94-.94-2.06-.94 2.06-2.06.94z\"/><path d=\"M17.41 7.96l-1.37-1.37c-.4-.4-.92-.59-1.43-.59-.52 0-1.04.2-1.43.59L10.3 9.45l-7.72 7.72c-.78.78-.78 2.05 0 2.83L4 21.41c.39.39.9.59 1.41.59.51 0 1.02-.2 1.41-.59l7.78-7.78 2.81-2.81c.8-.78.8-2.07 0-2.86zM5.41 20L4 18.59l7.72-7.72 1.47 1.35L5.41 20z\"/>\n",
              "  </svg>\n",
              "      </button>\n",
              "      \n",
              "  <style>\n",
              "    .colab-df-container {\n",
              "      display:flex;\n",
              "      flex-wrap:wrap;\n",
              "      gap: 12px;\n",
              "    }\n",
              "\n",
              "    .colab-df-convert {\n",
              "      background-color: #E8F0FE;\n",
              "      border: none;\n",
              "      border-radius: 50%;\n",
              "      cursor: pointer;\n",
              "      display: none;\n",
              "      fill: #1967D2;\n",
              "      height: 32px;\n",
              "      padding: 0 0 0 0;\n",
              "      width: 32px;\n",
              "    }\n",
              "\n",
              "    .colab-df-convert:hover {\n",
              "      background-color: #E2EBFA;\n",
              "      box-shadow: 0px 1px 2px rgba(60, 64, 67, 0.3), 0px 1px 3px 1px rgba(60, 64, 67, 0.15);\n",
              "      fill: #174EA6;\n",
              "    }\n",
              "\n",
              "    [theme=dark] .colab-df-convert {\n",
              "      background-color: #3B4455;\n",
              "      fill: #D2E3FC;\n",
              "    }\n",
              "\n",
              "    [theme=dark] .colab-df-convert:hover {\n",
              "      background-color: #434B5C;\n",
              "      box-shadow: 0px 1px 3px 1px rgba(0, 0, 0, 0.15);\n",
              "      filter: drop-shadow(0px 1px 2px rgba(0, 0, 0, 0.3));\n",
              "      fill: #FFFFFF;\n",
              "    }\n",
              "  </style>\n",
              "\n",
              "      <script>\n",
              "        const buttonEl =\n",
              "          document.querySelector('#df-2534f2d0-7445-4bbe-a97f-7b901aebc5c3 button.colab-df-convert');\n",
              "        buttonEl.style.display =\n",
              "          google.colab.kernel.accessAllowed ? 'block' : 'none';\n",
              "\n",
              "        async function convertToInteractive(key) {\n",
              "          const element = document.querySelector('#df-2534f2d0-7445-4bbe-a97f-7b901aebc5c3');\n",
              "          const dataTable =\n",
              "            await google.colab.kernel.invokeFunction('convertToInteractive',\n",
              "                                                     [key], {});\n",
              "          if (!dataTable) return;\n",
              "\n",
              "          const docLinkHtml = 'Like what you see? Visit the ' +\n",
              "            '<a target=\"_blank\" href=https://colab.research.google.com/notebooks/data_table.ipynb>data table notebook</a>'\n",
              "            + ' to learn more about interactive tables.';\n",
              "          element.innerHTML = '';\n",
              "          dataTable['output_type'] = 'display_data';\n",
              "          await google.colab.output.renderOutput(dataTable, element);\n",
              "          const docLink = document.createElement('div');\n",
              "          docLink.innerHTML = docLinkHtml;\n",
              "          element.appendChild(docLink);\n",
              "        }\n",
              "      </script>\n",
              "    </div>\n",
              "  </div>\n",
              "  "
            ]
          },
          "metadata": {},
          "execution_count": 33
        }
      ],
      "source": [
        "concatenated_df = pd.concat([reuters_headlines, gaurdian_headlines, cnbc_headlines], axis=0)\n",
        "concatenated_df.reset_index(drop=True, inplace=True)\n",
        "concatenated_df"
      ]
    },
    {
      "cell_type": "code",
      "execution_count": 34,
      "metadata": {
        "colab": {
          "base_uri": "https://localhost:8080/",
          "height": 423
        },
        "id": "o4rHqghTnkra",
        "outputId": "b8e9310e-0251-4c8f-e677-48eb1efa1921"
      },
      "outputs": [
        {
          "output_type": "execute_result",
          "data": {
            "text/plain": [
              "                                                    Text  \\\n",
              "0      TikTok considers London and other locations fo...   \n",
              "1      Disney cuts ad spending on Facebook amid growi...   \n",
              "2      Trail of missing Wirecard executive leads to B...   \n",
              "3      Twitter says attackers downloaded data from up...   \n",
              "4      U.S. Republicans seek liability protections as...   \n",
              "...                                                  ...   \n",
              "53253  Markets lack Christmas cheer According to Kens...   \n",
              "53254  Cramer Remix: The biggest mistake you can make...   \n",
              "53255  Cramer says owning too many stocks and too lit...   \n",
              "53256  Cramer: I helped investors through the 2010 fl...   \n",
              "53257  Cramer: Never buy a stock all at once — you'll...   \n",
              "\n",
              "                                 Time  \n",
              "0                         Jul 18 2020  \n",
              "1                         Jul 18 2020  \n",
              "2                         Jul 18 2020  \n",
              "3                         Jul 18 2020  \n",
              "4                         Jul 17 2020  \n",
              "...                               ...  \n",
              "53253   10:15  AM ET Tue, 26 Dec 2017  \n",
              "53254  11:12  AM ET Thu, 20 Sept 2018  \n",
              "53255    7:07  PM ET Fri, 22 Dec 2017  \n",
              "53256    7:07  PM ET Fri, 22 Dec 2017  \n",
              "53257    6:52  PM ET Fri, 22 Dec 2017  \n",
              "\n",
              "[53258 rows x 2 columns]"
            ],
            "text/html": [
              "\n",
              "  <div id=\"df-a45ca382-0866-4ef2-af8a-56957cac92b9\">\n",
              "    <div class=\"colab-df-container\">\n",
              "      <div>\n",
              "<style scoped>\n",
              "    .dataframe tbody tr th:only-of-type {\n",
              "        vertical-align: middle;\n",
              "    }\n",
              "\n",
              "    .dataframe tbody tr th {\n",
              "        vertical-align: top;\n",
              "    }\n",
              "\n",
              "    .dataframe thead th {\n",
              "        text-align: right;\n",
              "    }\n",
              "</style>\n",
              "<table border=\"1\" class=\"dataframe\">\n",
              "  <thead>\n",
              "    <tr style=\"text-align: right;\">\n",
              "      <th></th>\n",
              "      <th>Text</th>\n",
              "      <th>Time</th>\n",
              "    </tr>\n",
              "  </thead>\n",
              "  <tbody>\n",
              "    <tr>\n",
              "      <th>0</th>\n",
              "      <td>TikTok considers London and other locations fo...</td>\n",
              "      <td>Jul 18 2020</td>\n",
              "    </tr>\n",
              "    <tr>\n",
              "      <th>1</th>\n",
              "      <td>Disney cuts ad spending on Facebook amid growi...</td>\n",
              "      <td>Jul 18 2020</td>\n",
              "    </tr>\n",
              "    <tr>\n",
              "      <th>2</th>\n",
              "      <td>Trail of missing Wirecard executive leads to B...</td>\n",
              "      <td>Jul 18 2020</td>\n",
              "    </tr>\n",
              "    <tr>\n",
              "      <th>3</th>\n",
              "      <td>Twitter says attackers downloaded data from up...</td>\n",
              "      <td>Jul 18 2020</td>\n",
              "    </tr>\n",
              "    <tr>\n",
              "      <th>4</th>\n",
              "      <td>U.S. Republicans seek liability protections as...</td>\n",
              "      <td>Jul 17 2020</td>\n",
              "    </tr>\n",
              "    <tr>\n",
              "      <th>...</th>\n",
              "      <td>...</td>\n",
              "      <td>...</td>\n",
              "    </tr>\n",
              "    <tr>\n",
              "      <th>53253</th>\n",
              "      <td>Markets lack Christmas cheer According to Kens...</td>\n",
              "      <td>10:15  AM ET Tue, 26 Dec 2017</td>\n",
              "    </tr>\n",
              "    <tr>\n",
              "      <th>53254</th>\n",
              "      <td>Cramer Remix: The biggest mistake you can make...</td>\n",
              "      <td>11:12  AM ET Thu, 20 Sept 2018</td>\n",
              "    </tr>\n",
              "    <tr>\n",
              "      <th>53255</th>\n",
              "      <td>Cramer says owning too many stocks and too lit...</td>\n",
              "      <td>7:07  PM ET Fri, 22 Dec 2017</td>\n",
              "    </tr>\n",
              "    <tr>\n",
              "      <th>53256</th>\n",
              "      <td>Cramer: I helped investors through the 2010 fl...</td>\n",
              "      <td>7:07  PM ET Fri, 22 Dec 2017</td>\n",
              "    </tr>\n",
              "    <tr>\n",
              "      <th>53257</th>\n",
              "      <td>Cramer: Never buy a stock all at once — you'll...</td>\n",
              "      <td>6:52  PM ET Fri, 22 Dec 2017</td>\n",
              "    </tr>\n",
              "  </tbody>\n",
              "</table>\n",
              "<p>53258 rows × 2 columns</p>\n",
              "</div>\n",
              "      <button class=\"colab-df-convert\" onclick=\"convertToInteractive('df-a45ca382-0866-4ef2-af8a-56957cac92b9')\"\n",
              "              title=\"Convert this dataframe to an interactive table.\"\n",
              "              style=\"display:none;\">\n",
              "        \n",
              "  <svg xmlns=\"http://www.w3.org/2000/svg\" height=\"24px\"viewBox=\"0 0 24 24\"\n",
              "       width=\"24px\">\n",
              "    <path d=\"M0 0h24v24H0V0z\" fill=\"none\"/>\n",
              "    <path d=\"M18.56 5.44l.94 2.06.94-2.06 2.06-.94-2.06-.94-.94-2.06-.94 2.06-2.06.94zm-11 1L8.5 8.5l.94-2.06 2.06-.94-2.06-.94L8.5 2.5l-.94 2.06-2.06.94zm10 10l.94 2.06.94-2.06 2.06-.94-2.06-.94-.94-2.06-.94 2.06-2.06.94z\"/><path d=\"M17.41 7.96l-1.37-1.37c-.4-.4-.92-.59-1.43-.59-.52 0-1.04.2-1.43.59L10.3 9.45l-7.72 7.72c-.78.78-.78 2.05 0 2.83L4 21.41c.39.39.9.59 1.41.59.51 0 1.02-.2 1.41-.59l7.78-7.78 2.81-2.81c.8-.78.8-2.07 0-2.86zM5.41 20L4 18.59l7.72-7.72 1.47 1.35L5.41 20z\"/>\n",
              "  </svg>\n",
              "      </button>\n",
              "      \n",
              "  <style>\n",
              "    .colab-df-container {\n",
              "      display:flex;\n",
              "      flex-wrap:wrap;\n",
              "      gap: 12px;\n",
              "    }\n",
              "\n",
              "    .colab-df-convert {\n",
              "      background-color: #E8F0FE;\n",
              "      border: none;\n",
              "      border-radius: 50%;\n",
              "      cursor: pointer;\n",
              "      display: none;\n",
              "      fill: #1967D2;\n",
              "      height: 32px;\n",
              "      padding: 0 0 0 0;\n",
              "      width: 32px;\n",
              "    }\n",
              "\n",
              "    .colab-df-convert:hover {\n",
              "      background-color: #E2EBFA;\n",
              "      box-shadow: 0px 1px 2px rgba(60, 64, 67, 0.3), 0px 1px 3px 1px rgba(60, 64, 67, 0.15);\n",
              "      fill: #174EA6;\n",
              "    }\n",
              "\n",
              "    [theme=dark] .colab-df-convert {\n",
              "      background-color: #3B4455;\n",
              "      fill: #D2E3FC;\n",
              "    }\n",
              "\n",
              "    [theme=dark] .colab-df-convert:hover {\n",
              "      background-color: #434B5C;\n",
              "      box-shadow: 0px 1px 3px 1px rgba(0, 0, 0, 0.15);\n",
              "      filter: drop-shadow(0px 1px 2px rgba(0, 0, 0, 0.3));\n",
              "      fill: #FFFFFF;\n",
              "    }\n",
              "  </style>\n",
              "\n",
              "      <script>\n",
              "        const buttonEl =\n",
              "          document.querySelector('#df-a45ca382-0866-4ef2-af8a-56957cac92b9 button.colab-df-convert');\n",
              "        buttonEl.style.display =\n",
              "          google.colab.kernel.accessAllowed ? 'block' : 'none';\n",
              "\n",
              "        async function convertToInteractive(key) {\n",
              "          const element = document.querySelector('#df-a45ca382-0866-4ef2-af8a-56957cac92b9');\n",
              "          const dataTable =\n",
              "            await google.colab.kernel.invokeFunction('convertToInteractive',\n",
              "                                                     [key], {});\n",
              "          if (!dataTable) return;\n",
              "\n",
              "          const docLinkHtml = 'Like what you see? Visit the ' +\n",
              "            '<a target=\"_blank\" href=https://colab.research.google.com/notebooks/data_table.ipynb>data table notebook</a>'\n",
              "            + ' to learn more about interactive tables.';\n",
              "          element.innerHTML = '';\n",
              "          dataTable['output_type'] = 'display_data';\n",
              "          await google.colab.output.renderOutput(dataTable, element);\n",
              "          const docLink = document.createElement('div');\n",
              "          docLink.innerHTML = docLinkHtml;\n",
              "          element.appendChild(docLink);\n",
              "        }\n",
              "      </script>\n",
              "    </div>\n",
              "  </div>\n",
              "  "
            ]
          },
          "metadata": {},
          "execution_count": 34
        }
      ],
      "source": [
        "text = concatenated_df['Headlines'] + ' ' + concatenated_df['Description']\n",
        "time = concatenated_df['Time']\n",
        "df = pd.DataFrame({'Text': text, 'Time': time})\n",
        "df"
      ]
    },
    {
      "cell_type": "code",
      "execution_count": 35,
      "metadata": {
        "id": "CNFsFk0IqBqA"
      },
      "outputs": [],
      "source": [
        "df['Text'] = df['Text'].apply(preprocess)"
      ]
    },
    {
      "cell_type": "code",
      "execution_count": 36,
      "metadata": {
        "colab": {
          "base_uri": "https://localhost:8080/",
          "height": 206
        },
        "id": "aZpTcts0m8T0",
        "outputId": "cb55b057-63b4-406e-f690-5c084e888870"
      },
      "outputs": [
        {
          "output_type": "execute_result",
          "data": {
            "text/plain": [
              "                                                Text         Time  Text Score\n",
              "0  tiktok considers london locations headquarters...  Jul 18 2020      0.0258\n",
              "1  disney cuts ad spending facebook amid growing ...  Jul 18 2020     -0.8934\n",
              "2  trail missing wirecard executive leads belarus...  Jul 18 2020     -0.6486\n",
              "3  twitter says attackers downloaded data eight n...  Jul 18 2020     -0.5719\n",
              "4  us republicans seek liability protections coro...  Jul 17 2020     -0.7269"
            ],
            "text/html": [
              "\n",
              "  <div id=\"df-25951aa0-cf11-4694-b7d9-1499b8673aff\">\n",
              "    <div class=\"colab-df-container\">\n",
              "      <div>\n",
              "<style scoped>\n",
              "    .dataframe tbody tr th:only-of-type {\n",
              "        vertical-align: middle;\n",
              "    }\n",
              "\n",
              "    .dataframe tbody tr th {\n",
              "        vertical-align: top;\n",
              "    }\n",
              "\n",
              "    .dataframe thead th {\n",
              "        text-align: right;\n",
              "    }\n",
              "</style>\n",
              "<table border=\"1\" class=\"dataframe\">\n",
              "  <thead>\n",
              "    <tr style=\"text-align: right;\">\n",
              "      <th></th>\n",
              "      <th>Text</th>\n",
              "      <th>Time</th>\n",
              "      <th>Text Score</th>\n",
              "    </tr>\n",
              "  </thead>\n",
              "  <tbody>\n",
              "    <tr>\n",
              "      <th>0</th>\n",
              "      <td>tiktok considers london locations headquarters...</td>\n",
              "      <td>Jul 18 2020</td>\n",
              "      <td>0.0258</td>\n",
              "    </tr>\n",
              "    <tr>\n",
              "      <th>1</th>\n",
              "      <td>disney cuts ad spending facebook amid growing ...</td>\n",
              "      <td>Jul 18 2020</td>\n",
              "      <td>-0.8934</td>\n",
              "    </tr>\n",
              "    <tr>\n",
              "      <th>2</th>\n",
              "      <td>trail missing wirecard executive leads belarus...</td>\n",
              "      <td>Jul 18 2020</td>\n",
              "      <td>-0.6486</td>\n",
              "    </tr>\n",
              "    <tr>\n",
              "      <th>3</th>\n",
              "      <td>twitter says attackers downloaded data eight n...</td>\n",
              "      <td>Jul 18 2020</td>\n",
              "      <td>-0.5719</td>\n",
              "    </tr>\n",
              "    <tr>\n",
              "      <th>4</th>\n",
              "      <td>us republicans seek liability protections coro...</td>\n",
              "      <td>Jul 17 2020</td>\n",
              "      <td>-0.7269</td>\n",
              "    </tr>\n",
              "  </tbody>\n",
              "</table>\n",
              "</div>\n",
              "      <button class=\"colab-df-convert\" onclick=\"convertToInteractive('df-25951aa0-cf11-4694-b7d9-1499b8673aff')\"\n",
              "              title=\"Convert this dataframe to an interactive table.\"\n",
              "              style=\"display:none;\">\n",
              "        \n",
              "  <svg xmlns=\"http://www.w3.org/2000/svg\" height=\"24px\"viewBox=\"0 0 24 24\"\n",
              "       width=\"24px\">\n",
              "    <path d=\"M0 0h24v24H0V0z\" fill=\"none\"/>\n",
              "    <path d=\"M18.56 5.44l.94 2.06.94-2.06 2.06-.94-2.06-.94-.94-2.06-.94 2.06-2.06.94zm-11 1L8.5 8.5l.94-2.06 2.06-.94-2.06-.94L8.5 2.5l-.94 2.06-2.06.94zm10 10l.94 2.06.94-2.06 2.06-.94-2.06-.94-.94-2.06-.94 2.06-2.06.94z\"/><path d=\"M17.41 7.96l-1.37-1.37c-.4-.4-.92-.59-1.43-.59-.52 0-1.04.2-1.43.59L10.3 9.45l-7.72 7.72c-.78.78-.78 2.05 0 2.83L4 21.41c.39.39.9.59 1.41.59.51 0 1.02-.2 1.41-.59l7.78-7.78 2.81-2.81c.8-.78.8-2.07 0-2.86zM5.41 20L4 18.59l7.72-7.72 1.47 1.35L5.41 20z\"/>\n",
              "  </svg>\n",
              "      </button>\n",
              "      \n",
              "  <style>\n",
              "    .colab-df-container {\n",
              "      display:flex;\n",
              "      flex-wrap:wrap;\n",
              "      gap: 12px;\n",
              "    }\n",
              "\n",
              "    .colab-df-convert {\n",
              "      background-color: #E8F0FE;\n",
              "      border: none;\n",
              "      border-radius: 50%;\n",
              "      cursor: pointer;\n",
              "      display: none;\n",
              "      fill: #1967D2;\n",
              "      height: 32px;\n",
              "      padding: 0 0 0 0;\n",
              "      width: 32px;\n",
              "    }\n",
              "\n",
              "    .colab-df-convert:hover {\n",
              "      background-color: #E2EBFA;\n",
              "      box-shadow: 0px 1px 2px rgba(60, 64, 67, 0.3), 0px 1px 3px 1px rgba(60, 64, 67, 0.15);\n",
              "      fill: #174EA6;\n",
              "    }\n",
              "\n",
              "    [theme=dark] .colab-df-convert {\n",
              "      background-color: #3B4455;\n",
              "      fill: #D2E3FC;\n",
              "    }\n",
              "\n",
              "    [theme=dark] .colab-df-convert:hover {\n",
              "      background-color: #434B5C;\n",
              "      box-shadow: 0px 1px 3px 1px rgba(0, 0, 0, 0.15);\n",
              "      filter: drop-shadow(0px 1px 2px rgba(0, 0, 0, 0.3));\n",
              "      fill: #FFFFFF;\n",
              "    }\n",
              "  </style>\n",
              "\n",
              "      <script>\n",
              "        const buttonEl =\n",
              "          document.querySelector('#df-25951aa0-cf11-4694-b7d9-1499b8673aff button.colab-df-convert');\n",
              "        buttonEl.style.display =\n",
              "          google.colab.kernel.accessAllowed ? 'block' : 'none';\n",
              "\n",
              "        async function convertToInteractive(key) {\n",
              "          const element = document.querySelector('#df-25951aa0-cf11-4694-b7d9-1499b8673aff');\n",
              "          const dataTable =\n",
              "            await google.colab.kernel.invokeFunction('convertToInteractive',\n",
              "                                                     [key], {});\n",
              "          if (!dataTable) return;\n",
              "\n",
              "          const docLinkHtml = 'Like what you see? Visit the ' +\n",
              "            '<a target=\"_blank\" href=https://colab.research.google.com/notebooks/data_table.ipynb>data table notebook</a>'\n",
              "            + ' to learn more about interactive tables.';\n",
              "          element.innerHTML = '';\n",
              "          dataTable['output_type'] = 'display_data';\n",
              "          await google.colab.output.renderOutput(dataTable, element);\n",
              "          const docLink = document.createElement('div');\n",
              "          docLink.innerHTML = docLinkHtml;\n",
              "          element.appendChild(docLink);\n",
              "        }\n",
              "      </script>\n",
              "    </div>\n",
              "  </div>\n",
              "  "
            ]
          },
          "metadata": {},
          "execution_count": 36
        }
      ],
      "source": [
        "text_score = []\n",
        "\n",
        "for value in df.Text.values:\n",
        "  text_score.append(analyzer.polarity_scores(value)['compound'])\n",
        "\n",
        "df['Text Score'] = text_score\n",
        "df.head()"
      ]
    },
    {
      "cell_type": "code",
      "execution_count": 37,
      "metadata": {
        "colab": {
          "base_uri": "https://localhost:8080/",
          "height": 423
        },
        "id": "7j-JBpvUrVVo",
        "outputId": "e662ef80-1383-41bd-f2fb-5678b3dde333"
      },
      "outputs": [
        {
          "output_type": "execute_result",
          "data": {
            "text/plain": [
              "                                                    Text  \\\n",
              "0      tiktok considers london locations headquarters...   \n",
              "1      disney cuts ad spending facebook amid growing ...   \n",
              "2      trail missing wirecard executive leads belarus...   \n",
              "3      twitter says attackers downloaded data eight n...   \n",
              "4      us republicans seek liability protections coro...   \n",
              "...                                                  ...   \n",
              "53253  markets lack christmas cheer according kensho ...   \n",
              "53254  cramer remix big mistake make taxes stock mark...   \n",
              "53255  cramer says owning many stocks little cash set...   \n",
              "53256  cramer helped investors 2010 flash crash follo...   \n",
              "53257  cramer never buy stock — youll almost definite...   \n",
              "\n",
              "                                 Time Text Score  \n",
              "0                         Jul 18 2020   Positive  \n",
              "1                         Jul 18 2020   Negative  \n",
              "2                         Jul 18 2020   Negative  \n",
              "3                         Jul 18 2020   Negative  \n",
              "4                         Jul 17 2020   Negative  \n",
              "...                               ...        ...  \n",
              "53253   10:15  AM ET Tue, 26 Dec 2017   Positive  \n",
              "53254  11:12  AM ET Thu, 20 Sept 2018   Positive  \n",
              "53255    7:07  PM ET Fri, 22 Dec 2017   Negative  \n",
              "53256    7:07  PM ET Fri, 22 Dec 2017   Negative  \n",
              "53257    6:52  PM ET Fri, 22 Dec 2017   Positive  \n",
              "\n",
              "[53258 rows x 3 columns]"
            ],
            "text/html": [
              "\n",
              "  <div id=\"df-326bec7c-69ec-4a26-98bb-ee7224557bd8\">\n",
              "    <div class=\"colab-df-container\">\n",
              "      <div>\n",
              "<style scoped>\n",
              "    .dataframe tbody tr th:only-of-type {\n",
              "        vertical-align: middle;\n",
              "    }\n",
              "\n",
              "    .dataframe tbody tr th {\n",
              "        vertical-align: top;\n",
              "    }\n",
              "\n",
              "    .dataframe thead th {\n",
              "        text-align: right;\n",
              "    }\n",
              "</style>\n",
              "<table border=\"1\" class=\"dataframe\">\n",
              "  <thead>\n",
              "    <tr style=\"text-align: right;\">\n",
              "      <th></th>\n",
              "      <th>Text</th>\n",
              "      <th>Time</th>\n",
              "      <th>Text Score</th>\n",
              "    </tr>\n",
              "  </thead>\n",
              "  <tbody>\n",
              "    <tr>\n",
              "      <th>0</th>\n",
              "      <td>tiktok considers london locations headquarters...</td>\n",
              "      <td>Jul 18 2020</td>\n",
              "      <td>Positive</td>\n",
              "    </tr>\n",
              "    <tr>\n",
              "      <th>1</th>\n",
              "      <td>disney cuts ad spending facebook amid growing ...</td>\n",
              "      <td>Jul 18 2020</td>\n",
              "      <td>Negative</td>\n",
              "    </tr>\n",
              "    <tr>\n",
              "      <th>2</th>\n",
              "      <td>trail missing wirecard executive leads belarus...</td>\n",
              "      <td>Jul 18 2020</td>\n",
              "      <td>Negative</td>\n",
              "    </tr>\n",
              "    <tr>\n",
              "      <th>3</th>\n",
              "      <td>twitter says attackers downloaded data eight n...</td>\n",
              "      <td>Jul 18 2020</td>\n",
              "      <td>Negative</td>\n",
              "    </tr>\n",
              "    <tr>\n",
              "      <th>4</th>\n",
              "      <td>us republicans seek liability protections coro...</td>\n",
              "      <td>Jul 17 2020</td>\n",
              "      <td>Negative</td>\n",
              "    </tr>\n",
              "    <tr>\n",
              "      <th>...</th>\n",
              "      <td>...</td>\n",
              "      <td>...</td>\n",
              "      <td>...</td>\n",
              "    </tr>\n",
              "    <tr>\n",
              "      <th>53253</th>\n",
              "      <td>markets lack christmas cheer according kensho ...</td>\n",
              "      <td>10:15  AM ET Tue, 26 Dec 2017</td>\n",
              "      <td>Positive</td>\n",
              "    </tr>\n",
              "    <tr>\n",
              "      <th>53254</th>\n",
              "      <td>cramer remix big mistake make taxes stock mark...</td>\n",
              "      <td>11:12  AM ET Thu, 20 Sept 2018</td>\n",
              "      <td>Positive</td>\n",
              "    </tr>\n",
              "    <tr>\n",
              "      <th>53255</th>\n",
              "      <td>cramer says owning many stocks little cash set...</td>\n",
              "      <td>7:07  PM ET Fri, 22 Dec 2017</td>\n",
              "      <td>Negative</td>\n",
              "    </tr>\n",
              "    <tr>\n",
              "      <th>53256</th>\n",
              "      <td>cramer helped investors 2010 flash crash follo...</td>\n",
              "      <td>7:07  PM ET Fri, 22 Dec 2017</td>\n",
              "      <td>Negative</td>\n",
              "    </tr>\n",
              "    <tr>\n",
              "      <th>53257</th>\n",
              "      <td>cramer never buy stock — youll almost definite...</td>\n",
              "      <td>6:52  PM ET Fri, 22 Dec 2017</td>\n",
              "      <td>Positive</td>\n",
              "    </tr>\n",
              "  </tbody>\n",
              "</table>\n",
              "<p>53258 rows × 3 columns</p>\n",
              "</div>\n",
              "      <button class=\"colab-df-convert\" onclick=\"convertToInteractive('df-326bec7c-69ec-4a26-98bb-ee7224557bd8')\"\n",
              "              title=\"Convert this dataframe to an interactive table.\"\n",
              "              style=\"display:none;\">\n",
              "        \n",
              "  <svg xmlns=\"http://www.w3.org/2000/svg\" height=\"24px\"viewBox=\"0 0 24 24\"\n",
              "       width=\"24px\">\n",
              "    <path d=\"M0 0h24v24H0V0z\" fill=\"none\"/>\n",
              "    <path d=\"M18.56 5.44l.94 2.06.94-2.06 2.06-.94-2.06-.94-.94-2.06-.94 2.06-2.06.94zm-11 1L8.5 8.5l.94-2.06 2.06-.94-2.06-.94L8.5 2.5l-.94 2.06-2.06.94zm10 10l.94 2.06.94-2.06 2.06-.94-2.06-.94-.94-2.06-.94 2.06-2.06.94z\"/><path d=\"M17.41 7.96l-1.37-1.37c-.4-.4-.92-.59-1.43-.59-.52 0-1.04.2-1.43.59L10.3 9.45l-7.72 7.72c-.78.78-.78 2.05 0 2.83L4 21.41c.39.39.9.59 1.41.59.51 0 1.02-.2 1.41-.59l7.78-7.78 2.81-2.81c.8-.78.8-2.07 0-2.86zM5.41 20L4 18.59l7.72-7.72 1.47 1.35L5.41 20z\"/>\n",
              "  </svg>\n",
              "      </button>\n",
              "      \n",
              "  <style>\n",
              "    .colab-df-container {\n",
              "      display:flex;\n",
              "      flex-wrap:wrap;\n",
              "      gap: 12px;\n",
              "    }\n",
              "\n",
              "    .colab-df-convert {\n",
              "      background-color: #E8F0FE;\n",
              "      border: none;\n",
              "      border-radius: 50%;\n",
              "      cursor: pointer;\n",
              "      display: none;\n",
              "      fill: #1967D2;\n",
              "      height: 32px;\n",
              "      padding: 0 0 0 0;\n",
              "      width: 32px;\n",
              "    }\n",
              "\n",
              "    .colab-df-convert:hover {\n",
              "      background-color: #E2EBFA;\n",
              "      box-shadow: 0px 1px 2px rgba(60, 64, 67, 0.3), 0px 1px 3px 1px rgba(60, 64, 67, 0.15);\n",
              "      fill: #174EA6;\n",
              "    }\n",
              "\n",
              "    [theme=dark] .colab-df-convert {\n",
              "      background-color: #3B4455;\n",
              "      fill: #D2E3FC;\n",
              "    }\n",
              "\n",
              "    [theme=dark] .colab-df-convert:hover {\n",
              "      background-color: #434B5C;\n",
              "      box-shadow: 0px 1px 3px 1px rgba(0, 0, 0, 0.15);\n",
              "      filter: drop-shadow(0px 1px 2px rgba(0, 0, 0, 0.3));\n",
              "      fill: #FFFFFF;\n",
              "    }\n",
              "  </style>\n",
              "\n",
              "      <script>\n",
              "        const buttonEl =\n",
              "          document.querySelector('#df-326bec7c-69ec-4a26-98bb-ee7224557bd8 button.colab-df-convert');\n",
              "        buttonEl.style.display =\n",
              "          google.colab.kernel.accessAllowed ? 'block' : 'none';\n",
              "\n",
              "        async function convertToInteractive(key) {\n",
              "          const element = document.querySelector('#df-326bec7c-69ec-4a26-98bb-ee7224557bd8');\n",
              "          const dataTable =\n",
              "            await google.colab.kernel.invokeFunction('convertToInteractive',\n",
              "                                                     [key], {});\n",
              "          if (!dataTable) return;\n",
              "\n",
              "          const docLinkHtml = 'Like what you see? Visit the ' +\n",
              "            '<a target=\"_blank\" href=https://colab.research.google.com/notebooks/data_table.ipynb>data table notebook</a>'\n",
              "            + ' to learn more about interactive tables.';\n",
              "          element.innerHTML = '';\n",
              "          dataTable['output_type'] = 'display_data';\n",
              "          await google.colab.output.renderOutput(dataTable, element);\n",
              "          const docLink = document.createElement('div');\n",
              "          docLink.innerHTML = docLinkHtml;\n",
              "          element.appendChild(docLink);\n",
              "        }\n",
              "      </script>\n",
              "    </div>\n",
              "  </div>\n",
              "  "
            ]
          },
          "metadata": {},
          "execution_count": 37
        }
      ],
      "source": [
        "df['Text Score'] = df['Text Score'].apply(analyse_score)\n",
        "df"
      ]
    },
    {
      "cell_type": "code",
      "execution_count": 38,
      "metadata": {
        "colab": {
          "base_uri": "https://localhost:8080/"
        },
        "id": "n88RunjTrZgW",
        "outputId": "e4d07547-d46b-4a66-db93-2e2a1ac13913"
      },
      "outputs": [
        {
          "output_type": "execute_result",
          "data": {
            "text/plain": [
              "Neutral     21130\n",
              "Positive    17761\n",
              "Negative    14367\n",
              "Name: Text Score, dtype: int64"
            ]
          },
          "metadata": {},
          "execution_count": 38
        }
      ],
      "source": [
        "score_counts = df['Text Score'].value_counts()\n",
        "score_counts"
      ]
    },
    {
      "cell_type": "code",
      "execution_count": 39,
      "metadata": {
        "id": "fIDU4V196KNT"
      },
      "outputs": [],
      "source": [
        "import seaborn as sns\n",
        "import matplotlib.pyplot as plt"
      ]
    },
    {
      "cell_type": "markdown",
      "source": [
        "* *The analysis below was conducted by combining the information from both the headlines and descriptions, and analyzing the entire text data.* \n",
        "\n",
        "* *The resulting graph provides insights into the distribution of sentiments within the dataset, highlighting the prevalence of neutral sentiments, followed by negative and positive sentiments.*"
      ],
      "metadata": {
        "id": "PuEtx1Sxd5m3"
      }
    },
    {
      "cell_type": "code",
      "execution_count": 40,
      "metadata": {
        "colab": {
          "base_uri": "https://localhost:8080/",
          "height": 507
        },
        "id": "nij17mJR9rbN",
        "outputId": "305b60cd-f210-4f68-ce3a-078540e95407"
      },
      "outputs": [
        {
          "output_type": "display_data",
          "data": {
            "text/plain": [
              "<Figure size 1000x500 with 2 Axes>"
            ],
            "image/png": "[encoded data removed]"
          },
          "metadata": {}
        }
      ],
      "source": [
        "countplot_colors = ['orange']\n",
        "\n",
        "plt.figure(figsize=(10, 5))\n",
        "plt.subplot(121)\n",
        "sns.countplot(x='Text Score', data=df, color=countplot_colors[0])\n",
        "plt.title('Sentiments')\n",
        "\n",
        "piechart_colors = [ 'skyblue', 'lightgreen',  'red']\n",
        "plt.subplot(122)\n",
        "plt.pie(score_counts, labels=score_counts.index, colors=piechart_colors, autopct='%1.1f%%')\n",
        "plt.title('Sentiment Distribution')\n",
        "\n",
        "plt.tight_layout();"
      ]
    },
    {
      "cell_type": "markdown",
      "source": [
        "* *Based on the graph above, it can be observed that approximately **22,000 sentiments** in the financial news headlines and descriptions were classified as **neutral**, accounting for **39.7% **of the total dataset.* \n",
        "* *Additionally, around **13,500 sentiments** were classified as **negative**, representing **27%** of the total, while approximately **17,500 sentiments** were classified as **positive**, accounting for **33.3%** of the total dataset.*\n",
        "\n"
      ],
      "metadata": {
        "id": "Sy7YZuRtfuGR"
      }
    },
    {
      "cell_type": "markdown",
      "metadata": {
        "id": "xbp_wmAMnMh6"
      },
      "source": [
        "#### *Analyzing the lengths*"
      ]
    },
    {
      "cell_type": "code",
      "execution_count": 41,
      "metadata": {
        "colab": {
          "base_uri": "https://localhost:8080/",
          "height": 569
        },
        "id": "05K1QOyg_vbS",
        "outputId": "bb8ed6dc-d1b9-45aa-c607-0d468df26485"
      },
      "outputs": [
        {
          "output_type": "display_data",
          "data": {
            "text/plain": [
              "<Figure size 1200x600 with 2 Axes>"
            ],
            "image/png": "[encoded data removed]"
          },
          "metadata": {}
        }
      ],
      "source": [
        "headline_lengths = concatenated_df['Headlines'].str.len()\n",
        "description_lengths = concatenated_df['Description'].str.len()\n",
        "fig, axes = plt.subplots(1, 2, figsize=(12, 6))\n",
        "\n",
        "sns.violinplot(x='Text Score', y=description_lengths, data=df, ax=axes[0], palette=['lightgreen', 'red', 'skyblue'])\n",
        "axes[0].set_xlabel('Sentiment')\n",
        "axes[0].set_ylabel('Description Length')\n",
        "axes[0].set_title('Description Length by Sentiment')\n",
        "\n",
        "sns.violinplot(x='Text Score', y=headline_lengths, data=df, ax=axes[1], palette=['lightgreen', 'red', 'skyblue'])\n",
        "axes[1].set_xlabel('Sentiment')\n",
        "axes[1].set_ylabel('Headline Length')\n",
        "axes[1].set_title('Headline Length by Sentiment')\n",
        "\n",
        "plt.tight_layout()"
      ]
    },
    {
      "cell_type": "markdown",
      "source": [
        "***Description Length:***\n",
        "\n",
        "* ***`Positive Sentiments:`*** \n",
        "> *The description length for positive statements mostly falls between 100 and 300 words, with the mean centered around 210 words. There are very few descriptions that have a length of 500 words.*\n",
        "\n",
        "* ***`Negative Sentiments:`***\n",
        "> *Similar to positive sentiments, the description length for negative statements is also primarily between 100 and 300 words, with the mean centered around 210 words. The number of descriptions with a length of 500 words is negligible.*\n",
        "\n",
        "* ***`Neutral Sentiments:`***\n",
        "> *For neutral sentiments, the description length ranges from 50 to 280 words, with the mean around 85 words. There are no descriptions with a length of 500 words.*\n",
        "\n",
        "\n",
        "***Headline Length:***\n",
        "\n",
        "* ***`Positive Sentiments: `*** \n",
        "> *The headline length for positive statements ranges from a minimum of 10 words to a maximum of 160 words. However, the majority of headlines fall within the range of 30 to 110 words, with a mean length around 62 words.*\n",
        "* ***`Negative Sentiments:`*** \n",
        "> Similar to positive sentiments, the headline length for negative statements is almost the same, ranging from 40 to 100 words, with a mean around 62 words.\n",
        "\n",
        "* ***`Neutral Sentiments:`*** \n",
        "> *For neutral sentiments, the headline length varies from a minimum of 10 words to a maximum of 160 words. The majority of headlines are around 30 to 110 words in length, with a mean of approximately 62 words.*"
      ],
      "metadata": {
        "id": "kebPSx0kd4zn"
      }
    },
    {
      "cell_type": "markdown",
      "metadata": {
        "id": "wgt0f3fKfakl"
      },
      "source": [
        "#### *Modelling on Headlines + Description* "
      ]
    },
    {
      "cell_type": "code",
      "execution_count": 42,
      "metadata": {
        "id": "pOd6wPeUhYd2"
      },
      "outputs": [],
      "source": [
        "X_train, X_test, y_train, y_test = train_test_split(df['Text'], \n",
        "                                                    df['Text Score'], \n",
        "                                                    test_size = 0.1, \n",
        "                                                    random_state = 222 )"
      ]
    },
    {
      "cell_type": "markdown",
      "metadata": {
        "id": "h469Z39Zjjvn"
      },
      "source": [
        "*LINEAR SUPPORT VECTOR MACHINE*\n"
      ]
    },
    {
      "cell_type": "code",
      "execution_count": 43,
      "metadata": {
        "colab": {
          "base_uri": "https://localhost:8080/"
        },
        "id": "atnWirUQzTQI",
        "outputId": "f28cb881-1f80-464d-a466-cadae93c5776"
      },
      "outputs": [
        {
          "output_type": "stream",
          "name": "stdout",
          "text": [
            "ML Model - Linear SVC\n",
            "\n",
            "Accuracy Score: 89.3%\n",
            "\n",
            "Confusion Matrix\n",
            "[[1239   39  164]\n",
            " [  62 1913  117]\n",
            " [ 140   48 1604]]\n",
            "\n",
            "Classification Report\n",
            "              precision    recall  f1-score   support\n",
            "\n",
            "    Negative       0.86      0.86      0.86      1442\n",
            "     Neutral       0.96      0.91      0.93      2092\n",
            "    Positive       0.85      0.90      0.87      1792\n",
            "\n",
            "    accuracy                           0.89      5326\n",
            "   macro avg       0.89      0.89      0.89      5326\n",
            "weighted avg       0.89      0.89      0.89      5326\n",
            "\n",
            "CPU times: user 5.06 s, sys: 52.5 ms, total: 5.11 s\n",
            "Wall time: 9.45 s\n"
          ]
        }
      ],
      "source": [
        "%%time\n",
        "pipeline = Pipeline([\n",
        "    ('Tfidf Vectorizer', TfidfVectorizer()),\n",
        "    ('ML Model', LinearSVC())])\n",
        "\n",
        "model_LinearSVC1 = pipeline.fit(X_train, y_train)\n",
        "predictions = model_LinearSVC1.predict(X_test)\n",
        "\n",
        "print('ML Model - Linear SVC\\n')\n",
        "\n",
        "accuracy_LinearSVC1 = accuracy_score(y_test, predictions)\n",
        "print(f\"Accuracy Score: {round(accuracy_LinearSVC1 * 100, 2)}%\")\n",
        "\n",
        "print('\\nConfusion Matrix')\n",
        "print(confusion_matrix(y_test, predictions))\n",
        "\n",
        "print(\"\\nClassification Report\")\n",
        "print(classification_report(y_test, predictions))"
      ]
    },
    {
      "cell_type": "markdown",
      "metadata": {
        "id": "ucmhtCoTjf7H"
      },
      "source": [
        "*LOGISTIC REGRESSION*\n"
      ]
    },
    {
      "cell_type": "code",
      "execution_count": 44,
      "metadata": {
        "colab": {
          "base_uri": "https://localhost:8080/"
        },
        "id": "UXsbyfc22sXR",
        "outputId": "af94014c-679c-435b-cdb0-d9f72550024e"
      },
      "outputs": [
        {
          "output_type": "stream",
          "name": "stdout",
          "text": [
            "Accuracy Score: 86.88%\n",
            "\n",
            "Confusion Matrix\n",
            "[[1182   47  213]\n",
            " [  72 1877  143]\n",
            " [ 160   64 1568]]\n",
            "\n",
            "Classification Report\n",
            "              precision    recall  f1-score   support\n",
            "\n",
            "    Negative       0.84      0.82      0.83      1442\n",
            "     Neutral       0.94      0.90      0.92      2092\n",
            "    Positive       0.81      0.88      0.84      1792\n",
            "\n",
            "    accuracy                           0.87      5326\n",
            "   macro avg       0.87      0.86      0.86      5326\n",
            "weighted avg       0.87      0.87      0.87      5326\n",
            "\n",
            "CPU times: user 8.26 s, sys: 8.61 s, total: 16.9 s\n",
            "Wall time: 11.6 s\n"
          ]
        }
      ],
      "source": [
        "%%time\n",
        "pipeline = Pipeline([\n",
        "    ('CountVectorizer', CountVectorizer()),\n",
        "    ('Tfidf Vectorizer', TfidfTransformer()),\n",
        "    ('ML Model', LogisticRegression())])\n",
        "\n",
        "model_LogR1 = pipeline.fit(X_train, y_train)\n",
        "predictions = model_LogR1.predict(X_test)\n",
        "\n",
        "accuracy_LogR1 = accuracy_score(y_test, predictions)\n",
        "print(f\"Accuracy Score: {round(accuracy_LogR1 * 100, 2)}%\")\n",
        "\n",
        "print('\\nConfusion Matrix')\n",
        "print(confusion_matrix(y_test, predictions))\n",
        "\n",
        "print(\"\\nClassification Report\")\n",
        "print(classification_report(y_test, predictions))"
      ]
    },
    {
      "cell_type": "markdown",
      "metadata": {
        "id": "91Ms-94_jaKm"
      },
      "source": [
        "*BERNOULLI NAIVE BAYES*\n"
      ]
    },
    {
      "cell_type": "code",
      "execution_count": 45,
      "metadata": {
        "colab": {
          "base_uri": "https://localhost:8080/"
        },
        "id": "Tx_-8y_x2sSO",
        "outputId": "5a80a7fb-d187-441d-ea17-6106bd821a19"
      },
      "outputs": [
        {
          "output_type": "stream",
          "name": "stdout",
          "text": [
            "Accuracy Score: 81.36%\n",
            "\n",
            "Confusion Matrix\n",
            "[[1074    4  364]\n",
            " [  88 1776  228]\n",
            " [ 305    4 1483]]\n",
            "\n",
            "Classification Report\n",
            "              precision    recall  f1-score   support\n",
            "\n",
            "    Negative       0.73      0.74      0.74      1442\n",
            "     Neutral       1.00      0.85      0.92      2092\n",
            "    Positive       0.71      0.83      0.77      1792\n",
            "\n",
            "    accuracy                           0.81      5326\n",
            "   macro avg       0.81      0.81      0.81      5326\n",
            "weighted avg       0.83      0.81      0.82      5326\n",
            "\n",
            "CPU times: user 1.48 s, sys: 12.9 ms, total: 1.49 s\n",
            "Wall time: 1.5 s\n"
          ]
        }
      ],
      "source": [
        "%%time\n",
        "pipeline = Pipeline([\n",
        "    ('CountVectorizer', CountVectorizer()),\n",
        "    ('Tfidf Vectorizer', TfidfTransformer()),\n",
        "    ('ML Model', BernoulliNB())\n",
        "])\n",
        "\n",
        "model_BNB1 = pipeline.fit(X_train, y_train)\n",
        "predictions = model_BNB1.predict(X_test)\n",
        "accuracy_BNB1 = accuracy_score(y_test, predictions)\n",
        "print(f\"Accuracy Score: {round(accuracy_BNB1 * 100, 2)}%\")\n",
        "\n",
        "print('\\nConfusion Matrix')\n",
        "print(confusion_matrix(y_test, predictions))\n",
        "\n",
        "print(\"\\nClassification Report\")\n",
        "print(classification_report(y_test, predictions))\n"
      ]
    },
    {
      "cell_type": "markdown",
      "metadata": {
        "id": "ozLeBo9qjdNR"
      },
      "source": [
        "*MULTINOMIAL NAIVE BAYES*\n"
      ]
    },
    {
      "cell_type": "code",
      "execution_count": 46,
      "metadata": {
        "colab": {
          "base_uri": "https://localhost:8080/"
        },
        "id": "kxTsmokz2sVw",
        "outputId": "dc99c861-f477-4e96-8373-c527dc18497d"
      },
      "outputs": [
        {
          "output_type": "stream",
          "name": "stdout",
          "text": [
            "Accuracy Score: 79.74%\n",
            "\n",
            "Confusion Matrix\n",
            "[[ 870   11  561]\n",
            " [  61 1769  262]\n",
            " [ 175    9 1608]]\n",
            "\n",
            "Classification Report\n",
            "              precision    recall  f1-score   support\n",
            "\n",
            "    Negative       0.79      0.60      0.68      1442\n",
            "     Neutral       0.99      0.85      0.91      2092\n",
            "    Positive       0.66      0.90      0.76      1792\n",
            "\n",
            "    accuracy                           0.80      5326\n",
            "   macro avg       0.81      0.78      0.79      5326\n",
            "weighted avg       0.82      0.80      0.80      5326\n",
            "\n",
            "CPU times: user 1.55 s, sys: 6.6 ms, total: 1.55 s\n",
            "Wall time: 1.56 s\n"
          ]
        }
      ],
      "source": [
        "%%time\n",
        "pipeline = Pipeline([\n",
        "    ('CountVectorizer', CountVectorizer()),\n",
        "    ('Tfidf Vectorizer', TfidfTransformer()),\n",
        "    ('ML Model', MultinomialNB())])\n",
        "\n",
        "model_MNB1 = pipeline.fit(X_train, y_train)\n",
        "predictions = model_MNB1.predict(X_test)\n",
        "accuracy_MNB1 = accuracy_score(y_test, predictions)\n",
        "print(f\"Accuracy Score: {round(accuracy_MNB1 * 100, 2)}%\")\n",
        "\n",
        "print('\\nConfusion Matrix')\n",
        "print(confusion_matrix(y_test, predictions))\n",
        "\n",
        "print(\"\\nClassification Report\")\n",
        "print(classification_report(y_test, predictions))\n",
        "\n"
      ]
    },
    {
      "cell_type": "markdown",
      "metadata": {
        "id": "xmzGc9zNI-Ij"
      },
      "source": [
        "*CATBOOST CLASSIFICATION MODEL*"
      ]
    },
    {
      "cell_type": "code",
      "source": [
        "%%time\n",
        "pipeline = Pipeline([\n",
        "    ('CountVectorizer', CountVectorizer()),\n",
        "    ('Tfidf Vectorizer', TfidfTransformer()),\n",
        "    ('ML Model', CatBoostClassifier(iterations=10, random_state=33, verbose=False))\n",
        "])\n",
        "\n",
        "model_CB1 = pipeline.fit(X_train, y_train)\n",
        "predictions = model_CB1.predict(X_test)\n",
        "print('ML Model - CatBoost\\n')\n",
        "\n",
        "accuracy_CB1 = accuracy_score(y_test, predictions)\n",
        "print(f\"Accuracy Score: {round(accuracy_CB1 * 100, 2)}%\")\n",
        "\n",
        "print('\\nConfusion Matrix')\n",
        "print(confusion_matrix(y_test, predictions))\n",
        "\n",
        "print(\"\\nClassification Report\")\n",
        "print(classification_report(y_test, predictions))"
      ],
      "metadata": {
        "colab": {
          "base_uri": "https://localhost:8080/"
        },
        "id": "5zdyyX5v6YDp",
        "outputId": "c2e20fbb-1d92-420a-abbb-0b1609c12fca"
      },
      "execution_count": 47,
      "outputs": [
        {
          "output_type": "stream",
          "name": "stdout",
          "text": [
            "ML Model - CatBoost\n",
            "\n",
            "Accuracy Score: 69.92%\n",
            "\n",
            "Confusion Matrix\n",
            "[[ 584  273  585]\n",
            " [  40 1839  213]\n",
            " [ 229  262 1301]]\n",
            "\n",
            "Classification Report\n",
            "              precision    recall  f1-score   support\n",
            "\n",
            "    Negative       0.68      0.40      0.51      1442\n",
            "     Neutral       0.77      0.88      0.82      2092\n",
            "    Positive       0.62      0.73      0.67      1792\n",
            "\n",
            "    accuracy                           0.70      5326\n",
            "   macro avg       0.69      0.67      0.67      5326\n",
            "weighted avg       0.70      0.70      0.69      5326\n",
            "\n",
            "CPU times: user 44.4 s, sys: 2.18 s, total: 46.6 s\n",
            "Wall time: 27.7 s\n"
          ]
        }
      ]
    },
    {
      "cell_type": "code",
      "execution_count": 48,
      "metadata": {
        "id": "EX55LEhZAUvS"
      },
      "outputs": [],
      "source": [
        "import sklearn.metrics as metrics\n",
        "from sklearn.model_selection import train_test_split"
      ]
    },
    {
      "cell_type": "code",
      "execution_count": 49,
      "metadata": {
        "id": "yCooDdQ7yFdC"
      },
      "outputs": [],
      "source": [
        "def model_comparision(Models, Names, X_train, y_train, X_test, y_test):\n",
        "\n",
        "  for (Model , Name) in zip(Models, Names):\n",
        "    print(Name)\n",
        "\n",
        "    y_pred = Model.predict(X_test)\n",
        "    results = classification_report(y_test, y_pred)\n",
        "\n",
        "    print('Classification Report \\n', results)"
      ]
    },
    {
      "cell_type": "code",
      "execution_count": 50,
      "metadata": {
        "colab": {
          "base_uri": "https://localhost:8080/"
        },
        "id": "2t-NIbeuL8c3",
        "outputId": "81f88e81-2912-4173-e4c4-ede6318a3252"
      },
      "outputs": [
        {
          "output_type": "stream",
          "name": "stdout",
          "text": [
            "LinearSVC\n",
            "Classification Report \n",
            "               precision    recall  f1-score   support\n",
            "\n",
            "    Negative       0.86      0.86      0.86      1442\n",
            "     Neutral       0.96      0.91      0.93      2092\n",
            "    Positive       0.85      0.90      0.87      1792\n",
            "\n",
            "    accuracy                           0.89      5326\n",
            "   macro avg       0.89      0.89      0.89      5326\n",
            "weighted avg       0.89      0.89      0.89      5326\n",
            "\n",
            "Logistic Regression\n",
            "Classification Report \n",
            "               precision    recall  f1-score   support\n",
            "\n",
            "    Negative       0.84      0.82      0.83      1442\n",
            "     Neutral       0.94      0.90      0.92      2092\n",
            "    Positive       0.81      0.88      0.84      1792\n",
            "\n",
            "    accuracy                           0.87      5326\n",
            "   macro avg       0.87      0.86      0.86      5326\n",
            "weighted avg       0.87      0.87      0.87      5326\n",
            "\n",
            "Multinomial Naive Bayes\n",
            "Classification Report \n",
            "               precision    recall  f1-score   support\n",
            "\n",
            "    Negative       0.79      0.60      0.68      1442\n",
            "     Neutral       0.99      0.85      0.91      2092\n",
            "    Positive       0.66      0.90      0.76      1792\n",
            "\n",
            "    accuracy                           0.80      5326\n",
            "   macro avg       0.81      0.78      0.79      5326\n",
            "weighted avg       0.82      0.80      0.80      5326\n",
            "\n",
            "Bernoulli's Naive Bayes\n",
            "Classification Report \n",
            "               precision    recall  f1-score   support\n",
            "\n",
            "    Negative       0.73      0.74      0.74      1442\n",
            "     Neutral       1.00      0.85      0.92      2092\n",
            "    Positive       0.71      0.83      0.77      1792\n",
            "\n",
            "    accuracy                           0.81      5326\n",
            "   macro avg       0.81      0.81      0.81      5326\n",
            "weighted avg       0.83      0.81      0.82      5326\n",
            "\n",
            "CatBoostClassifier\n",
            "Classification Report \n",
            "               precision    recall  f1-score   support\n",
            "\n",
            "    Negative       0.68      0.40      0.51      1442\n",
            "     Neutral       0.77      0.88      0.82      2092\n",
            "    Positive       0.62      0.73      0.67      1792\n",
            "\n",
            "    accuracy                           0.70      5326\n",
            "   macro avg       0.69      0.67      0.67      5326\n",
            "weighted avg       0.70      0.70      0.69      5326\n",
            "\n"
          ]
        }
      ],
      "source": [
        "models = [model_LinearSVC1,\n",
        "          model_LogR1, \n",
        "          model_MNB1,\n",
        "          model_BNB1,\n",
        "          model_CB1]\n",
        "\n",
        "names = ['LinearSVC', \n",
        "         'Logistic Regression', \n",
        "         'Multinomial Naive Bayes',\n",
        "         'Bernoulli\\'s Naive Bayes',\n",
        "         'CatBoostClassifier']\n",
        "\n",
        "model_comparision(models, names, X_train, y_train, X_test, y_test)"
      ]
    },
    {
      "cell_type": "markdown",
      "metadata": {
        "id": "urk4DVzslAXB"
      },
      "source": [
        "#### *Testing with the test data*"
      ]
    },
    {
      "cell_type": "code",
      "execution_count": 51,
      "metadata": {
        "colab": {
          "base_uri": "https://localhost:8080/"
        },
        "id": "T7HvvBOW2sGj",
        "outputId": "3e067743-db90-404c-f83b-eb1b9f1ad1e0"
      },
      "outputs": [
        {
          "output_type": "execute_result",
          "data": {
            "text/plain": [
              "array(['Positive', 'Neutral', 'Positive', ..., 'Neutral', 'Positive',\n",
              "       'Negative'], dtype=object)"
            ]
          },
          "metadata": {},
          "execution_count": 51
        }
      ],
      "source": [
        "y_predicted = model_LinearSVC1.predict(X_test)\n",
        "y_predicted"
      ]
    },
    {
      "cell_type": "code",
      "execution_count": 52,
      "metadata": {
        "colab": {
          "base_uri": "https://localhost:8080/",
          "height": 423
        },
        "id": "pOKTBCnPlD5J",
        "outputId": "cf0b86ce-11f9-4d46-facc-25d7015e1790"
      },
      "outputs": [
        {
          "output_type": "execute_result",
          "data": {
            "text/plain": [
              "             0\n",
              "0     Positive\n",
              "1      Neutral\n",
              "2     Positive\n",
              "3      Neutral\n",
              "4     Positive\n",
              "...        ...\n",
              "5321  Negative\n",
              "5322  Negative\n",
              "5323   Neutral\n",
              "5324  Positive\n",
              "5325  Negative\n",
              "\n",
              "[5326 rows x 1 columns]"
            ],
            "text/html": [
              "\n",
              "  <div id=\"df-5be2f92a-9179-4104-8af2-378f71871af9\">\n",
              "    <div class=\"colab-df-container\">\n",
              "      <div>\n",
              "<style scoped>\n",
              "    .dataframe tbody tr th:only-of-type {\n",
              "        vertical-align: middle;\n",
              "    }\n",
              "\n",
              "    .dataframe tbody tr th {\n",
              "        vertical-align: top;\n",
              "    }\n",
              "\n",
              "    .dataframe thead th {\n",
              "        text-align: right;\n",
              "    }\n",
              "</style>\n",
              "<table border=\"1\" class=\"dataframe\">\n",
              "  <thead>\n",
              "    <tr style=\"text-align: right;\">\n",
              "      <th></th>\n",
              "      <th>0</th>\n",
              "    </tr>\n",
              "  </thead>\n",
              "  <tbody>\n",
              "    <tr>\n",
              "      <th>0</th>\n",
              "      <td>Positive</td>\n",
              "    </tr>\n",
              "    <tr>\n",
              "      <th>1</th>\n",
              "      <td>Neutral</td>\n",
              "    </tr>\n",
              "    <tr>\n",
              "      <th>2</th>\n",
              "      <td>Positive</td>\n",
              "    </tr>\n",
              "    <tr>\n",
              "      <th>3</th>\n",
              "      <td>Neutral</td>\n",
              "    </tr>\n",
              "    <tr>\n",
              "      <th>4</th>\n",
              "      <td>Positive</td>\n",
              "    </tr>\n",
              "    <tr>\n",
              "      <th>...</th>\n",
              "      <td>...</td>\n",
              "    </tr>\n",
              "    <tr>\n",
              "      <th>5321</th>\n",
              "      <td>Negative</td>\n",
              "    </tr>\n",
              "    <tr>\n",
              "      <th>5322</th>\n",
              "      <td>Negative</td>\n",
              "    </tr>\n",
              "    <tr>\n",
              "      <th>5323</th>\n",
              "      <td>Neutral</td>\n",
              "    </tr>\n",
              "    <tr>\n",
              "      <th>5324</th>\n",
              "      <td>Positive</td>\n",
              "    </tr>\n",
              "    <tr>\n",
              "      <th>5325</th>\n",
              "      <td>Negative</td>\n",
              "    </tr>\n",
              "  </tbody>\n",
              "</table>\n",
              "<p>5326 rows × 1 columns</p>\n",
              "</div>\n",
              "      <button class=\"colab-df-convert\" onclick=\"convertToInteractive('df-5be2f92a-9179-4104-8af2-378f71871af9')\"\n",
              "              title=\"Convert this dataframe to an interactive table.\"\n",
              "              style=\"display:none;\">\n",
              "        \n",
              "  <svg xmlns=\"http://www.w3.org/2000/svg\" height=\"24px\"viewBox=\"0 0 24 24\"\n",
              "       width=\"24px\">\n",
              "    <path d=\"M0 0h24v24H0V0z\" fill=\"none\"/>\n",
              "    <path d=\"M18.56 5.44l.94 2.06.94-2.06 2.06-.94-2.06-.94-.94-2.06-.94 2.06-2.06.94zm-11 1L8.5 8.5l.94-2.06 2.06-.94-2.06-.94L8.5 2.5l-.94 2.06-2.06.94zm10 10l.94 2.06.94-2.06 2.06-.94-2.06-.94-.94-2.06-.94 2.06-2.06.94z\"/><path d=\"M17.41 7.96l-1.37-1.37c-.4-.4-.92-.59-1.43-.59-.52 0-1.04.2-1.43.59L10.3 9.45l-7.72 7.72c-.78.78-.78 2.05 0 2.83L4 21.41c.39.39.9.59 1.41.59.51 0 1.02-.2 1.41-.59l7.78-7.78 2.81-2.81c.8-.78.8-2.07 0-2.86zM5.41 20L4 18.59l7.72-7.72 1.47 1.35L5.41 20z\"/>\n",
              "  </svg>\n",
              "      </button>\n",
              "      \n",
              "  <style>\n",
              "    .colab-df-container {\n",
              "      display:flex;\n",
              "      flex-wrap:wrap;\n",
              "      gap: 12px;\n",
              "    }\n",
              "\n",
              "    .colab-df-convert {\n",
              "      background-color: #E8F0FE;\n",
              "      border: none;\n",
              "      border-radius: 50%;\n",
              "      cursor: pointer;\n",
              "      display: none;\n",
              "      fill: #1967D2;\n",
              "      height: 32px;\n",
              "      padding: 0 0 0 0;\n",
              "      width: 32px;\n",
              "    }\n",
              "\n",
              "    .colab-df-convert:hover {\n",
              "      background-color: #E2EBFA;\n",
              "      box-shadow: 0px 1px 2px rgba(60, 64, 67, 0.3), 0px 1px 3px 1px rgba(60, 64, 67, 0.15);\n",
              "      fill: #174EA6;\n",
              "    }\n",
              "\n",
              "    [theme=dark] .colab-df-convert {\n",
              "      background-color: #3B4455;\n",
              "      fill: #D2E3FC;\n",
              "    }\n",
              "\n",
              "    [theme=dark] .colab-df-convert:hover {\n",
              "      background-color: #434B5C;\n",
              "      box-shadow: 0px 1px 3px 1px rgba(0, 0, 0, 0.15);\n",
              "      filter: drop-shadow(0px 1px 2px rgba(0, 0, 0, 0.3));\n",
              "      fill: #FFFFFF;\n",
              "    }\n",
              "  </style>\n",
              "\n",
              "      <script>\n",
              "        const buttonEl =\n",
              "          document.querySelector('#df-5be2f92a-9179-4104-8af2-378f71871af9 button.colab-df-convert');\n",
              "        buttonEl.style.display =\n",
              "          google.colab.kernel.accessAllowed ? 'block' : 'none';\n",
              "\n",
              "        async function convertToInteractive(key) {\n",
              "          const element = document.querySelector('#df-5be2f92a-9179-4104-8af2-378f71871af9');\n",
              "          const dataTable =\n",
              "            await google.colab.kernel.invokeFunction('convertToInteractive',\n",
              "                                                     [key], {});\n",
              "          if (!dataTable) return;\n",
              "\n",
              "          const docLinkHtml = 'Like what you see? Visit the ' +\n",
              "            '<a target=\"_blank\" href=https://colab.research.google.com/notebooks/data_table.ipynb>data table notebook</a>'\n",
              "            + ' to learn more about interactive tables.';\n",
              "          element.innerHTML = '';\n",
              "          dataTable['output_type'] = 'display_data';\n",
              "          await google.colab.output.renderOutput(dataTable, element);\n",
              "          const docLink = document.createElement('div');\n",
              "          docLink.innerHTML = docLinkHtml;\n",
              "          element.appendChild(docLink);\n",
              "        }\n",
              "      </script>\n",
              "    </div>\n",
              "  </div>\n",
              "  "
            ]
          },
          "metadata": {},
          "execution_count": 52
        }
      ],
      "source": [
        "predictions = pd.DataFrame(y_predicted)\n",
        "predictions"
      ]
    },
    {
      "cell_type": "markdown",
      "source": [
        "> *Based on the experiments I conducted on the combined dataset of headlines and descriptions, it can be concluded that the ***Linear SVC*** algorithm performed the best in terms of sentiment prediction accuracy, achieving an accuracy score of **89.3%**.*\n",
        "\n",
        "*For the next phase of my analysis, I will evaluate the models individually on the headlines and descriptions separately. This approach will allow me to examine the predictive power of each algorithm specifically on these two text features and gain further insights into their performance in capturing sentiment patterns within **Headlines and Descriptions**.*"
      ],
      "metadata": {
        "id": "FY66z2MFmVaa"
      }
    },
    {
      "cell_type": "markdown",
      "metadata": {
        "id": "5eJb1i9EYzNU"
      },
      "source": [
        "#### *Headlines*"
      ]
    },
    {
      "cell_type": "code",
      "execution_count": 53,
      "metadata": {
        "colab": {
          "base_uri": "https://localhost:8080/",
          "height": 206
        },
        "id": "wFmAITs64xzF",
        "outputId": "ae4937ef-7b8b-458d-af94-00c9e9560e98"
      },
      "outputs": [
        {
          "output_type": "execute_result",
          "data": {
            "text/plain": [
              "                                           Headlines         Time\n",
              "0  TikTok considers London and other locations fo...  Jul 18 2020\n",
              "1  Disney cuts ad spending on Facebook amid growi...  Jul 18 2020\n",
              "2  Trail of missing Wirecard executive leads to B...  Jul 18 2020\n",
              "3  Twitter says attackers downloaded data from up...  Jul 18 2020\n",
              "4  U.S. Republicans seek liability protections as...  Jul 17 2020"
            ],
            "text/html": [
              "\n",
              "  <div id=\"df-b43056ff-0f79-40d8-b138-ef440d5a770a\">\n",
              "    <div class=\"colab-df-container\">\n",
              "      <div>\n",
              "<style scoped>\n",
              "    .dataframe tbody tr th:only-of-type {\n",
              "        vertical-align: middle;\n",
              "    }\n",
              "\n",
              "    .dataframe tbody tr th {\n",
              "        vertical-align: top;\n",
              "    }\n",
              "\n",
              "    .dataframe thead th {\n",
              "        text-align: right;\n",
              "    }\n",
              "</style>\n",
              "<table border=\"1\" class=\"dataframe\">\n",
              "  <thead>\n",
              "    <tr style=\"text-align: right;\">\n",
              "      <th></th>\n",
              "      <th>Headlines</th>\n",
              "      <th>Time</th>\n",
              "    </tr>\n",
              "  </thead>\n",
              "  <tbody>\n",
              "    <tr>\n",
              "      <th>0</th>\n",
              "      <td>TikTok considers London and other locations fo...</td>\n",
              "      <td>Jul 18 2020</td>\n",
              "    </tr>\n",
              "    <tr>\n",
              "      <th>1</th>\n",
              "      <td>Disney cuts ad spending on Facebook amid growi...</td>\n",
              "      <td>Jul 18 2020</td>\n",
              "    </tr>\n",
              "    <tr>\n",
              "      <th>2</th>\n",
              "      <td>Trail of missing Wirecard executive leads to B...</td>\n",
              "      <td>Jul 18 2020</td>\n",
              "    </tr>\n",
              "    <tr>\n",
              "      <th>3</th>\n",
              "      <td>Twitter says attackers downloaded data from up...</td>\n",
              "      <td>Jul 18 2020</td>\n",
              "    </tr>\n",
              "    <tr>\n",
              "      <th>4</th>\n",
              "      <td>U.S. Republicans seek liability protections as...</td>\n",
              "      <td>Jul 17 2020</td>\n",
              "    </tr>\n",
              "  </tbody>\n",
              "</table>\n",
              "</div>\n",
              "      <button class=\"colab-df-convert\" onclick=\"convertToInteractive('df-b43056ff-0f79-40d8-b138-ef440d5a770a')\"\n",
              "              title=\"Convert this dataframe to an interactive table.\"\n",
              "              style=\"display:none;\">\n",
              "        \n",
              "  <svg xmlns=\"http://www.w3.org/2000/svg\" height=\"24px\"viewBox=\"0 0 24 24\"\n",
              "       width=\"24px\">\n",
              "    <path d=\"M0 0h24v24H0V0z\" fill=\"none\"/>\n",
              "    <path d=\"M18.56 5.44l.94 2.06.94-2.06 2.06-.94-2.06-.94-.94-2.06-.94 2.06-2.06.94zm-11 1L8.5 8.5l.94-2.06 2.06-.94-2.06-.94L8.5 2.5l-.94 2.06-2.06.94zm10 10l.94 2.06.94-2.06 2.06-.94-2.06-.94-.94-2.06-.94 2.06-2.06.94z\"/><path d=\"M17.41 7.96l-1.37-1.37c-.4-.4-.92-.59-1.43-.59-.52 0-1.04.2-1.43.59L10.3 9.45l-7.72 7.72c-.78.78-.78 2.05 0 2.83L4 21.41c.39.39.9.59 1.41.59.51 0 1.02-.2 1.41-.59l7.78-7.78 2.81-2.81c.8-.78.8-2.07 0-2.86zM5.41 20L4 18.59l7.72-7.72 1.47 1.35L5.41 20z\"/>\n",
              "  </svg>\n",
              "      </button>\n",
              "      \n",
              "  <style>\n",
              "    .colab-df-container {\n",
              "      display:flex;\n",
              "      flex-wrap:wrap;\n",
              "      gap: 12px;\n",
              "    }\n",
              "\n",
              "    .colab-df-convert {\n",
              "      background-color: #E8F0FE;\n",
              "      border: none;\n",
              "      border-radius: 50%;\n",
              "      cursor: pointer;\n",
              "      display: none;\n",
              "      fill: #1967D2;\n",
              "      height: 32px;\n",
              "      padding: 0 0 0 0;\n",
              "      width: 32px;\n",
              "    }\n",
              "\n",
              "    .colab-df-convert:hover {\n",
              "      background-color: #E2EBFA;\n",
              "      box-shadow: 0px 1px 2px rgba(60, 64, 67, 0.3), 0px 1px 3px 1px rgba(60, 64, 67, 0.15);\n",
              "      fill: #174EA6;\n",
              "    }\n",
              "\n",
              "    [theme=dark] .colab-df-convert {\n",
              "      background-color: #3B4455;\n",
              "      fill: #D2E3FC;\n",
              "    }\n",
              "\n",
              "    [theme=dark] .colab-df-convert:hover {\n",
              "      background-color: #434B5C;\n",
              "      box-shadow: 0px 1px 3px 1px rgba(0, 0, 0, 0.15);\n",
              "      filter: drop-shadow(0px 1px 2px rgba(0, 0, 0, 0.3));\n",
              "      fill: #FFFFFF;\n",
              "    }\n",
              "  </style>\n",
              "\n",
              "      <script>\n",
              "        const buttonEl =\n",
              "          document.querySelector('#df-b43056ff-0f79-40d8-b138-ef440d5a770a button.colab-df-convert');\n",
              "        buttonEl.style.display =\n",
              "          google.colab.kernel.accessAllowed ? 'block' : 'none';\n",
              "\n",
              "        async function convertToInteractive(key) {\n",
              "          const element = document.querySelector('#df-b43056ff-0f79-40d8-b138-ef440d5a770a');\n",
              "          const dataTable =\n",
              "            await google.colab.kernel.invokeFunction('convertToInteractive',\n",
              "                                                     [key], {});\n",
              "          if (!dataTable) return;\n",
              "\n",
              "          const docLinkHtml = 'Like what you see? Visit the ' +\n",
              "            '<a target=\"_blank\" href=https://colab.research.google.com/notebooks/data_table.ipynb>data table notebook</a>'\n",
              "            + ' to learn more about interactive tables.';\n",
              "          element.innerHTML = '';\n",
              "          dataTable['output_type'] = 'display_data';\n",
              "          await google.colab.output.renderOutput(dataTable, element);\n",
              "          const docLink = document.createElement('div');\n",
              "          docLink.innerHTML = docLinkHtml;\n",
              "          element.appendChild(docLink);\n",
              "        }\n",
              "      </script>\n",
              "    </div>\n",
              "  </div>\n",
              "  "
            ]
          },
          "metadata": {},
          "execution_count": 53
        }
      ],
      "source": [
        "df_headlines = concatenated_df.drop(columns = ['Description'], axis = 1)\n",
        "df_headlines.head()"
      ]
    },
    {
      "cell_type": "code",
      "execution_count": 54,
      "metadata": {
        "id": "EBdenfoGAgOL"
      },
      "outputs": [],
      "source": [
        "df_headlines['Headline Score'] = df_headlines['Headlines'].apply(lambda x: analyse_score(analyzer.polarity_scores(x)['compound']))"
      ]
    },
    {
      "cell_type": "code",
      "execution_count": 55,
      "metadata": {
        "colab": {
          "base_uri": "https://localhost:8080/",
          "height": 507
        },
        "id": "NiIoQpS1AgIg",
        "outputId": "40405329-a59c-403e-b73a-8702f4930446"
      },
      "outputs": [
        {
          "output_type": "display_data",
          "data": {
            "text/plain": [
              "<Figure size 1000x500 with 2 Axes>"
            ],
            "image/png": "[encoded data removed]"
          },
          "metadata": {}
        }
      ],
      "source": [
        "score_counts = df_headlines['Headline Score'].value_counts()\n",
        "\n",
        "plt.figure(figsize=(10, 5))\n",
        "plt.subplot(121)\n",
        "sns.countplot(x='Headline Score', data=df_headlines, color = 'yellow')\n",
        "plt.title('Sentiments')\n",
        "\n",
        "colors = ['skyblue',  'red', 'lightgreen']\n",
        "plt.subplot(122)\n",
        "plt.pie(score_counts, labels=score_counts.index, colors=piechart_colors, autopct='%1.1f%%')\n",
        "plt.title('Sentiment Distribution')\n",
        "\n",
        "plt.tight_layout();"
      ]
    },
    {
      "cell_type": "markdown",
      "source": [
        "#### *Analysis focused solely on predicting sentiments based on Headlines*\n",
        "\n",
        "\n",
        "* *The majority of sentiments were either **negative or neutral**, totaling approximately **18,500** instances. These negative and neutral sentiments accounted for **35%** and **35.1%** of the total, respectively.* \n",
        "* *On the other hand, **positive sentiments** constituted around **15,100** instances, which corresponded to **29.9%** of the total sentiments captured in the headlines*"
      ],
      "metadata": {
        "id": "oYbH-UD4nHaR"
      }
    },
    {
      "cell_type": "markdown",
      "metadata": {
        "id": "xldbLpNQgfG-"
      },
      "source": [
        "#### *Modeling on Headlines*"
      ]
    },
    {
      "cell_type": "code",
      "execution_count": 56,
      "metadata": {
        "id": "T1v5tZHj4xk7"
      },
      "outputs": [],
      "source": [
        "X_train, X_test, y_train, y_test = train_test_split(df_headlines['Headlines'], \n",
        "                                                    df_headlines['Headline Score'], \n",
        "                                                    test_size = 0.1, \n",
        "                                                    random_state = 222 )"
      ]
    },
    {
      "cell_type": "markdown",
      "metadata": {
        "id": "x4bzS8ZiiZ5I"
      },
      "source": [
        "*LINEAR SUPPORT VECTOR MACHINE*"
      ]
    },
    {
      "cell_type": "code",
      "execution_count": 57,
      "metadata": {
        "colab": {
          "base_uri": "https://localhost:8080/"
        },
        "id": "ajb1LxXxhsKS",
        "outputId": "a74ac296-0f68-4547-c103-1bb9b605dddc"
      },
      "outputs": [
        {
          "output_type": "stream",
          "name": "stdout",
          "text": [
            "ML Model - Linear SVC\n",
            "\n",
            "Accuracy Score: 90.87%\n",
            "\n",
            "Confusion Matrix\n",
            "[[1682   97  106]\n",
            " [  51 1779   38]\n",
            " [ 113   81 1379]]\n",
            "\n",
            "Classification Report\n",
            "              precision    recall  f1-score   support\n",
            "\n",
            "    Negative       0.91      0.89      0.90      1885\n",
            "     Neutral       0.91      0.95      0.93      1868\n",
            "    Positive       0.91      0.88      0.89      1573\n",
            "\n",
            "    accuracy                           0.91      5326\n",
            "   macro avg       0.91      0.91      0.91      5326\n",
            "weighted avg       0.91      0.91      0.91      5326\n",
            "\n",
            "CPU times: user 1.75 s, sys: 4.64 ms, total: 1.75 s\n",
            "Wall time: 1.76 s\n"
          ]
        }
      ],
      "source": [
        "%%time\n",
        "pipeline = Pipeline([\n",
        "    ('Tfidf Vectorizer', TfidfVectorizer()),\n",
        "    ('ML Model', LinearSVC())])\n",
        "\n",
        "model_LinearSVC11 = pipeline.fit(X_train, y_train)\n",
        "predictions = model_LinearSVC11.predict(X_test)\n",
        "\n",
        "print('ML Model - Linear SVC\\n')\n",
        "\n",
        "accuracy_LinearSVC11 = accuracy_score(y_test, predictions)\n",
        "print(f\"Accuracy Score: {round(accuracy_LinearSVC11 * 100, 2)}%\")\n",
        "\n",
        "print('\\nConfusion Matrix')\n",
        "print(confusion_matrix(y_test, predictions))\n",
        "\n",
        "print(\"\\nClassification Report\")\n",
        "print(classification_report(y_test, predictions))"
      ]
    },
    {
      "cell_type": "markdown",
      "metadata": {
        "id": "MSeXO8a1iePB"
      },
      "source": [
        "*LOGISTIC REGRESSION*"
      ]
    },
    {
      "cell_type": "code",
      "execution_count": 58,
      "metadata": {
        "colab": {
          "base_uri": "https://localhost:8080/"
        },
        "id": "nU4V-w3vhsHi",
        "outputId": "968b896a-bbaf-434a-f1a6-6fdf09caab19"
      },
      "outputs": [
        {
          "output_type": "stream",
          "name": "stdout",
          "text": [
            "Accuracy Score: 86.35%\n",
            "\n",
            "Confusion Matrix\n",
            "[[1584  180  121]\n",
            " [  60 1771   37]\n",
            " [ 132  197 1244]]\n",
            "\n",
            "Classification Report\n",
            "              precision    recall  f1-score   support\n",
            "\n",
            "    Negative       0.89      0.84      0.87      1885\n",
            "     Neutral       0.82      0.95      0.88      1868\n",
            "    Positive       0.89      0.79      0.84      1573\n",
            "\n",
            "    accuracy                           0.86      5326\n",
            "   macro avg       0.87      0.86      0.86      5326\n",
            "weighted avg       0.87      0.86      0.86      5326\n",
            "\n",
            "CPU times: user 6.19 s, sys: 5.8 s, total: 12 s\n",
            "Wall time: 7.86 s\n"
          ]
        }
      ],
      "source": [
        "%%time\n",
        "pipeline = Pipeline([\n",
        "    ('CountVectorizer', CountVectorizer()),\n",
        "    ('Tfidf Vectorizer', TfidfTransformer()),\n",
        "    ('ML Model', LogisticRegression())])\n",
        "\n",
        "model_LogR11 = pipeline.fit(X_train, y_train)\n",
        "predictions = model_LogR11.predict(X_test)\n",
        "\n",
        "accuracy_LogR11 = accuracy_score(y_test, predictions)\n",
        "print(f\"Accuracy Score: {round(accuracy_LogR11 * 100, 2)}%\")\n",
        "\n",
        "print('\\nConfusion Matrix')\n",
        "print(confusion_matrix(y_test, predictions))\n",
        "\n",
        "print(\"\\nClassification Report\")\n",
        "print(classification_report(y_test, predictions))"
      ]
    },
    {
      "cell_type": "markdown",
      "metadata": {
        "id": "uX2i2JIwiiAk"
      },
      "source": [
        "*MULTINOMIAL NAIVE BAYES*\n"
      ]
    },
    {
      "cell_type": "code",
      "execution_count": 59,
      "metadata": {
        "colab": {
          "base_uri": "https://localhost:8080/"
        },
        "id": "yaq-D8-qhsFH",
        "outputId": "bb860af3-a90a-4a80-8dee-62b993bd9f8b"
      },
      "outputs": [
        {
          "output_type": "stream",
          "name": "stdout",
          "text": [
            "Accuracy Score: 77.99%\n",
            "\n",
            "Confusion Matrix\n",
            "[[1623  132  130]\n",
            " [ 279 1477  112]\n",
            " [ 349  170 1054]]\n",
            "\n",
            "Classification Report\n",
            "              precision    recall  f1-score   support\n",
            "\n",
            "    Negative       0.72      0.86      0.78      1885\n",
            "     Neutral       0.83      0.79      0.81      1868\n",
            "    Positive       0.81      0.67      0.73      1573\n",
            "\n",
            "    accuracy                           0.78      5326\n",
            "   macro avg       0.79      0.77      0.78      5326\n",
            "weighted avg       0.79      0.78      0.78      5326\n",
            "\n",
            "CPU times: user 973 ms, sys: 8.06 ms, total: 981 ms\n",
            "Wall time: 980 ms\n"
          ]
        }
      ],
      "source": [
        "%%time\n",
        "pipeline = Pipeline([\n",
        "    ('CountVectorizer', CountVectorizer()),\n",
        "    ('Tfidf Vectorizer', TfidfTransformer()),\n",
        "    ('ML Model', MultinomialNB())])\n",
        "\n",
        "model_MNB11 = pipeline.fit(X_train, y_train)\n",
        "predictions = model_MNB11.predict(X_test)\n",
        "\n",
        "accuracy_MNB11 = accuracy_score(y_test, predictions)\n",
        "print(f\"Accuracy Score: {round(accuracy_MNB11 * 100, 2)}%\")\n",
        "\n",
        "print('\\nConfusion Matrix')\n",
        "print(confusion_matrix(y_test, predictions))\n",
        "\n",
        "print(\"\\nClassification Report\")\n",
        "print(classification_report(y_test, predictions))"
      ]
    },
    {
      "cell_type": "markdown",
      "metadata": {
        "id": "67D7-TNXil6t"
      },
      "source": [
        "*BERNOULLI NAIVE BAYES*\n"
      ]
    },
    {
      "cell_type": "code",
      "execution_count": 60,
      "metadata": {
        "colab": {
          "base_uri": "https://localhost:8080/"
        },
        "id": "I-RnJCDxhsB6",
        "outputId": "3387a975-4563-4eb8-b5f1-8f542f7ee81b"
      },
      "outputs": [
        {
          "output_type": "stream",
          "name": "stdout",
          "text": [
            "Accuracy Score: 79.48%\n",
            "\n",
            "Confusion Matrix\n",
            "[[1578  112  195]\n",
            " [ 235 1485  148]\n",
            " [ 289  114 1170]]\n",
            "\n",
            "Classification Report\n",
            "              precision    recall  f1-score   support\n",
            "\n",
            "    Negative       0.75      0.84      0.79      1885\n",
            "     Neutral       0.87      0.79      0.83      1868\n",
            "    Positive       0.77      0.74      0.76      1573\n",
            "\n",
            "    accuracy                           0.79      5326\n",
            "   macro avg       0.80      0.79      0.79      5326\n",
            "weighted avg       0.80      0.79      0.80      5326\n",
            "\n",
            "CPU times: user 1.01 s, sys: 3.88 ms, total: 1.02 s\n",
            "Wall time: 1.02 s\n"
          ]
        }
      ],
      "source": [
        "%%time\n",
        "pipeline = Pipeline([\n",
        "    ('CountVectorizer', CountVectorizer()),\n",
        "    ('Tfidf Vectorizer', TfidfTransformer()),\n",
        "    ('ML Model', BernoulliNB())\n",
        "])\n",
        "\n",
        "model_BNB11 = pipeline.fit(X_train, y_train)\n",
        "predictions = model_BNB11.predict(X_test)\n",
        "\n",
        "accuracy_BNB11 = accuracy_score(y_test, predictions)\n",
        "print(f\"Accuracy Score: {round(accuracy_BNB11 * 100, 2)}%\")\n",
        "\n",
        "print('\\nConfusion Matrix')\n",
        "print(confusion_matrix(y_test, predictions))\n",
        "\n",
        "print(\"\\nClassification Report\")\n",
        "print(classification_report(y_test, predictions))"
      ]
    },
    {
      "cell_type": "markdown",
      "metadata": {
        "id": "KvtPTYGbMvY-"
      },
      "source": [
        "*CATBOOST CLASSIFICATION MODEL*"
      ]
    },
    {
      "cell_type": "code",
      "execution_count": 61,
      "metadata": {
        "colab": {
          "base_uri": "https://localhost:8080/"
        },
        "id": "wrO8iIstMu6D",
        "outputId": "5ded58ba-1962-42bc-81d2-204d8c7e3b14"
      },
      "outputs": [
        {
          "output_type": "stream",
          "name": "stdout",
          "text": [
            "ML Model - CatBoost\n",
            "\n",
            "Accuracy Score: 62.04%\n",
            "\n",
            "Confusion Matrix\n",
            "[[ 832  935  118]\n",
            " [  30 1821   17]\n",
            " [ 114  808  651]]\n",
            "\n",
            "Classification Report\n",
            "              precision    recall  f1-score   support\n",
            "\n",
            "    Negative       0.85      0.44      0.58      1885\n",
            "     Neutral       0.51      0.97      0.67      1868\n",
            "    Positive       0.83      0.41      0.55      1573\n",
            "\n",
            "    accuracy                           0.62      5326\n",
            "   macro avg       0.73      0.61      0.60      5326\n",
            "weighted avg       0.73      0.62      0.60      5326\n",
            "\n",
            "CPU times: user 28.1 s, sys: 7.91 s, total: 36 s\n",
            "Wall time: 21.9 s\n"
          ]
        }
      ],
      "source": [
        "%%time\n",
        "pipeline = Pipeline([\n",
        "    ('CountVectorizer', CountVectorizer()),\n",
        "    ('Tfidf Vectorizer', TfidfTransformer()),\n",
        "    ('ML Model', CatBoostClassifier(iterations=10, random_state=33, verbose=False))\n",
        "])\n",
        "\n",
        "model_CB11 = pipeline.fit(X_train, y_train)\n",
        "predictions = model_CB11.predict(X_test)\n",
        "print('ML Model - CatBoost\\n')\n",
        "\n",
        "accuracy_CB11 = accuracy_score(y_test, predictions)\n",
        "print(f\"Accuracy Score: {round(accuracy_CB11 * 100, 2)}%\")\n",
        "\n",
        "print('\\nConfusion Matrix')\n",
        "print(confusion_matrix(y_test, predictions))\n",
        "\n",
        "print(\"\\nClassification Report\")\n",
        "print(classification_report(y_test, predictions))"
      ]
    },
    {
      "cell_type": "code",
      "execution_count": 62,
      "metadata": {
        "colab": {
          "base_uri": "https://localhost:8080/"
        },
        "id": "1o5wwx4eaggf",
        "outputId": "76f5c92f-bfd3-4ad8-c532-fb81c946e4b5"
      },
      "outputs": [
        {
          "output_type": "stream",
          "name": "stdout",
          "text": [
            "LinearSVC\n",
            "Classification Report \n",
            "               precision    recall  f1-score   support\n",
            "\n",
            "    Negative       0.91      0.89      0.90      1885\n",
            "     Neutral       0.91      0.95      0.93      1868\n",
            "    Positive       0.91      0.88      0.89      1573\n",
            "\n",
            "    accuracy                           0.91      5326\n",
            "   macro avg       0.91      0.91      0.91      5326\n",
            "weighted avg       0.91      0.91      0.91      5326\n",
            "\n",
            "Logistic Regression\n",
            "Classification Report \n",
            "               precision    recall  f1-score   support\n",
            "\n",
            "    Negative       0.89      0.84      0.87      1885\n",
            "     Neutral       0.82      0.95      0.88      1868\n",
            "    Positive       0.89      0.79      0.84      1573\n",
            "\n",
            "    accuracy                           0.86      5326\n",
            "   macro avg       0.87      0.86      0.86      5326\n",
            "weighted avg       0.87      0.86      0.86      5326\n",
            "\n",
            "Multinomial Naive Bayes\n",
            "Classification Report \n",
            "               precision    recall  f1-score   support\n",
            "\n",
            "    Negative       0.72      0.86      0.78      1885\n",
            "     Neutral       0.83      0.79      0.81      1868\n",
            "    Positive       0.81      0.67      0.73      1573\n",
            "\n",
            "    accuracy                           0.78      5326\n",
            "   macro avg       0.79      0.77      0.78      5326\n",
            "weighted avg       0.79      0.78      0.78      5326\n",
            "\n",
            "Bernoulli's Naive Bayes\n",
            "Classification Report \n",
            "               precision    recall  f1-score   support\n",
            "\n",
            "    Negative       0.75      0.84      0.79      1885\n",
            "     Neutral       0.87      0.79      0.83      1868\n",
            "    Positive       0.77      0.74      0.76      1573\n",
            "\n",
            "    accuracy                           0.79      5326\n",
            "   macro avg       0.80      0.79      0.79      5326\n",
            "weighted avg       0.80      0.79      0.80      5326\n",
            "\n",
            "CatBoost\n",
            "Classification Report \n",
            "               precision    recall  f1-score   support\n",
            "\n",
            "    Negative       0.85      0.44      0.58      1885\n",
            "     Neutral       0.51      0.97      0.67      1868\n",
            "    Positive       0.83      0.41      0.55      1573\n",
            "\n",
            "    accuracy                           0.62      5326\n",
            "   macro avg       0.73      0.61      0.60      5326\n",
            "weighted avg       0.73      0.62      0.60      5326\n",
            "\n"
          ]
        }
      ],
      "source": [
        "models = [model_LinearSVC11,\n",
        "          model_LogR11, \n",
        "          model_MNB11,\n",
        "          model_BNB11,\n",
        "          model_CB11]\n",
        "\n",
        "names = ['LinearSVC', \n",
        "         'Logistic Regression', \n",
        "         'Multinomial Naive Bayes',\n",
        "         'Bernoulli\\'s Naive Bayes',\n",
        "         'CatBoost']\n",
        "\n",
        "model_comparision(models, names, X_train, y_train, X_test, y_test)"
      ]
    },
    {
      "cell_type": "markdown",
      "source": [
        "*Based on my analysis of predicting sentiments based on the headlines from CNBC, Reuters, and The Guardian newspapers, I conclude that the **Linear SVM** algorithm achieved the highest performance with an accuracy of **90.87%**. This indicates that Linear SVM was the most effective in correctly classifying the sentiments expressed in the headlines.*"
      ],
      "metadata": {
        "id": "2m5OhoF52p-z"
      }
    },
    {
      "cell_type": "markdown",
      "metadata": {
        "id": "gsQKs2r_lSaz"
      },
      "source": [
        "#### *Testing with the test data*"
      ]
    },
    {
      "cell_type": "code",
      "execution_count": 63,
      "metadata": {
        "colab": {
          "base_uri": "https://localhost:8080/"
        },
        "id": "VSSPcY-VjFyc",
        "outputId": "0b2d9349-dd2a-40b1-96b5-954a80b30c95"
      },
      "outputs": [
        {
          "output_type": "execute_result",
          "data": {
            "text/plain": [
              "array(['Positive', 'Positive', 'Negative', ..., 'Negative', 'Neutral',\n",
              "       'Positive'], dtype=object)"
            ]
          },
          "metadata": {},
          "execution_count": 63
        }
      ],
      "source": [
        "y_predicted = model_LinearSVC11.predict(X_test)\n",
        "y_predicted"
      ]
    },
    {
      "cell_type": "code",
      "execution_count": 64,
      "metadata": {
        "colab": {
          "base_uri": "https://localhost:8080/",
          "height": 423
        },
        "id": "HZH2_2KZjFwO",
        "outputId": "30c5cd6a-8fb5-423c-9393-0683a3115629"
      },
      "outputs": [
        {
          "output_type": "execute_result",
          "data": {
            "text/plain": [
              "             0\n",
              "0     Positive\n",
              "1     Positive\n",
              "2     Negative\n",
              "3     Negative\n",
              "4     Positive\n",
              "...        ...\n",
              "5321  Negative\n",
              "5322  Positive\n",
              "5323  Negative\n",
              "5324   Neutral\n",
              "5325  Positive\n",
              "\n",
              "[5326 rows x 1 columns]"
            ],
            "text/html": [
              "\n",
              "  <div id=\"df-e8e5fdf1-fd6f-4b97-bdaf-3834a02a52b6\">\n",
              "    <div class=\"colab-df-container\">\n",
              "      <div>\n",
              "<style scoped>\n",
              "    .dataframe tbody tr th:only-of-type {\n",
              "        vertical-align: middle;\n",
              "    }\n",
              "\n",
              "    .dataframe tbody tr th {\n",
              "        vertical-align: top;\n",
              "    }\n",
              "\n",
              "    .dataframe thead th {\n",
              "        text-align: right;\n",
              "    }\n",
              "</style>\n",
              "<table border=\"1\" class=\"dataframe\">\n",
              "  <thead>\n",
              "    <tr style=\"text-align: right;\">\n",
              "      <th></th>\n",
              "      <th>0</th>\n",
              "    </tr>\n",
              "  </thead>\n",
              "  <tbody>\n",
              "    <tr>\n",
              "      <th>0</th>\n",
              "      <td>Positive</td>\n",
              "    </tr>\n",
              "    <tr>\n",
              "      <th>1</th>\n",
              "      <td>Positive</td>\n",
              "    </tr>\n",
              "    <tr>\n",
              "      <th>2</th>\n",
              "      <td>Negative</td>\n",
              "    </tr>\n",
              "    <tr>\n",
              "      <th>3</th>\n",
              "      <td>Negative</td>\n",
              "    </tr>\n",
              "    <tr>\n",
              "      <th>4</th>\n",
              "      <td>Positive</td>\n",
              "    </tr>\n",
              "    <tr>\n",
              "      <th>...</th>\n",
              "      <td>...</td>\n",
              "    </tr>\n",
              "    <tr>\n",
              "      <th>5321</th>\n",
              "      <td>Negative</td>\n",
              "    </tr>\n",
              "    <tr>\n",
              "      <th>5322</th>\n",
              "      <td>Positive</td>\n",
              "    </tr>\n",
              "    <tr>\n",
              "      <th>5323</th>\n",
              "      <td>Negative</td>\n",
              "    </tr>\n",
              "    <tr>\n",
              "      <th>5324</th>\n",
              "      <td>Neutral</td>\n",
              "    </tr>\n",
              "    <tr>\n",
              "      <th>5325</th>\n",
              "      <td>Positive</td>\n",
              "    </tr>\n",
              "  </tbody>\n",
              "</table>\n",
              "<p>5326 rows × 1 columns</p>\n",
              "</div>\n",
              "      <button class=\"colab-df-convert\" onclick=\"convertToInteractive('df-e8e5fdf1-fd6f-4b97-bdaf-3834a02a52b6')\"\n",
              "              title=\"Convert this dataframe to an interactive table.\"\n",
              "              style=\"display:none;\">\n",
              "        \n",
              "  <svg xmlns=\"http://www.w3.org/2000/svg\" height=\"24px\"viewBox=\"0 0 24 24\"\n",
              "       width=\"24px\">\n",
              "    <path d=\"M0 0h24v24H0V0z\" fill=\"none\"/>\n",
              "    <path d=\"M18.56 5.44l.94 2.06.94-2.06 2.06-.94-2.06-.94-.94-2.06-.94 2.06-2.06.94zm-11 1L8.5 8.5l.94-2.06 2.06-.94-2.06-.94L8.5 2.5l-.94 2.06-2.06.94zm10 10l.94 2.06.94-2.06 2.06-.94-2.06-.94-.94-2.06-.94 2.06-2.06.94z\"/><path d=\"M17.41 7.96l-1.37-1.37c-.4-.4-.92-.59-1.43-.59-.52 0-1.04.2-1.43.59L10.3 9.45l-7.72 7.72c-.78.78-.78 2.05 0 2.83L4 21.41c.39.39.9.59 1.41.59.51 0 1.02-.2 1.41-.59l7.78-7.78 2.81-2.81c.8-.78.8-2.07 0-2.86zM5.41 20L4 18.59l7.72-7.72 1.47 1.35L5.41 20z\"/>\n",
              "  </svg>\n",
              "      </button>\n",
              "      \n",
              "  <style>\n",
              "    .colab-df-container {\n",
              "      display:flex;\n",
              "      flex-wrap:wrap;\n",
              "      gap: 12px;\n",
              "    }\n",
              "\n",
              "    .colab-df-convert {\n",
              "      background-color: #E8F0FE;\n",
              "      border: none;\n",
              "      border-radius: 50%;\n",
              "      cursor: pointer;\n",
              "      display: none;\n",
              "      fill: #1967D2;\n",
              "      height: 32px;\n",
              "      padding: 0 0 0 0;\n",
              "      width: 32px;\n",
              "    }\n",
              "\n",
              "    .colab-df-convert:hover {\n",
              "      background-color: #E2EBFA;\n",
              "      box-shadow: 0px 1px 2px rgba(60, 64, 67, 0.3), 0px 1px 3px 1px rgba(60, 64, 67, 0.15);\n",
              "      fill: #174EA6;\n",
              "    }\n",
              "\n",
              "    [theme=dark] .colab-df-convert {\n",
              "      background-color: #3B4455;\n",
              "      fill: #D2E3FC;\n",
              "    }\n",
              "\n",
              "    [theme=dark] .colab-df-convert:hover {\n",
              "      background-color: #434B5C;\n",
              "      box-shadow: 0px 1px 3px 1px rgba(0, 0, 0, 0.15);\n",
              "      filter: drop-shadow(0px 1px 2px rgba(0, 0, 0, 0.3));\n",
              "      fill: #FFFFFF;\n",
              "    }\n",
              "  </style>\n",
              "\n",
              "      <script>\n",
              "        const buttonEl =\n",
              "          document.querySelector('#df-e8e5fdf1-fd6f-4b97-bdaf-3834a02a52b6 button.colab-df-convert');\n",
              "        buttonEl.style.display =\n",
              "          google.colab.kernel.accessAllowed ? 'block' : 'none';\n",
              "\n",
              "        async function convertToInteractive(key) {\n",
              "          const element = document.querySelector('#df-e8e5fdf1-fd6f-4b97-bdaf-3834a02a52b6');\n",
              "          const dataTable =\n",
              "            await google.colab.kernel.invokeFunction('convertToInteractive',\n",
              "                                                     [key], {});\n",
              "          if (!dataTable) return;\n",
              "\n",
              "          const docLinkHtml = 'Like what you see? Visit the ' +\n",
              "            '<a target=\"_blank\" href=https://colab.research.google.com/notebooks/data_table.ipynb>data table notebook</a>'\n",
              "            + ' to learn more about interactive tables.';\n",
              "          element.innerHTML = '';\n",
              "          dataTable['output_type'] = 'display_data';\n",
              "          await google.colab.output.renderOutput(dataTable, element);\n",
              "          const docLink = document.createElement('div');\n",
              "          docLink.innerHTML = docLinkHtml;\n",
              "          element.appendChild(docLink);\n",
              "        }\n",
              "      </script>\n",
              "    </div>\n",
              "  </div>\n",
              "  "
            ]
          },
          "metadata": {},
          "execution_count": 64
        }
      ],
      "source": [
        "predictions = pd.DataFrame(y_predicted)\n",
        "predictions"
      ]
    },
    {
      "cell_type": "markdown",
      "source": [
        "*Now, I am embarking on a new phase of the analysis where I will predict the sentiments based solely on the descriptions. By isolating the descriptions from the headlines, I aim to explore the sentiment patterns within the textual content itself.*"
      ],
      "metadata": {
        "id": "MIL1oVy23y6R"
      }
    },
    {
      "cell_type": "markdown",
      "metadata": {
        "id": "Es7vXbgybkQF"
      },
      "source": [
        "#### *Description*"
      ]
    },
    {
      "cell_type": "code",
      "execution_count": 65,
      "metadata": {
        "id": "168k17d-x89w"
      },
      "outputs": [],
      "source": [
        "df_description = pd.concat([reuters_headlines, cnbc_headlines], axis=0)\n",
        "df_description['Description'] = df_description['Description'].apply(preprocess)"
      ]
    },
    {
      "cell_type": "code",
      "execution_count": 66,
      "metadata": {
        "colab": {
          "base_uri": "https://localhost:8080/",
          "height": 467
        },
        "id": "u4HURGQbbZ2e",
        "outputId": "608ccc88-5517-4085-f1f3-da0ea057de0d"
      },
      "outputs": [
        {
          "output_type": "execute_result",
          "data": {
            "text/plain": [
              "                                              Headlines  \\\n",
              "0     TikTok considers London and other locations fo...   \n",
              "1     Disney cuts ad spending on Facebook amid growi...   \n",
              "2     Trail of missing Wirecard executive leads to B...   \n",
              "3     Twitter says attackers downloaded data from up...   \n",
              "4     U.S. Republicans seek liability protections as...   \n",
              "...                                                 ...   \n",
              "2785                       Markets lack Christmas cheer   \n",
              "2786  Cramer Remix: The biggest mistake you can make...   \n",
              "2787  Cramer says owning too many stocks and too lit...   \n",
              "2788  Cramer: I helped investors through the 2010 fl...   \n",
              "2789  Cramer: Never buy a stock all at once — you'll...   \n",
              "\n",
              "                                Time  \\\n",
              "0                        Jul 18 2020   \n",
              "1                        Jul 18 2020   \n",
              "2                        Jul 18 2020   \n",
              "3                        Jul 18 2020   \n",
              "4                        Jul 17 2020   \n",
              "...                              ...   \n",
              "2785   10:15  AM ET Tue, 26 Dec 2017   \n",
              "2786  11:12  AM ET Thu, 20 Sept 2018   \n",
              "2787    7:07  PM ET Fri, 22 Dec 2017   \n",
              "2788    7:07  PM ET Fri, 22 Dec 2017   \n",
              "2789    6:52  PM ET Fri, 22 Dec 2017   \n",
              "\n",
              "                                            Description Description Score  \n",
              "0     tiktok discussions uk government past months l...          Positive  \n",
              "1     walt disney become late company slash advertis...          Negative  \n",
              "2     former wirecard chief operating officer jan ma...          Negative  \n",
              "3     twitter inc said saturday hackers able downloa...           Neutral  \n",
              "4     battle us congress new coronavirusaid bill beg...          Negative  \n",
              "...                                                 ...               ...  \n",
              "2785  according kensho heres markets fared week chri...           Neutral  \n",
              "2786  jim cramer revealed top rule comes taxes selli...          Positive  \n",
              "2787  jim cramer broke owning few stocks help make m...          Negative  \n",
              "2788  jim cramer built nobody ever made dime panicki...          Negative  \n",
              "2789  jim cramer doubled key investing rule never bu...          Negative  \n",
              "\n",
              "[35463 rows x 4 columns]"
            ],
            "text/html": [
              "\n",
              "  <div id=\"df-c0b23beb-1f56-457d-944a-1c41ce29b08a\">\n",
              "    <div class=\"colab-df-container\">\n",
              "      <div>\n",
              "<style scoped>\n",
              "    .dataframe tbody tr th:only-of-type {\n",
              "        vertical-align: middle;\n",
              "    }\n",
              "\n",
              "    .dataframe tbody tr th {\n",
              "        vertical-align: top;\n",
              "    }\n",
              "\n",
              "    .dataframe thead th {\n",
              "        text-align: right;\n",
              "    }\n",
              "</style>\n",
              "<table border=\"1\" class=\"dataframe\">\n",
              "  <thead>\n",
              "    <tr style=\"text-align: right;\">\n",
              "      <th></th>\n",
              "      <th>Headlines</th>\n",
              "      <th>Time</th>\n",
              "      <th>Description</th>\n",
              "      <th>Description Score</th>\n",
              "    </tr>\n",
              "  </thead>\n",
              "  <tbody>\n",
              "    <tr>\n",
              "      <th>0</th>\n",
              "      <td>TikTok considers London and other locations fo...</td>\n",
              "      <td>Jul 18 2020</td>\n",
              "      <td>tiktok discussions uk government past months l...</td>\n",
              "      <td>Positive</td>\n",
              "    </tr>\n",
              "    <tr>\n",
              "      <th>1</th>\n",
              "      <td>Disney cuts ad spending on Facebook amid growi...</td>\n",
              "      <td>Jul 18 2020</td>\n",
              "      <td>walt disney become late company slash advertis...</td>\n",
              "      <td>Negative</td>\n",
              "    </tr>\n",
              "    <tr>\n",
              "      <th>2</th>\n",
              "      <td>Trail of missing Wirecard executive leads to B...</td>\n",
              "      <td>Jul 18 2020</td>\n",
              "      <td>former wirecard chief operating officer jan ma...</td>\n",
              "      <td>Negative</td>\n",
              "    </tr>\n",
              "    <tr>\n",
              "      <th>3</th>\n",
              "      <td>Twitter says attackers downloaded data from up...</td>\n",
              "      <td>Jul 18 2020</td>\n",
              "      <td>twitter inc said saturday hackers able downloa...</td>\n",
              "      <td>Neutral</td>\n",
              "    </tr>\n",
              "    <tr>\n",
              "      <th>4</th>\n",
              "      <td>U.S. Republicans seek liability protections as...</td>\n",
              "      <td>Jul 17 2020</td>\n",
              "      <td>battle us congress new coronavirusaid bill beg...</td>\n",
              "      <td>Negative</td>\n",
              "    </tr>\n",
              "    <tr>\n",
              "      <th>...</th>\n",
              "      <td>...</td>\n",
              "      <td>...</td>\n",
              "      <td>...</td>\n",
              "      <td>...</td>\n",
              "    </tr>\n",
              "    <tr>\n",
              "      <th>2785</th>\n",
              "      <td>Markets lack Christmas cheer</td>\n",
              "      <td>10:15  AM ET Tue, 26 Dec 2017</td>\n",
              "      <td>according kensho heres markets fared week chri...</td>\n",
              "      <td>Neutral</td>\n",
              "    </tr>\n",
              "    <tr>\n",
              "      <th>2786</th>\n",
              "      <td>Cramer Remix: The biggest mistake you can make...</td>\n",
              "      <td>11:12  AM ET Thu, 20 Sept 2018</td>\n",
              "      <td>jim cramer revealed top rule comes taxes selli...</td>\n",
              "      <td>Positive</td>\n",
              "    </tr>\n",
              "    <tr>\n",
              "      <th>2787</th>\n",
              "      <td>Cramer says owning too many stocks and too lit...</td>\n",
              "      <td>7:07  PM ET Fri, 22 Dec 2017</td>\n",
              "      <td>jim cramer broke owning few stocks help make m...</td>\n",
              "      <td>Negative</td>\n",
              "    </tr>\n",
              "    <tr>\n",
              "      <th>2788</th>\n",
              "      <td>Cramer: I helped investors through the 2010 fl...</td>\n",
              "      <td>7:07  PM ET Fri, 22 Dec 2017</td>\n",
              "      <td>jim cramer built nobody ever made dime panicki...</td>\n",
              "      <td>Negative</td>\n",
              "    </tr>\n",
              "    <tr>\n",
              "      <th>2789</th>\n",
              "      <td>Cramer: Never buy a stock all at once — you'll...</td>\n",
              "      <td>6:52  PM ET Fri, 22 Dec 2017</td>\n",
              "      <td>jim cramer doubled key investing rule never bu...</td>\n",
              "      <td>Negative</td>\n",
              "    </tr>\n",
              "  </tbody>\n",
              "</table>\n",
              "<p>35463 rows × 4 columns</p>\n",
              "</div>\n",
              "      <button class=\"colab-df-convert\" onclick=\"convertToInteractive('df-c0b23beb-1f56-457d-944a-1c41ce29b08a')\"\n",
              "              title=\"Convert this dataframe to an interactive table.\"\n",
              "              style=\"display:none;\">\n",
              "        \n",
              "  <svg xmlns=\"http://www.w3.org/2000/svg\" height=\"24px\"viewBox=\"0 0 24 24\"\n",
              "       width=\"24px\">\n",
              "    <path d=\"M0 0h24v24H0V0z\" fill=\"none\"/>\n",
              "    <path d=\"M18.56 5.44l.94 2.06.94-2.06 2.06-.94-2.06-.94-.94-2.06-.94 2.06-2.06.94zm-11 1L8.5 8.5l.94-2.06 2.06-.94-2.06-.94L8.5 2.5l-.94 2.06-2.06.94zm10 10l.94 2.06.94-2.06 2.06-.94-2.06-.94-.94-2.06-.94 2.06-2.06.94z\"/><path d=\"M17.41 7.96l-1.37-1.37c-.4-.4-.92-.59-1.43-.59-.52 0-1.04.2-1.43.59L10.3 9.45l-7.72 7.72c-.78.78-.78 2.05 0 2.83L4 21.41c.39.39.9.59 1.41.59.51 0 1.02-.2 1.41-.59l7.78-7.78 2.81-2.81c.8-.78.8-2.07 0-2.86zM5.41 20L4 18.59l7.72-7.72 1.47 1.35L5.41 20z\"/>\n",
              "  </svg>\n",
              "      </button>\n",
              "      \n",
              "  <style>\n",
              "    .colab-df-container {\n",
              "      display:flex;\n",
              "      flex-wrap:wrap;\n",
              "      gap: 12px;\n",
              "    }\n",
              "\n",
              "    .colab-df-convert {\n",
              "      background-color: #E8F0FE;\n",
              "      border: none;\n",
              "      border-radius: 50%;\n",
              "      cursor: pointer;\n",
              "      display: none;\n",
              "      fill: #1967D2;\n",
              "      height: 32px;\n",
              "      padding: 0 0 0 0;\n",
              "      width: 32px;\n",
              "    }\n",
              "\n",
              "    .colab-df-convert:hover {\n",
              "      background-color: #E2EBFA;\n",
              "      box-shadow: 0px 1px 2px rgba(60, 64, 67, 0.3), 0px 1px 3px 1px rgba(60, 64, 67, 0.15);\n",
              "      fill: #174EA6;\n",
              "    }\n",
              "\n",
              "    [theme=dark] .colab-df-convert {\n",
              "      background-color: #3B4455;\n",
              "      fill: #D2E3FC;\n",
              "    }\n",
              "\n",
              "    [theme=dark] .colab-df-convert:hover {\n",
              "      background-color: #434B5C;\n",
              "      box-shadow: 0px 1px 3px 1px rgba(0, 0, 0, 0.15);\n",
              "      filter: drop-shadow(0px 1px 2px rgba(0, 0, 0, 0.3));\n",
              "      fill: #FFFFFF;\n",
              "    }\n",
              "  </style>\n",
              "\n",
              "      <script>\n",
              "        const buttonEl =\n",
              "          document.querySelector('#df-c0b23beb-1f56-457d-944a-1c41ce29b08a button.colab-df-convert');\n",
              "        buttonEl.style.display =\n",
              "          google.colab.kernel.accessAllowed ? 'block' : 'none';\n",
              "\n",
              "        async function convertToInteractive(key) {\n",
              "          const element = document.querySelector('#df-c0b23beb-1f56-457d-944a-1c41ce29b08a');\n",
              "          const dataTable =\n",
              "            await google.colab.kernel.invokeFunction('convertToInteractive',\n",
              "                                                     [key], {});\n",
              "          if (!dataTable) return;\n",
              "\n",
              "          const docLinkHtml = 'Like what you see? Visit the ' +\n",
              "            '<a target=\"_blank\" href=https://colab.research.google.com/notebooks/data_table.ipynb>data table notebook</a>'\n",
              "            + ' to learn more about interactive tables.';\n",
              "          element.innerHTML = '';\n",
              "          dataTable['output_type'] = 'display_data';\n",
              "          await google.colab.output.renderOutput(dataTable, element);\n",
              "          const docLink = document.createElement('div');\n",
              "          docLink.innerHTML = docLinkHtml;\n",
              "          element.appendChild(docLink);\n",
              "        }\n",
              "      </script>\n",
              "    </div>\n",
              "  </div>\n",
              "  "
            ]
          },
          "metadata": {},
          "execution_count": 66
        }
      ],
      "source": [
        "df_description['Description Score'] = df_description['Description'].apply(lambda x: analyse_score(analyzer.polarity_scores(x)['compound']))\n",
        "df_description"
      ]
    },
    {
      "cell_type": "code",
      "execution_count": 67,
      "metadata": {
        "colab": {
          "base_uri": "https://localhost:8080/",
          "height": 507
        },
        "id": "N6LDbNlkbaFi",
        "outputId": "9c2126c4-ce83-4a59-8bc0-afaf9edcae81"
      },
      "outputs": [
        {
          "output_type": "display_data",
          "data": {
            "text/plain": [
              "<Figure size 1000x500 with 2 Axes>"
            ],
            "image/png": "[encoded data removed]"
          },
          "metadata": {}
        }
      ],
      "source": [
        "score_counts = df_description['Description Score'].value_counts()\n",
        "\n",
        "plt.figure(figsize=(10, 5))\n",
        "plt.subplot(121)\n",
        "sns.countplot(x='Description Score', data=df_description, color = 'yellow')\n",
        "plt.title('Sentiments')\n",
        "\n",
        "colors = ['lightgreen',  'red', 'skyblue']\n",
        "plt.subplot(122)\n",
        "plt.pie(score_counts, labels=score_counts.index, colors=colors, autopct='%1.1f%%')\n",
        "plt.title('Sentiment Distribution')\n",
        "\n",
        "plt.tight_layout();"
      ]
    },
    {
      "cell_type": "markdown",
      "source": [
        "* *Upon analyzing the descriptions from the aforementioned chart, it is evident that there are **17,500 positive sentiments**, accounting for **48.7%** of the total.* \n",
        "* *Additionally, there are **12,600 negative sentiments**, representing **37.3%** of the total.*\n",
        "* *Furthermore, there are **500 neutral sentiments**, making up **14.1%** of the overall sentiment distribution.* "
      ],
      "metadata": {
        "id": "xYnIk7vL370p"
      }
    },
    {
      "cell_type": "markdown",
      "metadata": {
        "id": "4D7Xvp6WDMrr"
      },
      "source": [
        "#### *Modeling on the Descriptions*"
      ]
    },
    {
      "cell_type": "code",
      "execution_count": 68,
      "metadata": {
        "id": "d7618d1UbaU_"
      },
      "outputs": [],
      "source": [
        "X_train, X_test, y_train, y_test = train_test_split(df_description['Description'], \n",
        "                                                    df_description['Description Score'], \n",
        "                                                    test_size = 0.1, \n",
        "                                                    random_state = 222 )"
      ]
    },
    {
      "cell_type": "markdown",
      "metadata": {
        "id": "uXxKzftEBtW0"
      },
      "source": [
        "##### *LINEAR SUPPORT VECTOR MACHINE*"
      ]
    },
    {
      "cell_type": "code",
      "execution_count": 69,
      "metadata": {
        "colab": {
          "base_uri": "https://localhost:8080/"
        },
        "id": "EvKJWPFlBs8g",
        "outputId": "b4defdfb-57d9-4141-cc0b-85e647306d00"
      },
      "outputs": [
        {
          "output_type": "stream",
          "name": "stdout",
          "text": [
            "ML Model - Linear SVC\n",
            "\n",
            "Accuracy Score: 85.96%\n",
            "\n",
            "Confusion Matrix\n",
            "[[1162   36  145]\n",
            " [  54  316  111]\n",
            " [ 106   46 1571]]\n",
            "\n",
            "Classification Report\n",
            "              precision    recall  f1-score   support\n",
            "\n",
            "    Negative       0.88      0.87      0.87      1343\n",
            "     Neutral       0.79      0.66      0.72       481\n",
            "    Positive       0.86      0.91      0.89      1723\n",
            "\n",
            "    accuracy                           0.86      3547\n",
            "   macro avg       0.84      0.81      0.83      3547\n",
            "weighted avg       0.86      0.86      0.86      3547\n",
            "\n",
            "CPU times: user 2.04 s, sys: 14.9 ms, total: 2.06 s\n",
            "Wall time: 2.08 s\n"
          ]
        }
      ],
      "source": [
        "%%time\n",
        "pipeline = Pipeline([\n",
        "    ('Tfidf Vectorizer', TfidfVectorizer()),\n",
        "    ('ML Model', LinearSVC())])\n",
        "\n",
        "model_LinearSVC111 = pipeline.fit(X_train, y_train)\n",
        "predictions = model_LinearSVC111.predict(X_test)\n",
        "\n",
        "print('ML Model - Linear SVC\\n')\n",
        "\n",
        "accuracy_LinearSVC111 = accuracy_score(y_test, predictions)\n",
        "print(f\"Accuracy Score: {round(accuracy_LinearSVC111 * 100, 2)}%\")\n",
        "\n",
        "print('\\nConfusion Matrix')\n",
        "print(confusion_matrix(y_test, predictions))\n",
        "\n",
        "print(\"\\nClassification Report\")\n",
        "print(classification_report(y_test, predictions))"
      ]
    },
    {
      "cell_type": "markdown",
      "metadata": {
        "id": "Qjh-GBesCAgn"
      },
      "source": [
        "##### *LOGISTIC REGRESSION*"
      ]
    },
    {
      "cell_type": "code",
      "execution_count": 70,
      "metadata": {
        "colab": {
          "base_uri": "https://localhost:8080/"
        },
        "id": "5qPvgdEVbalN",
        "outputId": "ea339da0-18fd-4df9-febf-b942c2cfdccb"
      },
      "outputs": [
        {
          "output_type": "stream",
          "name": "stdout",
          "text": [
            "Accuracy Score: 81.76%\n",
            "\n",
            "Confusion Matrix\n",
            "[[1115   27  201]\n",
            " [  78  214  189]\n",
            " [ 120   32 1571]]\n",
            "\n",
            "Classification Report\n",
            "              precision    recall  f1-score   support\n",
            "\n",
            "    Negative       0.85      0.83      0.84      1343\n",
            "     Neutral       0.78      0.44      0.57       481\n",
            "    Positive       0.80      0.91      0.85      1723\n",
            "\n",
            "    accuracy                           0.82      3547\n",
            "   macro avg       0.81      0.73      0.75      3547\n",
            "weighted avg       0.82      0.82      0.81      3547\n",
            "\n",
            "CPU times: user 7.03 s, sys: 6.18 s, total: 13.2 s\n",
            "Wall time: 8.25 s\n"
          ]
        }
      ],
      "source": [
        "%%time\n",
        "pipeline = Pipeline([\n",
        "    ('CountVectorizer', CountVectorizer()),\n",
        "    ('Tfidf Vectorizer', TfidfTransformer()),\n",
        "    ('ML Model', LogisticRegression())])\n",
        "\n",
        "model_LogR111 = pipeline.fit(X_train, y_train)\n",
        "predictions = model_LogR111.predict(X_test)\n",
        "\n",
        "accuracy_LogR111 = accuracy_score(y_test, predictions)\n",
        "print(f\"Accuracy Score: {round(accuracy_LogR111 * 100, 2)}%\")\n",
        "\n",
        "print('\\nConfusion Matrix')\n",
        "print(confusion_matrix(y_test, predictions))\n",
        "\n",
        "print(\"\\nClassification Report\")\n",
        "print(classification_report(y_test, predictions))"
      ]
    },
    {
      "cell_type": "markdown",
      "metadata": {
        "id": "I8BD7vSkCBCR"
      },
      "source": [
        "##### *MULTINOMIAL NAIVE BAYES*"
      ]
    },
    {
      "cell_type": "code",
      "execution_count": 71,
      "metadata": {
        "colab": {
          "base_uri": "https://localhost:8080/"
        },
        "id": "js1p6TGzba8S",
        "outputId": "f20326a9-dae7-499f-e4e3-dda39e1cb47a"
      },
      "outputs": [
        {
          "output_type": "stream",
          "name": "stdout",
          "text": [
            "Accuracy Score: 67.55%\n",
            "\n",
            "Confusion Matrix\n",
            "[[ 775    1  567]\n",
            " [  54   18  409]\n",
            " [ 119    1 1603]]\n",
            "\n",
            "Classification Report\n",
            "              precision    recall  f1-score   support\n",
            "\n",
            "    Negative       0.82      0.58      0.68      1343\n",
            "     Neutral       0.90      0.04      0.07       481\n",
            "    Positive       0.62      0.93      0.75      1723\n",
            "\n",
            "    accuracy                           0.68      3547\n",
            "   macro avg       0.78      0.51      0.50      3547\n",
            "weighted avg       0.73      0.68      0.63      3547\n",
            "\n",
            "CPU times: user 1.12 s, sys: 12.4 ms, total: 1.14 s\n",
            "Wall time: 1.15 s\n"
          ]
        }
      ],
      "source": [
        "%%time\n",
        "pipeline = Pipeline([\n",
        "    ('CountVectorizer', CountVectorizer()),\n",
        "    ('Tfidf Vectorizer', TfidfTransformer()),\n",
        "    ('ML Model', MultinomialNB())])\n",
        "\n",
        "model_MNB111 = pipeline.fit(X_train, y_train)\n",
        "predictions = model_MNB111.predict(X_test)\n",
        "\n",
        "accuracy_MNB111 = accuracy_score(y_test, predictions)\n",
        "print(f\"Accuracy Score: {round(accuracy_MNB111 * 100, 2)}%\")\n",
        "\n",
        "print('\\nConfusion Matrix')\n",
        "print(confusion_matrix(y_test, predictions))\n",
        "\n",
        "print(\"\\nClassification Report\")\n",
        "print(classification_report(y_test, predictions))\n"
      ]
    },
    {
      "cell_type": "markdown",
      "metadata": {
        "id": "Dr3rS4jICBuW"
      },
      "source": [
        "##### *BERNOULLI NAIVE BAYES*"
      ]
    },
    {
      "cell_type": "code",
      "execution_count": 72,
      "metadata": {
        "colab": {
          "base_uri": "https://localhost:8080/"
        },
        "id": "_TW_kKXsCBY9",
        "outputId": "17ed9a6f-2be2-4f80-9511-0f4a2c3c5b07"
      },
      "outputs": [
        {
          "output_type": "stream",
          "name": "stdout",
          "text": [
            "Accuracy Score: 71.64%\n",
            "\n",
            "Confusion Matrix\n",
            "[[ 975   27  341]\n",
            " [  92  152  237]\n",
            " [ 263   46 1414]]\n",
            "\n",
            "Classification Report\n",
            "              precision    recall  f1-score   support\n",
            "\n",
            "    Negative       0.73      0.73      0.73      1343\n",
            "     Neutral       0.68      0.32      0.43       481\n",
            "    Positive       0.71      0.82      0.76      1723\n",
            "\n",
            "    accuracy                           0.72      3547\n",
            "   macro avg       0.71      0.62      0.64      3547\n",
            "weighted avg       0.71      0.72      0.70      3547\n",
            "\n",
            "CPU times: user 1.15 s, sys: 8.49 ms, total: 1.16 s\n",
            "Wall time: 1.17 s\n"
          ]
        }
      ],
      "source": [
        "%%time\n",
        "pipeline = Pipeline([\n",
        "    ('CountVectorizer', CountVectorizer()),\n",
        "    ('Tfidf Vectorizer', TfidfTransformer()),\n",
        "    ('ML Model', BernoulliNB())\n",
        "])\n",
        "\n",
        "model_BNB111 = pipeline.fit(X_train, y_train)\n",
        "predictions = model_BNB111.predict(X_test)\n",
        "\n",
        "accuracy_BNB111 = accuracy_score(y_test, predictions)\n",
        "print(f\"Accuracy Score: {round(accuracy_BNB111 * 100, 2)}%\")\n",
        "\n",
        "print('\\nConfusion Matrix')\n",
        "print(confusion_matrix(y_test, predictions))\n",
        "\n",
        "print(\"\\nClassification Report\")\n",
        "print(classification_report(y_test, predictions))\n"
      ]
    },
    {
      "cell_type": "markdown",
      "metadata": {
        "id": "Y8UhunbZCCMk"
      },
      "source": [
        "##### *CATBOOST CLASSIFIER*"
      ]
    },
    {
      "cell_type": "code",
      "execution_count": 73,
      "metadata": {
        "colab": {
          "base_uri": "https://localhost:8080/"
        },
        "id": "-zkv9t07bbQX",
        "outputId": "13b0be13-02f4-41fb-89be-fbc522b6ef6d"
      },
      "outputs": [
        {
          "output_type": "stream",
          "name": "stdout",
          "text": [
            "ML Model - CatBoost\n",
            "\n",
            "Accuracy Score: 62.22%\n",
            "\n",
            "Confusion Matrix\n",
            "[[ 599    3  741]\n",
            " [   5   24  452]\n",
            " [ 134    5 1584]]\n",
            "\n",
            "Classification Report\n",
            "              precision    recall  f1-score   support\n",
            "\n",
            "    Negative       0.81      0.45      0.58      1343\n",
            "     Neutral       0.75      0.05      0.09       481\n",
            "    Positive       0.57      0.92      0.70      1723\n",
            "\n",
            "    accuracy                           0.62      3547\n",
            "   macro avg       0.71      0.47      0.46      3547\n",
            "weighted avg       0.69      0.62      0.57      3547\n",
            "\n",
            "CPU times: user 35.1 s, sys: 1.17 s, total: 36.2 s\n",
            "Wall time: 22.2 s\n"
          ]
        }
      ],
      "source": [
        "%%time\n",
        "pipeline = Pipeline([\n",
        "    ('CountVectorizer', CountVectorizer()),\n",
        "    ('Tfidf Vectorizer', TfidfTransformer()),\n",
        "    ('ML Model', CatBoostClassifier(iterations=10, random_state=33, verbose=False))\n",
        "])\n",
        "\n",
        "model_CB111 = pipeline.fit(X_train, y_train)\n",
        "predictions = model_CB111.predict(X_test)\n",
        "print('ML Model - CatBoost\\n')\n",
        "\n",
        "accuracy_CB111 = accuracy_score(y_test, predictions)\n",
        "print(f\"Accuracy Score: {round(accuracy_CB111 * 100, 2)}%\")\n",
        "\n",
        "print('\\nConfusion Matrix')\n",
        "print(confusion_matrix(y_test, predictions))\n",
        "\n",
        "print(\"\\nClassification Report\")\n",
        "print(classification_report(y_test, predictions))"
      ]
    },
    {
      "cell_type": "code",
      "execution_count": 74,
      "metadata": {
        "colab": {
          "base_uri": "https://localhost:8080/"
        },
        "id": "0eppnIMiCEEl",
        "outputId": "9a54728a-826c-4011-bb5e-05b230e11dbb"
      },
      "outputs": [
        {
          "output_type": "stream",
          "name": "stdout",
          "text": [
            "LinearSVC\n",
            "Classification Report \n",
            "               precision    recall  f1-score   support\n",
            "\n",
            "    Negative       0.88      0.87      0.87      1343\n",
            "     Neutral       0.79      0.66      0.72       481\n",
            "    Positive       0.86      0.91      0.89      1723\n",
            "\n",
            "    accuracy                           0.86      3547\n",
            "   macro avg       0.84      0.81      0.83      3547\n",
            "weighted avg       0.86      0.86      0.86      3547\n",
            "\n",
            "Logistic Regression\n",
            "Classification Report \n",
            "               precision    recall  f1-score   support\n",
            "\n",
            "    Negative       0.85      0.83      0.84      1343\n",
            "     Neutral       0.78      0.44      0.57       481\n",
            "    Positive       0.80      0.91      0.85      1723\n",
            "\n",
            "    accuracy                           0.82      3547\n",
            "   macro avg       0.81      0.73      0.75      3547\n",
            "weighted avg       0.82      0.82      0.81      3547\n",
            "\n",
            "Multinomial Naive Bayes\n",
            "Classification Report \n",
            "               precision    recall  f1-score   support\n",
            "\n",
            "    Negative       0.82      0.58      0.68      1343\n",
            "     Neutral       0.90      0.04      0.07       481\n",
            "    Positive       0.62      0.93      0.75      1723\n",
            "\n",
            "    accuracy                           0.68      3547\n",
            "   macro avg       0.78      0.51      0.50      3547\n",
            "weighted avg       0.73      0.68      0.63      3547\n",
            "\n",
            "Bernoulli's Naive Bayes\n",
            "Classification Report \n",
            "               precision    recall  f1-score   support\n",
            "\n",
            "    Negative       0.73      0.73      0.73      1343\n",
            "     Neutral       0.68      0.32      0.43       481\n",
            "    Positive       0.71      0.82      0.76      1723\n",
            "\n",
            "    accuracy                           0.72      3547\n",
            "   macro avg       0.71      0.62      0.64      3547\n",
            "weighted avg       0.71      0.72      0.70      3547\n",
            "\n",
            "CatBoost\n",
            "Classification Report \n",
            "               precision    recall  f1-score   support\n",
            "\n",
            "    Negative       0.81      0.45      0.58      1343\n",
            "     Neutral       0.75      0.05      0.09       481\n",
            "    Positive       0.57      0.92      0.70      1723\n",
            "\n",
            "    accuracy                           0.62      3547\n",
            "   macro avg       0.71      0.47      0.46      3547\n",
            "weighted avg       0.69      0.62      0.57      3547\n",
            "\n"
          ]
        }
      ],
      "source": [
        "models = [model_LinearSVC111,\n",
        "          model_LogR111, \n",
        "          model_MNB111,\n",
        "          model_BNB111,\n",
        "          model_CB111]\n",
        "\n",
        "names = ['LinearSVC', \n",
        "         'Logistic Regression', \n",
        "         'Multinomial Naive Bayes',\n",
        "         'Bernoulli\\'s Naive Bayes',\n",
        "         'CatBoost']\n",
        "\n",
        "model_comparision(models, names, X_train, y_train, X_test, y_test)"
      ]
    },
    {
      "cell_type": "markdown",
      "source": [
        "> *After analyzing the descriptions from the three newspapers, it is evident that the ***Linear SVC*** algorithm outperformed other algorithms in accurately predicting sentiments with an accuracy score of ***85.9%***, it demonstrated its superior performance in accurately classifying the sentiments conveyed in the descriptions.*"
      ],
      "metadata": {
        "id": "5tX0xhp44K5l"
      }
    },
    {
      "cell_type": "markdown",
      "metadata": {
        "id": "6ffMQY_00ufo"
      },
      "source": [
        "#### *Predicting*"
      ]
    },
    {
      "cell_type": "code",
      "execution_count": 75,
      "metadata": {
        "colab": {
          "base_uri": "https://localhost:8080/"
        },
        "id": "uRUtaAhZ0wwU",
        "outputId": "8b5c34c3-466f-4507-8f80-69206842982c"
      },
      "outputs": [
        {
          "output_type": "execute_result",
          "data": {
            "text/plain": [
              "array(['Negative'], dtype=object)"
            ]
          },
          "metadata": {},
          "execution_count": 75
        }
      ],
      "source": [
        "sent1 = ['GST officers detect Rs 4,000 crore of ITC fraud in April-June']\n",
        "y_predict = model_LinearSVC1.predict(sent1)\n",
        "y_predict"
      ]
    },
    {
      "cell_type": "code",
      "execution_count": 76,
      "metadata": {
        "colab": {
          "base_uri": "https://localhost:8080/"
        },
        "id": "_YJqDGt71DGn",
        "outputId": "8e8ac614-22e5-4f22-b6fb-5b7c0ca94af3"
      },
      "outputs": [
        {
          "output_type": "execute_result",
          "data": {
            "text/plain": [
              "array(['Positive'], dtype=object)"
            ]
          },
          "metadata": {},
          "execution_count": 76
        }
      ],
      "source": [
        "sent2 = [\"Finance Ministry releases Rs 9,871 crore to 17 states as grant\"]\n",
        "y_predict = model_LinearSVC1.predict(sent2)\n",
        "y_predict"
      ]
    },
    {
      "cell_type": "markdown",
      "source": [
        "***`Project Conclusion:`*** \n",
        "> *Sentiment Analysis of Newspaper Headlines and Descriptions*\n",
        "\n",
        "* *In this project, I conducted sentiment analysis on three different data frames containing time, headlines, and descriptions from various newspapers (CNBC, the Guardian, and Reuters Headlines) . The project workflow involved loading the data, handling duplicates and missing values, and performing **sentiment analysis using the VADER** (Valence Aware Dictionary and sEentiment Reasoner) lexicon from the NLTK library.*\n",
        "\n",
        "* *I started by merging the description and headline columns into a single text column and predicted the sentiments of the combined dataset. Utilizing algorithms such as **Linear SVC, Logistic Regression, Naive Bayes (Multinomial and Bernoulli), and CatBoost**, I aimed to accurately classify the sentiments as positive, negative, or neutral. After evaluating the performance of these algorithms, Linear SVC stood out with an impressive accuracy of almost 90%.*\n",
        "\n",
        "* *Furthermore, I proceeded to analyze the sentiments individually based on the headlines and descriptions separately. This approach allowed me to gain insights into the sentiment composition of each aspect*\n",
        "\n",
        "* *Overall, The project's findings highlight the significance of considering both the headlines and descriptions when predicting sentiments in financial news. This comprehensive approach using machine learning algorithms can aid in extracting valuable insights from textual data and assist in decision-making processes.*\n"
      ],
      "metadata": {
        "id": "-MS7Lto37idw"
      }
    }
  ],
  "metadata": {
    "colab": {
      "provenance": [],
      "include_colab_link": true
    },
    "kernelspec": {
      "display_name": "Python 3",
      "language": "python",
      "name": "python3"
    },
    "language_info": {
      "codemirror_mode": {
        "name": "ipython",
        "version": 3
      },
      "file_extension": ".py",
      "mimetype": "text/x-python",
      "name": "python",
      "nbconvert_exporter": "python",
      "pygments_lexer": "ipython3",
      "version": "3.7.6"
    }
  },
  "nbformat": 4,
  "nbformat_minor": 0
}